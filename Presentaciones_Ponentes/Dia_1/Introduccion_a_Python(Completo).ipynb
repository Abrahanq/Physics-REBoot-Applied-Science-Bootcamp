{
  "nbformat": 4,
  "nbformat_minor": 0,
  "metadata": {
    "colab": {
      "name": "Introduccion_a_Python_Full.ipynb",
      "provenance": [],
      "collapsed_sections": [
        "MiHPIF12lLfh",
        "1fCWmgUgmX3D",
        "G7B1SgF0obfZ",
        "fVH2zOczTYS0",
        "ziJNmz60d08C",
        "cuGk7FYId4xD",
        "o1_NCLBK8la5",
        "EeMLvI9z8pZK"
      ],
      "toc_visible": true,
      "authorship_tag": "ABX9TyNZaZtIwSqG1RKagP2mMB7b",
      "include_colab_link": true
    },
    "kernelspec": {
      "name": "python3",
      "display_name": "Python 3"
    },
    "language_info": {
      "name": "python"
    }
  },
  "cells": [
    {
      "cell_type": "markdown",
      "metadata": {
        "id": "view-in-github",
        "colab_type": "text"
      },
      "source": [
        "<a href=\"https://colab.research.google.com/github/COFAlumni-USB/Physics-REBoot-Applied-Science-Bootcamp/blob/main/Presentaciones_Ponentes/Dia_1/Introduccion_a_Python(Completo).ipynb\" target=\"_parent\"><img src=\"https://colab.research.google.com/assets/colab-badge.svg\" alt=\"Open In Colab\"/></a>"
      ]
    },
    {
      "cell_type": "markdown",
      "metadata": {
        "id": "BoH7knGDdy_7"
      },
      "source": [
        "<p><img alt=\"Colaboratory logo\" height=\"45px\" src=\"/img/colab_favicon.ico\" align=\"left\" hspace=\"10px\" vspace=\"0px\"></p>\n",
        "\n",
        "<h1>Google Colab</h1>\n",
        "\n",
        "Google Colaboratory permite escribir y ejecutar códigos de Python en el browser sin necesidad de tener python instalado en tu computadora.\n",
        "\n",
        "- Sin necesidad de configurar nada\n",
        "- Acceso gratis a GPU's \n",
        "- Usar y Compartir archivos facilmente"
      ]
    },
    {
      "cell_type": "markdown",
      "metadata": {
        "id": "yBC7SGmVdrWj"
      },
      "source": [
        "![python_logo.png](data:image/png;base64,iVBORw0KGgoAAAANSUhEUgAAAPoAAABKCAYAAACSJklIAAAABGdBTUEAALGPC/xhBQAAACBjSFJNAAB6JgAAgIQAAPoAAACA6AAAdTAAAOpgAAA6mAAAF3CculE8AAAABmJLR0QA/wD/AP+gvaeTAAAXp0lEQVR42u1deXxU1fX/nvsmM4RggiwiSF1oaRUURWj5uWvr8lPcqMYNoTLzZghYf5Raa7W2DHa1Wqu1tZDMDLhWRetu+VFci2uhav1BraiICZsLW4BMZt495/dHJmHy8iaZGZIQ8H7zyWfm3ffenZlz7/eec88791zAwMDAwMCgsxAMBofNnDmz1Eii++EzIjDoSoTD4ZEAzhaRcwAcW19ffyCAOiOZvYzo43+1eBhb/BXWGAbgYGG9LxPKFEsvFgkA3CCaGwTYwYz1JLJKRD5O+9R7L0fPW2uaaM+FbdtXi8gtRhJ7IdEro8v9Dft8MkEzXwzB8Sw8UBgABCICACAWsGSORSBA5pyAm45gpTVOuH7B+8x8N8H5w5JfT9xkmmvPgoj4icgIogdAdWZl59z63Ek7+nyyglkeIJEJEB4oGUK3kLrNMVodo/X5rxBwo4jv3eOvvf8c01wGBruZ6ON/++KxzPS/IvLlPAjsIj1yDALN/7wfMx479ur7JpkmMzDYnRpd+PcQCewkKC9nwe9F8Iw0IadWzx4YkFPzi2LimnFX3zvCNJuBwW6Yo591y7MHQWRMCzFZnvq0X79vL5s6Ng0Ap/7smTBBqnNq7cwfIK3+4CqDIACW2QAqTdPtHgSDwSMTicTbRhK7Tf6nKKUuIaIDmLmeiLaKyBwiqmHmcxOJxNrKykp/RUXFcwAuicVidZ2m0Ql0aDaBBXRjM8kBYPFPzqoRyOrcBPaer3sPCjz+mJkPmWex3YgpU6Z8KRwOz7Bte5lS6k0jkd2HRCLxfCwWmyoibwO4K/N+A4ADLMsaDwDl5eVnARimlAp0qunOzH2zCQyV3trGshfZ2i6BW47RwXxeSlPp7QeZJu8ehMPhGyzLWi0itwE42kikx+KvInIKABDRmUS0uNPn6EIoaUVGhyZmn/9m9MmjIRjRAYGzjtHufJ5Il5t27R6IyP4AzDOyno8dAMS27UEi4ohIY6fP0aF557Pwpjn3j0/7xV/7MfNCgL8Mxg0iYnVE4PwGATFNamDgNYUmekZEbldK3SUi3+58oqMNgZWIXEkiV2bPu/Mz3dtqdfc1Rr0YGGCtiGzJcC9NRLVE9JSIRDJm+xhmbux0oudD4A4fo7XxusPTC29g8EVHLBb7Y/P7efPmfQrgpszhSZnXn3f6HB0anULgfE33tGlnA4OC0CkaXZWkFzuN1mlN44YDEECsQQAc2jmPp4xXxyECtIBFriTI+QV74R3HtJyBQXcT/Zkfjl8PYH2h9x3/oz+fw1y4F76n4oorruhbUlIyVkSOFJGvAehHRBXNcygAa4no5c2bNz+/YMECXWj9kUikt4icLSKHx2KxnxZ6f2VlpX/AgAFl2WWDBg2qj0ajrUbO6dOn9xGREgBIp9O93PVMmzZtX3fZoEGDtkSjUd4VX1JVVdWQVCo1QCnVXym1XSm1as6cOZ90RttMnjy5v9/vPxfAaACDAQwEsFVE1hPRSmZ+IpFI/Kcz+8PUqVOHO47zdSI6GsBgIhrAzL2JaDuAD0VkqWVZf62url6324l+7k1LhmifExLWp4nI1yDST0R87TvTOKeGzi7LJnnHXni08rpL7cx+KFGfe3zlbQA+AuRJMN1KQ377WReTu1dJSckkEakEcHIzQbJXbWW/FxFUVFSsCoVCN8Tj8fvz+Qzbtk8DMIWZzwHQB8A/ABRM9IqKignpdPqB7LI1a9acDODF7LJUKvUwgDNyETKdTm90F65bt+6rAFYWOnAx86UAzgJwguM4A5Vqmk0yM5gZ4XD4bRG5c+jQoQn3gJSn7A4D8BsA/+3V35vbRin1G9u2lxPRrJqamkeK7Q/BYHCsUioIYILWen9327v7BTM7tm0vUEr9qLq6+uNuJ3rlQw9Zybr9fqw5fb2wBPIIZMn7OXguAuflle8YfSB8OCCHAxyW9VeeTfv/8fXOFlw0GvXV1tZeRUTXiMjgAm8/hIjus2379C1btoTy0O4/B/CNvcWMjEQiFSJyPTOHAezb3rUiciSAuXV1dVdEIpFzq6urP8uzfVRdXd2NAH4IoCTPrzZSRB4Oh8OLiOiKQjRtJBIZx8y/BPDNIjh4qYiMDwaDlYlEYlG3ET0yd2nJ2tptD4rIhG4jsCv2HfB24rWPTD1gQBgQGQAtC2Vd1WgaPOejzjTJ6urq7ieisR6n3yOiRSLyDhFtBdDIzAcT0XgA33Jd+53y8vLNAL7Xk4hIRCtFZEDm8MCMmZuNZe57UqlUMs+6L2DmHwIY4nH6k6bGw/4e545h5mcjkcgx1dXVOzqYoli1tbUxIrrCdYoBPA/gNRH5CMAQpdRoERmfPRiIyOnM/GIkEjm1Iy07efLk/oFA4HfMfDmyAouIaCszP0NEL4nIxwCSSqkyERkL4FIAX3ENaOVKqceCweCJiURiabcQfc32bTdBZEJ3Elhcse9edXRM8gzBm983vfaFo28DcH5nCMy27cO01s8DGJRVvIOI5gKYU1NT816OW38XDAZPV0o9CKBvVoeYEQqF3ozH43f1FKLX1NRclfV7/wDgymxBx2KxscXWnQmlzSbe4wDu9/v9C++8885tmc8cCuAaAFehdVTeKK31za7v0wbl5eV/cpOciBZpraclEokPPbTxYGa+BcBlWdcPZ+aXpkyZ8vXM46s2CIfDp4rIPZnowWZsAnCj1jqeSCTqPW57IhqNRmtra2cQ0U0ua6NUKVUTjUbH7KK/o2Oin3Xri0eAZUZ3Ejh7TXquz22/93BGi8vO11Zlcp6snjKCDpq3ohO03Q9EJJvkaSIa3Q7BW5BIJBaFQqHziOg5AFZWnTdPnDjx0fvuu2/rF8gR/JDWeva8eW3bJLPiaoZt2x8AuN0l/3AoFPpNPB5f7VVpKBSqJKKwq3heTU1NCDmCMDIm+kTbtlcB+HHWqYMsy6rJpSREZJLL+mjw+XyHduRAzJD4d7ZtbwUQc50+qq6u7hsAXutMYbd5jk4sN0BYZT8D70oC55Ntpn0trrNMdb3z1V0GuaiLOqyTD8mbEY/HXxKRua7igaWlpT/4ghB8tYicGYvFLvYiuYvwvwfwN1dxCRFdlMuMJqI5ruI3lVJTkUek1dChQ39KRO458nm2bV+eb18o5ClBLBaLux2hGfxXZwu9FdErb32lFODxrdaHdyGB8zH/c9B7B8jp3WKqtxA8+19naXUNCF/UU3q6z+e7LWO2trIgKysrrb2d5cz8zXg8vrCA672SS57oda3f758KoJ+r+Nrq6uq8Yqyi0Sgrpb4LQLusiOvQdQt7Eh5lA7qU6A26cZwIyrqDwPk+RvNq+xJWtfBhaBuCw036rPfQh8nKiUN7QmefO3fuSgDu5A2D+vbte8reTnSlVKqQ6+vr658FsN1VfICHA84P4Ltu6yEWiy0utG2I6EmXiT4iFAqd0UXyeMNrhtilRNeEMd1B4I7raHdC/tqy6qlboOXEneRuQ2pvslu6J62nfs5jzncuDFoh8+jxXVdxhfu6ioqKcWgKhGnl+EIRiyNE5BEPQp7fFb8vmUx+2i0DbKsjzWO7nMCu2HfkTCGV8yvf3LSAjS/OYaLnnqeLHtNTOrCIvONRNtpQ2xMb89B4XuZ8sdlwXvBomxO74odprdPdTnQiHNXVBBZ0PJDkdr3RA2/9KfI41ky/AMJH563NWwYB6TFEJ6IPPbTGKJgkD16DopPHNV4BRf8u5vMyXv8truJDJ06cuMcmPFEux8dgTwJL5xB41x6jyf37NvinyMdXDQb49sK1OQNwDulBc9W1Hp21PBKJ9DfULmrg3M9DnrsS/uzeNorKysoG7qnyaXmOPmbu0hJs2ljuSWDsOoGLfIyWBuRFEdz+9pxpT8nayIFgehrCQ1pFwMH13LzNc/WW9z2JRJ7RXY7jlAP4zFC3YK3f370rDBHV70J929z1aa37A/hgjyb6oC31/bUIdQKBRUSeE+AREX4HytrATqNumVlR5iXZbEwk4RU7qYQa991/w4YXolFHBISfVF0C5tsgPKhDUntGyTEg0j+zrkB6KtGJqMLQtiiUeFhNehfq85o799rjNbo4DVqgitk2KXtQeIvA0165+fLXAEBWRXsh0LAfrFThy2F1eh+wHAp72jis0RdDeJRLO3dEaq9BwId/nd4bWLR9dwtea2157UsmIpbhbFGm+2aP4t67UF+fPJyCex7RP+m/3+b+n30q4qnV89g2ieXxxrI+ly2dtSyJmVd/B4QqoH4cAIJ0lMhGvEmL5jIp1ETPNQikMGrRjp4geGYus6y2nPb5fGYzyeKw2UPGfQEUtfRTRMo8pgKb93hn3LKpY9MiUl9kltal4liXLp3ycgAb6heBMB9NYXwde5C9otnaj3DrwOHWntedP+8hZjuIqJ9XeTKZ3Gw4WxRWeZB1WPHNQ+7VdTuGDh26fo8nekYya9rV2hnt63LYpbXwZa/YKzR6pR5H26WYHWhxD4K3H+G2K4PApz1G8EoN9yj+7O677/7ccLYoDfy6B1sPLaauqqqqIQDKXMXLikl80SOJLuA3c26bhJzbJt31+s0TV6LfthkQOqEgknsSOI8It+K0OcD8zx4k+5EeZcsKnXIZtBDda7XXSUX6T0Z51P/KniwfF9Hpn4VumwTGn0WiCiTfz69F2tPEBWhnKWIQgH6xB8n+dA8NtCTPewcYardGZuNHd4DMCcFgcJ8iBo0zPcr+vNcQnbQsKzSufRuc17GufjS8s4K4tHguc7yTTfRc1zvUI4heVVV1MIBxbgFZlnVvjlvcDrovRSKRAw292wyU7rXdZZZlTSykjkgkUoK2689f3dN3kG1F9FLgDRFJ5ueAAyCy9V+3TN4OCwfl7XBDlzvccl3/Fh350qqeIHTHca5DVuKJDBbPmZMz3ZWXoynUTeRxJ8OgYrRkdyCdTicAbMguY+ZrJ02aVFaA2T4JwJdcMvjlnj4ItiL6k9FzdgjT4gJ2XcksOZTePcjh5lGnAIR4F8nQHw6HJyLPGPVQKHQOANvdv0Tk2nbI9pgH0a8JBoPH5PslbdseBODiIn7fKg9H4lE9sTPPnz9/MxFd7ZLdwX6//xd5avMDPUj9cE1NzVN7FdGbBOPMaXfXFck3YeNucri574UAhAaA7+8iGVoicq9t22/Ytv3taDSay1FGtm1PIaIHPeR+Zzwez7nSavPmzYs9HHWllmUttG17SjQaVe1ME/azbXsWgP8AmFCE9bEQrkQMIjKjp3bompqa+9wDYyYv38/aG4ynTp06nJmfRutcgGsdx7lqb5jWtOmUz994wdMn3vDIi4CcJLlWo3W00qzdQJa8g1tQZJhrVsBNs/0md9IRr3Z1VNNYAI/U1dWtsW17oYi8QkSfE5Fi5iOUUheLyAgPbb3IrYXcWLBggY5EIlOY+e/IWostIuUAEnV1dT8Oh8OPAnhLRDYRUR8RGUZEpziOcxKAQK66mbnduIJ58+bV2rY9H0Ao6ztfEA6H447jROfNm1fb0zq11nqyUmoxslJkE9ENtm2fAuBWpdSr1dXV66dPn16WTCYPVUpdorWeiqac+c34XETOnj9//vq9kugAoBx1hVb8hogMLCzVk+QmcKFEzpfUnte3wmo0Nv6sK6eGAN4AcFzm+AAAISIKZcjYFFzvPSj+TWt9YSKR6HBNcnV19TvhcPg0EXkabdMvf1lEfpA1ALR6zcIGl8aCiHT42cw8Uyl1RDZxRCRoWdYVtm3XAnhfKTWpO3YcyQeJRKI+GAyeSkT3ElF2Mo/jABzHzLBtW6dSKat5wwgX3tVaX9BRTrs92nQHgBd+PeEj0fo0iKzucNOGnuVwc/+UtSCMp7HLtnSlby0Wix0vIhMyhM8H20Tk+7FY7IwcKYFzmaX/cBxnVCYDSr4RfpsAPEhEZymlRntYFMl8iKOUOgXAHQBSrv5zEIBv5YgN361kj8fj5wP4TiaHe5spl0fZFiK6USk1Zm8ieU6NDgBLbrrk7THRJ0cEGrZXCesLABkugoHu7DJNthIAak8TF7WktEBLoKXfbwPwIQhPQdMtNGpJt8SOx+PxxwA8FgqFDieiC9AUAnw4gH0yhFgF4H0ReSKVSj18zz33FLWwJmNKXpjZauhCAMeiaTOEksxv/1xEPiSiFUqppZs2bVravBNMVVXVAczs1taN+XxuZtOE/6mqqvp5Op2eQERfR9PmDn0BJImozRoCy7Ie1Vq/n11WXl5ecOQfEf1KROZlHecrO4nFYndXVlbe17dv31NF5CwAozLfuwJNe699QkT/B+DZxsbGJwppFxH5I4CnspyUBUfOlZWVNWit3YlL/93Z/bNTspnI2hmXA3yP5zy5PVKDv0eHPHj7njQyhsPhuIgEs4oaYrFY7z3huweDwWFKqQ9cnfXgXDnSDb4AGr1A90eRDjf5qnxwwalNVWQPhk7mv/lQZ5UDKGl4g4a/vtU0X8Ga0T0gSe/evdcbyRiiF0B0KcbhNh3g6RAGyH0vdl7vnhak1LgC5sMGOzHIdbzxjjvuaDRiMUTPk+dZ68c76/FZe/N6kz6xWI3uzoduTHZD9EI1OtCNDjeD4jDaRfx/GJF8MaA6r6pOjXB7H6yDgDMB0A+1CYAxKBatVmWJiCG60egFgDU6McJtI0ROoJEvNjuJHpPlxwGCi0xzFQ/bti8F8LWsokYRedRIxmj0AuBs6cQlpc/SyBfcnuD7Wn+c2mKaLn+Ew+FjAfzJVXxPPB7faKRjNHr+ILUCnEYnOdza7obBVAFqMd13oLzEOJHyQCQSKdFazxCR2WidEXW14zjXGAkZohfG8wPv+kA+vGQJwMfvssON5FR55/iT6YglLwCArBxXjhSuaZmikzxCh7yQNE3njWg06qurqxsL4AxmDnt52pVS35o/f/5mIy1D9CLYrq8Cy8sQ7l28NgcgsECySJYf9xeIfI5GOgeQ5kQAnyMt15lma6W1D9Van51JhHhYXV3dkWib2LAZf/H5fNPmzJnziZGcIXpxPD9kwVuy8sIJAC8AuLzoJaVNKIHgYtcD8w0QnE1HvbrGNNtOaK2HE9HN7V0jIksA/CIejy80EjNE33WyD394kbx/7hgw/wHCZxSxpNSznwL0IMg3kw5/YbeHaxLR7Myikcu81pd3NyzLeomZHVdbCoAVAJ5RSj1QXV39T9PVv9joshgzWXnmCGhnMgQhgAd4ryVvF+tAtABMcTri7//qicILhUKjlVKVNTU11+/m73EdEQWIaL2IvJdKpd42+eENuoXoLYR//mQfBlqjodLHQvhYCIYB2B+QgWjKfLIZhE0Q+hQib0LJa2B+HYe/9m5P2VXFwMDAwMDAwMDAwMDAwMDAwMCgM7A7VnaTiGD27Nktnz1r1izJ7EVtnG8GBnsC0UWEZs+ebY0YMUK9+uqr1pAhQxQzq9LSUtJaq0AgQMlkksrLy5FMJgkAUqmU9OrVSxobG6WxsVGIiJVSbFkW+3w+3rhxowbA0WiUTZMZGOw+olM0GrUA+MrKyqxAIGD5fD7LsiyroaHBKi0tVb169VLJZNKyLIv8fr9yHIcCgaZ9BbTWorUWy7K4sbGRlVLMzJqZ9fbt2zmVSulkMqkBOIMHD9br1q3ThvQGBt1I9Gg0qgYPHmxt377dFwgErFQq5SspKbECgYDPcRxfWVmZ5TiOLxAIWIFAwAJgOY7jKy0tVUopYmbRWjMAnUqldGNjoxYR7TiOU1JS4mzbtk37fD5Ha60DgYBTW1urATjLly/XzWmMDQwM2scur0efNWuWAMDWrVsFALZsaVoq7jiO+P1+cRxHiIiZWRoaGiSZTIrf79fpdFqn02nd0NDAjuNwMpkUpRQ3//v9ftmxYwf8fr8AQGNjo3z22WcoLy8XABg5cqSZzxsYdPcc/aGHHrJWrFhhlZeXW4FAwKqvr7f8fr9VVlamlFIWMytmVoFAQPl8PkqlUi2f3TwgWJbFjuMIM+uGhgZWSnE6ndapVEo3NDTofv366Y0bN+poNKphHHcGBt1PdLc5n7EWWv2XlpZSaWkp7dixgwC0OON69eolvXv3loaGBunTp4/4fD5et24d9+vXT4wjzsDAwMDAwMDAwAAA/h/hs1NT3fMlJAAAACV0RVh0ZGF0ZTpjcmVhdGUAMjAyMS0wNS0xNlQwMDo1NzowNSswMDowMDC6tbMAAAAldEVYdGRhdGU6bW9kaWZ5ADIwMjEtMDUtMTZUMDA6NTc6MDUrMDA6MDBB5w0PAAAAAElFTkSuQmCC)"
      ]
    },
    {
      "cell_type": "markdown",
      "metadata": {
        "id": "SsXtAYSpX9tt"
      },
      "source": [
        "<h1> Python <h1>\n",
        "\n",
        "* Lenguaje de programación de alto nivel\n",
        "* Interpretado vs. Compilado\n",
        "*    ~~...There should be one-- and preferably only one --obvious way to do it...~~ [The Zen of Python](https://www.python.org/dev/peps/pep-0020/)\n",
        "* $\\rightarrow$ Hay distintas maneras de resolver un problema, algunas mejores que otras.\n"
      ]
    },
    {
      "cell_type": "markdown",
      "metadata": {
        "id": "jdIUcpsEa_LF"
      },
      "source": [
        "# Introduccion\n",
        "\n",
        "**Caracteristicas:**\n",
        "  * Interpretado vs. Compilado\n",
        "  * Manejo automático de memoria\n",
        "  * Sintáxis simple\n",
        "  * Lenguaje orientado a objetos"
      ]
    },
    {
      "cell_type": "markdown",
      "metadata": {
        "id": "-MHntQZzhgoT"
      },
      "source": [
        "**Sintaxis:**"
      ]
    },
    {
      "cell_type": "code",
      "metadata": {
        "colab": {
          "base_uri": "https://localhost:8080/",
          "height": 52
        },
        "id": "JowJH6ywhtlZ",
        "outputId": "898ac8b1-4195-4346-d8b8-f65cf82f8f65"
      },
      "source": [
        "\n",
        "#  ----> Al principio para comentar una linea entera\n",
        "Variable_1 = 0 # Al final de un statement para escribir comentarios sobre la linea en específico\n",
        "\n",
        "# No es necesario terminar cada statement con un ';'\n",
        "\n",
        "'''\n",
        "Usamos 3 comillas ('') o (\") para generar un comentario de bloque. Usado comunmente para describir el funcionamiento de una expresión o función\n",
        "''' \n",
        "  # Indentacion: tabulador (Tab) o equivalentemente '4' espacios (default) al finalizar un statement que termine en \":\" (Loops o Definiciones)\n",
        "    # De usar sucesivamente nuevos statements involucrando loops o definiciones, nuevas indentaciones deben hacerse.\n",
        "    # Las indentaciones delimitan las lineas de código a ejecutar dentro de cada loop o definición\n",
        "\n",
        "''' (\\) ---> Usamos este separador al final de la linea para facilitar la lectura cuando la expresión que escribimos es muy larga, la expresión continúa en\n",
        "la linea inferior siguiente sin impactar la ejecución del código\n",
        "'''\n",
        "\n",
        "print('Hola Mundo') # Es usado para imprimir en la consola de Python. Como argumentos se pueden usar todo tipo de variables, incluso funciones a evaluar. "
      ],
      "execution_count": null,
      "outputs": [
        {
          "output_type": "execute_result",
          "data": {
            "application/vnd.google.colaboratory.intrinsic+json": {
              "type": "string"
            },
            "text/plain": [
              "' (\\\\) ---> Usamos este separador al final de la linea para facilitar la lectura cuando la expresion que escribimos es muy larga, la expresion continua en\\nla linea inferior siguiente sin impactar la ejecucion del codigo\\n'"
            ]
          },
          "metadata": {},
          "execution_count": 13
        }
      ]
    },
    {
      "cell_type": "markdown",
      "metadata": {
        "id": "P_yN2i32e-Yj"
      },
      "source": [
        "**Objetos:**\n",
        "\n",
        "Constructos que pueden contener datos o información, asi como instrucciones de cálculo y\\o metodos que permiten realizar operaciones sobre ellos mismos o sobre otros objetos. \n",
        "  Los objetos pueden pertenecer a clases o 'familias', heredando asi propiedades semejantes a otros miembros de su clase\n",
        "\n",
        "Ejemplos:\n",
        "  * Variables\n",
        "  * Contenedores: Listas, Arreglos, Diccionarios\n",
        "  * Funciones\n",
        "  * Clases"
      ]
    },
    {
      "cell_type": "markdown",
      "metadata": {
        "id": "iE4dqcFlbti8"
      },
      "source": [
        "# Variables y tipos de datos"
      ]
    },
    {
      "cell_type": "markdown",
      "metadata": {
        "id": "5WXa7Zh0cBl4"
      },
      "source": [
        "Enteros:"
      ]
    },
    {
      "cell_type": "code",
      "metadata": {
        "colab": {
          "base_uri": "https://localhost:8080/"
        },
        "id": "IAi-Hb-sb346",
        "outputId": "b49e31bf-1851-4cdd-84ef-df4da6101dee"
      },
      "source": [
        "x = 1\n",
        "a = int(1)\n",
        "x,a"
      ],
      "execution_count": 1,
      "outputs": [
        {
          "output_type": "execute_result",
          "data": {
            "text/plain": [
              "(1, 1)"
            ]
          },
          "metadata": {},
          "execution_count": 1
        }
      ]
    },
    {
      "cell_type": "markdown",
      "metadata": {
        "id": "PVqWnCbEcO8b"
      },
      "source": [
        "Floats:"
      ]
    },
    {
      "cell_type": "code",
      "metadata": {
        "colab": {
          "base_uri": "https://localhost:8080/"
        },
        "id": "wpU9kUNMcOKK",
        "outputId": "69154914-bf31-4852-e9e6-6e88cc1758cf"
      },
      "source": [
        "x = 1.0\n",
        "a = 5.3\n",
        "b = float(1)\n",
        "x,a,b"
      ],
      "execution_count": null,
      "outputs": [
        {
          "output_type": "execute_result",
          "data": {
            "text/plain": [
              "(1.0, 5.3, 1.0)"
            ]
          },
          "metadata": {},
          "execution_count": 4
        }
      ]
    },
    {
      "cell_type": "markdown",
      "metadata": {
        "id": "HdQ3B0hUcons"
      },
      "source": [
        "Complejos:"
      ]
    },
    {
      "cell_type": "code",
      "metadata": {
        "colab": {
          "base_uri": "https://localhost:8080/"
        },
        "id": "GwxBy0rgcqnD",
        "outputId": "2d3b7ced-946e-4208-8a8b-fc278b7897ad"
      },
      "source": [
        "z = 3+5j\n",
        "z_bar = 3-5j\n",
        "z,z_bar"
      ],
      "execution_count": null,
      "outputs": [
        {
          "output_type": "execute_result",
          "data": {
            "text/plain": [
              "((3+5j), (3-5j))"
            ]
          },
          "metadata": {},
          "execution_count": 5
        }
      ]
    },
    {
      "cell_type": "markdown",
      "metadata": {
        "id": "7BzW4HXGc5kz"
      },
      "source": [
        "Strings:"
      ]
    },
    {
      "cell_type": "code",
      "metadata": {
        "id": "QZ7fSxC0c70z"
      },
      "source": [
        "S_1 = 'a'\n",
        "S_2 = \"a\"\n",
        "H = 'Hello'\n",
        "W = 'World'\n",
        "S_3 = 'Hello World'"
      ],
      "execution_count": null,
      "outputs": []
    },
    {
      "cell_type": "markdown",
      "metadata": {
        "id": "vm_qq4KTlCRK"
      },
      "source": [
        "# Operadores"
      ]
    },
    {
      "cell_type": "markdown",
      "metadata": {
        "id": "2wFzo48oYvEi"
      },
      "source": [
        "## Operadores Aritméticos"
      ]
    },
    {
      "cell_type": "markdown",
      "metadata": {
        "id": "MiHPIF12lLfh"
      },
      "source": [
        "###Adición"
      ]
    },
    {
      "cell_type": "code",
      "metadata": {
        "colab": {
          "base_uri": "https://localhost:8080/"
        },
        "id": "FPJHf9lBlIiK",
        "outputId": "84988f9f-4595-4dbc-c641-0eb56901484d"
      },
      "source": [
        "x = 1\n",
        "y = 2\n",
        "print(x+y) # 3 (entero)\n",
        "x = 1.0\n",
        "print(x+y) # 3.0 (float)  ---> int + float = float\n",
        "x = 2.1 + 5.2j\n",
        "print(x+y) # 5 + 5j (complejo, float)\n",
        "H = 'Hello'\n",
        "W = 'World'\n",
        "blank = ' '\n",
        "print(H+blank+W)\n"
      ],
      "execution_count": 2,
      "outputs": [
        {
          "output_type": "stream",
          "text": [
            "3\n",
            "3.0\n",
            "(4.1+5.2j)\n",
            "Hello World\n"
          ],
          "name": "stdout"
        }
      ]
    },
    {
      "cell_type": "markdown",
      "metadata": {
        "id": "WdwHH_Sbltkk"
      },
      "source": [
        "###Substracción"
      ]
    },
    {
      "cell_type": "code",
      "metadata": {
        "colab": {
          "base_uri": "https://localhost:8080/"
        },
        "id": "6PPK5VsplvbC",
        "outputId": "557e790c-aa8c-4c2b-fb9d-4142bfa6dbd6"
      },
      "source": [
        "x = 3\n",
        "y = 2\n",
        "print(x-y) # 1 (entero)\n",
        "x = 3.0\n",
        "print(x-y) # 1.0 (float)  ---> int - float = float"
      ],
      "execution_count": 3,
      "outputs": [
        {
          "output_type": "stream",
          "text": [
            "1\n",
            "1.0\n"
          ],
          "name": "stdout"
        }
      ]
    },
    {
      "cell_type": "code",
      "metadata": {
        "id": "wYolhRIqmIVy",
        "colab": {
          "base_uri": "https://localhost:8080/",
          "height": 163
        },
        "outputId": "59f9c0d1-73a5-47ac-c61f-a6965210dc4e"
      },
      "source": [
        "H-W  # ---> Error, este operador no se puede aplicar a Strings"
      ],
      "execution_count": 4,
      "outputs": [
        {
          "output_type": "error",
          "ename": "TypeError",
          "evalue": "ignored",
          "traceback": [
            "\u001b[0;31m---------------------------------------------------------------------------\u001b[0m",
            "\u001b[0;31mTypeError\u001b[0m                                 Traceback (most recent call last)",
            "\u001b[0;32m<ipython-input-4-d328d702d861>\u001b[0m in \u001b[0;36m<module>\u001b[0;34m()\u001b[0m\n\u001b[0;32m----> 1\u001b[0;31m \u001b[0mH\u001b[0m\u001b[0;34m-\u001b[0m\u001b[0mW\u001b[0m  \u001b[0;31m# ---> Error, este operador no se puede aplicar a Strings\u001b[0m\u001b[0;34m\u001b[0m\u001b[0;34m\u001b[0m\u001b[0m\n\u001b[0m",
            "\u001b[0;31mTypeError\u001b[0m: unsupported operand type(s) for -: 'str' and 'str'"
          ]
        }
      ]
    },
    {
      "cell_type": "markdown",
      "metadata": {
        "id": "1fCWmgUgmX3D"
      },
      "source": [
        "###Multiplicación"
      ]
    },
    {
      "cell_type": "code",
      "metadata": {
        "id": "3vra-PpvmZsW"
      },
      "source": [
        "x = 1\n",
        "y = 2\n",
        "print(x*y) # 2 (entero)\n",
        "x = 1.0\n",
        "print(x*y) # 2.0 (float)\n",
        "z = 1+2j\n",
        "z_bar = 1-2j\n",
        "print(z*z_bar) # Norma de un numero complejo"
      ],
      "execution_count": null,
      "outputs": []
    },
    {
      "cell_type": "markdown",
      "metadata": {
        "id": "sOjwA6eTmn1C"
      },
      "source": [
        "###División"
      ]
    },
    {
      "cell_type": "code",
      "metadata": {
        "id": "x5Ll4bDVmotm"
      },
      "source": [
        "x = 4\n",
        "y = 2\n",
        "print(x/y) # Siempre da como resultado float, aunque los inputs sean enteros.\n",
        "x = 3\n",
        "print(x/y)\n"
      ],
      "execution_count": null,
      "outputs": []
    },
    {
      "cell_type": "markdown",
      "metadata": {
        "id": "Y84-Y1ogoH85"
      },
      "source": [
        "**bold text**###División Entera"
      ]
    },
    {
      "cell_type": "code",
      "metadata": {
        "id": "DGU3LY_UoJY5"
      },
      "source": [
        "x = 4\n",
        "y = 2\n",
        "print(x//y) # Siempre da como resultado un numero entero redondado hacia abajo.\n",
        "x = 3\n",
        "print(x//y)"
      ],
      "execution_count": null,
      "outputs": []
    },
    {
      "cell_type": "markdown",
      "metadata": {
        "id": "G7B1SgF0obfZ"
      },
      "source": [
        "###Módulo\n",
        "\n",
        "$a \\equiv r \\pmod b$\n",
        "\n",
        "Es el resto (entero) $r$ obtenido de dividir $a$ entre $b$"
      ]
    },
    {
      "cell_type": "code",
      "metadata": {
        "id": "g9M0fnlHodUh"
      },
      "source": [
        "a = 4\n",
        "b = 3\n",
        "print(a%b) # a modulo b"
      ],
      "execution_count": null,
      "outputs": []
    },
    {
      "cell_type": "markdown",
      "metadata": {
        "id": "xhvwQgpPpnE_"
      },
      "source": [
        "Puedes imaginar alguna aplicacion para el operador modulo?"
      ]
    },
    {
      "cell_type": "markdown",
      "metadata": {
        "id": "Jm_R7kFrqEca"
      },
      "source": [
        "###Exponenciación"
      ]
    },
    {
      "cell_type": "code",
      "metadata": {
        "id": "77XfF-gTqGk2"
      },
      "source": [
        "x = 3\n",
        "y = 4\n",
        "print(x**y) # x^y = 81"
      ],
      "execution_count": null,
      "outputs": []
    },
    {
      "cell_type": "markdown",
      "metadata": {
        "id": "TTm8Ncw3Se-M"
      },
      "source": [
        "##Operadores de comparación\n"
      ]
    },
    {
      "cell_type": "markdown",
      "metadata": {
        "id": "uENRNAtagsmb"
      },
      "source": [
        "###Igualdad"
      ]
    },
    {
      "cell_type": "code",
      "metadata": {
        "id": "K7Bvst0OSod5"
      },
      "source": [
        "x = 1\n",
        "y = 2\n",
        "z = 1"
      ],
      "execution_count": 14,
      "outputs": []
    },
    {
      "cell_type": "code",
      "metadata": {
        "colab": {
          "base_uri": "https://localhost:8080/"
        },
        "id": "yhZ9WZqDSuWU",
        "outputId": "2413ccd1-e60c-4d6b-c539-93f1637461ae"
      },
      "source": [
        "x == y"
      ],
      "execution_count": 15,
      "outputs": [
        {
          "output_type": "execute_result",
          "data": {
            "text/plain": [
              "False"
            ]
          },
          "metadata": {},
          "execution_count": 15
        }
      ]
    },
    {
      "cell_type": "code",
      "metadata": {
        "colab": {
          "base_uri": "https://localhost:8080/"
        },
        "id": "mkEXOxlkSwGm",
        "outputId": "62b5b5cd-fd6f-4250-99e0-727dc4254b96"
      },
      "source": [
        "x == z"
      ],
      "execution_count": 16,
      "outputs": [
        {
          "output_type": "execute_result",
          "data": {
            "text/plain": [
              "True"
            ]
          },
          "metadata": {},
          "execution_count": 16
        }
      ]
    },
    {
      "cell_type": "markdown",
      "metadata": {
        "id": "DdUdhr0rS0O0"
      },
      "source": [
        "###Desigualdad"
      ]
    },
    {
      "cell_type": "code",
      "metadata": {
        "colab": {
          "base_uri": "https://localhost:8080/"
        },
        "id": "HFrdjqprTQKk",
        "outputId": "df79c54c-f60b-4340-c733-4015b2537666"
      },
      "source": [
        "x != y"
      ],
      "execution_count": 17,
      "outputs": [
        {
          "output_type": "execute_result",
          "data": {
            "text/plain": [
              "True"
            ]
          },
          "metadata": {},
          "execution_count": 17
        }
      ]
    },
    {
      "cell_type": "code",
      "metadata": {
        "colab": {
          "base_uri": "https://localhost:8080/"
        },
        "id": "wYV2NXaNTTek",
        "outputId": "447322ee-ff45-4363-d9a5-1290fa5bda71"
      },
      "source": [
        "x != z"
      ],
      "execution_count": 18,
      "outputs": [
        {
          "output_type": "execute_result",
          "data": {
            "text/plain": [
              "False"
            ]
          },
          "metadata": {},
          "execution_count": 18
        }
      ]
    },
    {
      "cell_type": "markdown",
      "metadata": {
        "id": "fVH2zOczTYS0"
      },
      "source": [
        "###Mayor/Menor que"
      ]
    },
    {
      "cell_type": "code",
      "metadata": {
        "colab": {
          "base_uri": "https://localhost:8080/"
        },
        "id": "Fb-fwxkfTeNs",
        "outputId": "f7d263d7-dc28-4ff6-a8ef-e942b11e79cc"
      },
      "source": [
        "x > y"
      ],
      "execution_count": 19,
      "outputs": [
        {
          "output_type": "execute_result",
          "data": {
            "text/plain": [
              "False"
            ]
          },
          "metadata": {},
          "execution_count": 19
        }
      ]
    },
    {
      "cell_type": "code",
      "metadata": {
        "colab": {
          "base_uri": "https://localhost:8080/"
        },
        "id": "PumCEvsJTncl",
        "outputId": "0bc5d26e-d56f-4f95-fc4b-e82429f1fcff"
      },
      "source": [
        "x >= z"
      ],
      "execution_count": 20,
      "outputs": [
        {
          "output_type": "execute_result",
          "data": {
            "text/plain": [
              "True"
            ]
          },
          "metadata": {},
          "execution_count": 20
        }
      ]
    },
    {
      "cell_type": "code",
      "metadata": {
        "colab": {
          "base_uri": "https://localhost:8080/"
        },
        "id": "ve4D4MJ4TxUE",
        "outputId": "e86684c2-c6aa-438b-96d7-16d5d52f0eeb"
      },
      "source": [
        "x < y"
      ],
      "execution_count": 21,
      "outputs": [
        {
          "output_type": "execute_result",
          "data": {
            "text/plain": [
              "True"
            ]
          },
          "metadata": {},
          "execution_count": 21
        }
      ]
    },
    {
      "cell_type": "code",
      "metadata": {
        "colab": {
          "base_uri": "https://localhost:8080/"
        },
        "id": "-hBKEH68Tz2k",
        "outputId": "50681fbe-2025-4db3-aa13-15cb2f621c5d"
      },
      "source": [
        "x <= z"
      ],
      "execution_count": 22,
      "outputs": [
        {
          "output_type": "execute_result",
          "data": {
            "text/plain": [
              "True"
            ]
          },
          "metadata": {},
          "execution_count": 22
        }
      ]
    },
    {
      "cell_type": "markdown",
      "metadata": {
        "id": "l1M8Iqq3RjU3"
      },
      "source": [
        "## Operadores Lógicos\n",
        "\n",
        "Los 3 operadores lógicos mas usados son:\n",
        "\n",
        "  * `and` $\\equiv$ `&`\n",
        "  * `or` $\\equiv$ `|`\n",
        "  * `not` $\\equiv$ `~`\n",
        "\n",
        "`S1`  | `S2` | `and`| `or` | `and not`| `or not`|\n",
        "----|----|-----|----|------|------|\n",
        "1|1 | `True`| `True` | `False`| `True`\n",
        "1|0 | `False`| `True`  | `True` |`True`\n",
        "0|1 | `False`| `True` |`True` | `False`\n",
        "0|0 |`True`| `False`|`False`| `True`\n",
        "\n",
        "\n",
        "\n",
        "**Notas Importantes**\n",
        "  * `and`, `or` y `not` se usan cuando se comparan variables booleanas `True` y/o `False`.\n",
        "  * `&`, `|` y `~` se usan cuando se comparan otro tipo de variables"
      ]
    },
    {
      "cell_type": "code",
      "metadata": {
        "colab": {
          "base_uri": "https://localhost:8080/"
        },
        "id": "FiXAOcvZT6Dc",
        "outputId": "d3522f27-f9e8-4a80-9a8a-54d4f3b1c75e"
      },
      "source": [
        "\n",
        "s1 = True\n",
        "s2 = False\n",
        "\n",
        "print(s1 and s2) #\n",
        "print(s1 and s1)\n",
        "print(s2 and s2)\n",
        "print(s1 or s2)\n",
        "print(s1 and not s2)\n",
        "print(s1 and not s1)\n",
        "\n",
        "# Ejemplo con Sets\n",
        "set_1 = {1,2,3,6,5,87,4}\n",
        "set_2 = {3,4,2,8,10}\n",
        "\n",
        "Interseccion = set_1 & set_2 # Intersección entre dos conjuntos\n",
        "Union = set_1 | set_2 # Unión entre dos conjuntos\n",
        "\n",
        "print(Interseccion)\n",
        "print(Union)"
      ],
      "execution_count": 27,
      "outputs": [
        {
          "output_type": "stream",
          "text": [
            "False\n",
            "True\n",
            "False\n",
            "True\n",
            "True\n",
            "False\n",
            "{2, 3, 4}\n",
            "{1, 2, 3, 4, 5, 6, 8, 10, 87}\n"
          ],
          "name": "stdout"
        }
      ]
    },
    {
      "cell_type": "markdown",
      "metadata": {
        "id": "xTnd3L5tWFfz"
      },
      "source": [
        "Como determinamos el complemento de la intersección?"
      ]
    },
    {
      "cell_type": "code",
      "metadata": {
        "colab": {
          "base_uri": "https://localhost:8080/"
        },
        "id": "TavfKmngWL1L",
        "outputId": "d72ccf39-4261-486f-b67b-74b264752d3c"
      },
      "source": [
        "Union - Interseccion"
      ],
      "execution_count": 31,
      "outputs": [
        {
          "output_type": "execute_result",
          "data": {
            "text/plain": [
              "{1, 5, 6, 8, 10, 87}"
            ]
          },
          "metadata": {},
          "execution_count": 31
        }
      ]
    },
    {
      "cell_type": "markdown",
      "metadata": {
        "id": "ziJNmz60d08C"
      },
      "source": [
        "## Operadores de Memebresia"
      ]
    },
    {
      "cell_type": "markdown",
      "metadata": {
        "id": "cuGk7FYId4xD"
      },
      "source": [
        "### `in / not in`"
      ]
    },
    {
      "cell_type": "code",
      "metadata": {
        "id": "VbStdRyTd8m1"
      },
      "source": [
        "Data = [1,2,3,4,5]\n",
        "\n",
        "print(3 in Data)\n",
        "print(6 not in Data)"
      ],
      "execution_count": null,
      "outputs": []
    },
    {
      "cell_type": "markdown",
      "metadata": {
        "id": "CxDj3nVYZlb5"
      },
      "source": [
        "# Contenedores"
      ]
    },
    {
      "cell_type": "markdown",
      "metadata": {
        "id": "hEaZeglxg6wL"
      },
      "source": [
        "## Listas\n",
        "\n",
        "  * Pueden contener variables de distintos tipos\n",
        "  * Operaciones matemáticas limitadas dependiendo del tipo de variable que contengan.\n",
        "  * No es necesario conocer a priori el numero de elementos que tendra la lista\n",
        "  * Cada entrada en la lista puede ser modificada a traves de operaciones matemáticas"
      ]
    },
    {
      "cell_type": "code",
      "metadata": {
        "id": "6brS6kQlg-Bb"
      },
      "source": [
        "# Inicializamos una lista vacia\n",
        "Lista_1 = list() # Una lista vacia\n",
        "Lista_2 = [] # Otra lista vacia\n",
        "# Inicializamos una lista con algunos elementos:\n",
        "L_1 = [1,2,3,4,5,6,'1','2','3','4','5','6',7.0,7.1,7.2,5j,1,3,2,5,7,1]"
      ],
      "execution_count": null,
      "outputs": []
    },
    {
      "cell_type": "markdown",
      "metadata": {
        "id": "lkK6B0iOubKE"
      },
      "source": [
        "### Metodos o Propiedades de Listas mas usados"
      ]
    },
    {
      "cell_type": "markdown",
      "metadata": {
        "id": "gFI4vtdiuk7v"
      },
      "source": [
        "`Lista.index( a )` =  determina el primer indice donde el elemento 'a' aparece en 'Lista'"
      ]
    },
    {
      "cell_type": "code",
      "metadata": {
        "colab": {
          "base_uri": "https://localhost:8080/"
        },
        "id": "U1xmX1WDue5I",
        "outputId": "800a17c6-531f-4f58-c0de-62a28b50f83e"
      },
      "source": [
        "L_1.index('1')"
      ],
      "execution_count": null,
      "outputs": [
        {
          "output_type": "execute_result",
          "data": {
            "text/plain": [
              "6"
            ]
          },
          "metadata": {},
          "execution_count": 53
        }
      ]
    },
    {
      "cell_type": "markdown",
      "metadata": {
        "id": "N_S3Hw6Ovo-J"
      },
      "source": [
        "`Lista.append(a)` = Agrega el elemento 'a' al final de la lista "
      ]
    },
    {
      "cell_type": "code",
      "metadata": {
        "colab": {
          "base_uri": "https://localhost:8080/"
        },
        "id": "EZ2TH8qgvqHf",
        "outputId": "3bfd4999-4dd1-496b-8f0e-24ea13d42619"
      },
      "source": [
        "L_1.append('Hello World')\n",
        "print(L_1)"
      ],
      "execution_count": null,
      "outputs": [
        {
          "output_type": "stream",
          "text": [
            "[1, 2, 3, 4, 5, 6, '1', '2', '3', '4', '5', '6', 7.0, 7.1, 7.2, 5j, 'Hello World', 'Hello World']\n"
          ],
          "name": "stdout"
        }
      ]
    },
    {
      "cell_type": "markdown",
      "metadata": {
        "id": "OUqyZjsbwM91"
      },
      "source": [
        "`Lista.count(a)` = Cuenta el numero de elementos de la lista con el valor 'a'"
      ]
    },
    {
      "cell_type": "code",
      "metadata": {
        "colab": {
          "base_uri": "https://localhost:8080/"
        },
        "id": "k923JiLbwW8w",
        "outputId": "7a7cba8a-ca2c-4a2a-95cf-7a41dd6d645b"
      },
      "source": [
        "L_1.count(1)"
      ],
      "execution_count": null,
      "outputs": [
        {
          "output_type": "execute_result",
          "data": {
            "text/plain": [
              "3"
            ]
          },
          "metadata": {},
          "execution_count": 58
        }
      ]
    },
    {
      "cell_type": "markdown",
      "metadata": {
        "id": "dfsBh0HFwjJA"
      },
      "source": [
        "`Lista.remove(a)` = remueve el primer elemento de la lista con el valor 'a'"
      ]
    },
    {
      "cell_type": "code",
      "metadata": {
        "colab": {
          "base_uri": "https://localhost:8080/"
        },
        "id": "x7SjVg74wozQ",
        "outputId": "c28d9f6e-b759-466f-d544-75b655fa8f72"
      },
      "source": [
        "L_1.remove(1)\n",
        "print(L_1)"
      ],
      "execution_count": null,
      "outputs": [
        {
          "output_type": "stream",
          "text": [
            "[2, 3, 4, 5, '1', '2', '3', '4', '5', '6', 7.0, 7.1, 7.2, 5j, 1, 3, 2, 5, 7, 1]\n"
          ],
          "name": "stdout"
        }
      ]
    },
    {
      "cell_type": "markdown",
      "metadata": {
        "id": "amhWrgVuwsQg"
      },
      "source": [
        "`Lista.pop(a)` = remueve el elemento de la lista con el índice 'a'"
      ]
    },
    {
      "cell_type": "code",
      "metadata": {
        "colab": {
          "base_uri": "https://localhost:8080/"
        },
        "id": "eOodbHvBw515",
        "outputId": "8f098396-755c-4bc4-f919-ad10bc166268"
      },
      "source": [
        "L_1.pop(5) # Removemos el entero 5\n",
        "print(L_1)"
      ],
      "execution_count": null,
      "outputs": [
        {
          "output_type": "stream",
          "text": [
            "[1, 2, 3, 4, 5, '1', '2', '3', '4', '5', '6', 7.0, 7.1, 7.2, 5j, 1, 3, 2, 5, 7, 1]\n"
          ],
          "name": "stdout"
        }
      ]
    },
    {
      "cell_type": "markdown",
      "metadata": {
        "id": "szUxKHAp9gZe"
      },
      "source": [
        "##Diccionarios\n",
        "\n",
        "Son objetos que asignan un `string` como indice para referirse a los elementos que contienen. Un diccionario puede a su vez contener otros diccionarios, asi como listas u otros objetos."
      ]
    },
    {
      "cell_type": "code",
      "metadata": {
        "colab": {
          "base_uri": "https://localhost:8080/"
        },
        "id": "TwaV1jYo-Kuu",
        "outputId": "69c8f93b-e43f-4061-a77b-1c0e208c9fe6"
      },
      "source": [
        "D = {} # Definimos un diccionario vacio\n",
        "D_2 = dict() # Otra manera de definir un diccionario\n",
        "\n",
        "D_3 = {'Colores':['Rojo','Azul','Amarillo'],\n",
        "       'Numeros':[0,1,2,3,4,5,6]}\n",
        "\n",
        "D_3['Sub_Dict'] = {'Colores':['Naranja']}\n",
        "\n",
        "print(D_3)\n",
        "print(D_3['Colores'])\n",
        "print(D_3['Numeros']) \n",
        "print(D_3['Sub_Dict']['Colores'])"
      ],
      "execution_count": null,
      "outputs": [
        {
          "output_type": "stream",
          "text": [
            "['Rojo', 'Azul', 'Amarillo']\n",
            "[0, 1, 2, 3, 4, 5, 6]\n"
          ],
          "name": "stdout"
        }
      ]
    },
    {
      "cell_type": "markdown",
      "metadata": {
        "id": "gNEXJA8PxXJI"
      },
      "source": [
        "##Conjuntos\n",
        "\n",
        "* Objetos que agrupan los elementos unicos que forman parte de otro objeto. Si un elemento aparece varias veces solo sera considerado una sola vez en la creacion del conjunto. "
      ]
    },
    {
      "cell_type": "code",
      "metadata": {
        "colab": {
          "base_uri": "https://localhost:8080/"
        },
        "id": "i_QxNiJzyPR9",
        "outputId": "5f264ef8-1028-4d17-99f5-81bebba37575"
      },
      "source": [
        "L_s = [1,4,3,6,87,9,4,2,3,4,1,2,7,8,4,3,2,56,8,1]\n",
        "set(L_s)"
      ],
      "execution_count": null,
      "outputs": [
        {
          "output_type": "execute_result",
          "data": {
            "text/plain": [
              "{1, 2, 3, 4, 6, 7, 8, 9, 56, 87}"
            ]
          },
          "metadata": {},
          "execution_count": 61
        }
      ]
    },
    {
      "cell_type": "markdown",
      "metadata": {
        "id": "RldaNHueqyzx"
      },
      "source": [
        "# **Índices**\n",
        "\n",
        "La enumeración de índices en Python comienza desde cero ($0$) . En consecuencia si un objeto tiene $n$ elementos, sus índices variaran entre $\\{0,\\dots,n-1\\}$ . Es posible también usar indices negativos, en cuyo caso son contados desde el último elemento del objeto empezando por ($-1$) variando entre $\\{-1,\\dots,-n\\}$.\n",
        "\n",
        "Si este objeto a su vez tiene $j$ dimensiones, cada elemento tendra $j$ indices. Es importante tener esto en mente pues a traves de los índices podemos manipular los objetos para realizar operaciones sobre grupos específicos de elementos.\n",
        "\n",
        "De esta manera para seleccionar un objeto en específico usaremos el nombre del objeto seguido de corchetes y los correspondientes índices que describen la posición del elemento deseado dentro del objeto\n",
        "  \n",
        "    Objeto[i,j,k,...] \n",
        "\n",
        "Estas propiedades de los índices aplican para otros objetos en Python\n"
      ]
    },
    {
      "cell_type": "code",
      "metadata": {
        "colab": {
          "base_uri": "https://localhost:8080/"
        },
        "id": "pj3urM7As54R",
        "outputId": "3f01180c-c608-482b-b75a-aa37b574c8ad"
      },
      "source": [
        "L_1 = [0,1,2,3]\n",
        "print(L_1[0] )# Seleccionamos el primer elemento de L_1\n",
        "L_2 = [[1,2,3],[4,5,6],[7,[8,9]]]\n",
        "print(L_2)\n",
        "print(L_2[0][1]) # Seleccionamos el segundo elemento del primer grupo de L_2\n",
        "print(L_2[2][1][1]) # Seleccionamos el elemento con valor igual a 9\n",
        "\n",
        "\n",
        "S = 'Hola Mundo'\n",
        "print(S[1],S[3])\n"
      ],
      "execution_count": null,
      "outputs": [
        {
          "output_type": "stream",
          "text": [
            "0\n",
            "[[1, 2, 3], [4, 5, 6], [7, [8, 9]]]\n",
            "2\n",
            "9\n",
            "o a\n"
          ],
          "name": "stdout"
        }
      ]
    },
    {
      "cell_type": "markdown",
      "metadata": {
        "id": "n6m47Rz5gGSK"
      },
      "source": [
        "##Slices\n",
        "\n",
        "Utilizando índices es posible seleccionar mas de un elemento de un objeto.\n",
        "A traves del uso de `[start:end]` podemos seleccionar un fragmento del objeto con índices entre `start` y `end`. Si el objeto posee multiples dimensiones, podemos tomar slices en cada una de las dimensiones simultaneamente, separando los índices o slices en cada dimensión por una `,` o separando los índices de cada dimensión con `[]`.\n",
        "\n"
      ]
    },
    {
      "cell_type": "code",
      "metadata": {
        "colab": {
          "base_uri": "https://localhost:8080/"
        },
        "id": "c0tcg7HzjQSz",
        "outputId": "1e6ea40d-8ebf-4909-a20c-47d3f17fab3f"
      },
      "source": [
        "A = [[1,2,3],\n",
        "     [4,5,6],\n",
        "     [7,8,9]]\n",
        "\n",
        "print(A[1][1:])"
      ],
      "execution_count": null,
      "outputs": [
        {
          "output_type": "stream",
          "text": [
            "[5, 6]\n"
          ],
          "name": "stdout"
        }
      ]
    },
    {
      "cell_type": "markdown",
      "metadata": {
        "id": "PNEveBqRWdpd"
      },
      "source": [
        "#Declaraciones de Control\n",
        "\n",
        "  * Condicionales: `if`, `elif`, `else`\n",
        "  * Loops: `for`, `while`\n",
        "  * Control de flujo: `break`, `pass`, `continue`\n",
        "  * Control de excepciones: `try` - `except`\n",
        "\n",
        "  Al finalizar cada declaración es necesario usar  `:` y comenzar la siguiente linea de instrucciones con un `tab` o **4** espacios.\n",
        "  No es necesario sin embargo incluir **end**"
      ]
    },
    {
      "cell_type": "markdown",
      "metadata": {
        "id": "HsBglWnJk1Qw"
      },
      "source": [
        "## Condicionales"
      ]
    },
    {
      "cell_type": "markdown",
      "metadata": {
        "id": "K2UZqnf5W37E"
      },
      "source": [
        "###`if`\n",
        "\n",
        "El código enmarcado por esta declaracion se ejecuta si la condición o cadena de condiciones resultan en `True`  al ser evaluados.\n",
        "\n",
        "*Uso:*\n",
        "\n",
        " ` if + condicion_1 + and/or + condicion_2 + ...+  : `\n",
        "\n",
        " `.... # Instrucción 1 `\n",
        "\n",
        "...\n",
        "\n",
        "`.... # Instrucción n`"
      ]
    },
    {
      "cell_type": "code",
      "metadata": {
        "colab": {
          "base_uri": "https://localhost:8080/"
        },
        "id": "OxqDhmD9XtHk",
        "outputId": "df0e8c33-1912-412f-f272-aa2afbc913b6"
      },
      "source": [
        "\n",
        "mod = 4\n",
        "x = 7\n",
        "if x%mod== 3:\n",
        "  print(True)\n",
        "\n",
        "y = 3\n",
        "\n",
        "if x%mod == 3:\n",
        "  if y%mod == x%mod:\n",
        "    print(f'Ambos números son equivalentes modulo {mod}')"
      ],
      "execution_count": 45,
      "outputs": [
        {
          "output_type": "stream",
          "text": [
            "True\n",
            "Ambos números son equivalentes modulo 4\n"
          ],
          "name": "stdout"
        }
      ]
    },
    {
      "cell_type": "markdown",
      "metadata": {
        "id": "p4GSmt8ieEu7"
      },
      "source": [
        "###`elif`\n",
        "\n",
        "Es una declaración que se usa despues del `if` para indicar otra condición para evaluar y ejecutar un código distinto en caso de que la condición o cadena de condiciones resulten en `True`\n",
        "\n",
        "*Uso:*\n",
        "\n",
        "` elif + condición_1 + and/or.. + condición_2 + ... + : `\n",
        "\n",
        "`.... # Instrucción 1 `\n",
        "\n",
        "...\n",
        "\n",
        "`.... # Instrucción n`\n",
        "\n"
      ]
    },
    {
      "cell_type": "code",
      "metadata": {
        "colab": {
          "base_uri": "https://localhost:8080/"
        },
        "id": "Qw9KHr6UglUd",
        "outputId": "15b970f2-b657-4ebd-8a9a-8cb98c319081"
      },
      "source": [
        "if x%4 == 2:\n",
        "  print(True)\n",
        "elif x%4 == 3:\n",
        "  x = x-1\n",
        "print(x)"
      ],
      "execution_count": null,
      "outputs": [
        {
          "output_type": "stream",
          "text": [
            "True\n",
            "6\n"
          ],
          "name": "stdout"
        }
      ]
    },
    {
      "cell_type": "markdown",
      "metadata": {
        "id": "lpUz-AANhPLi"
      },
      "source": [
        "*Que ocurre si ejecutamos la linea previa nuevamente?*\n"
      ]
    },
    {
      "cell_type": "markdown",
      "metadata": {
        "id": "uH8duT40gLir"
      },
      "source": [
        "###`else`\n",
        "\n",
        "Declaración usada al final de un `if` para indicar al programa que hacer en caso de que ninguna de las condiciones utilizadas en las declaraciones previas haya resultado en `True`. No es necesario incluirlo, en cuyo caso el interpretador correra el código y no ejecutara nignuna instrucción."
      ]
    },
    {
      "cell_type": "code",
      "metadata": {
        "colab": {
          "base_uri": "https://localhost:8080/"
        },
        "id": "O1euKz2_gkHC",
        "outputId": "15a64b77-950f-430a-c167-bcd553e43785"
      },
      "source": [
        "if x%4 == 1:\n",
        "  print(True)\n",
        "elif x%4 == 3:\n",
        "  x = x-1\n",
        "else:\n",
        "  x = x+1\n",
        "print(x)"
      ],
      "execution_count": null,
      "outputs": [
        {
          "output_type": "stream",
          "text": [
            "7\n"
          ],
          "name": "stdout"
        }
      ]
    },
    {
      "cell_type": "markdown",
      "metadata": {
        "id": "uWC70eP6h6-6"
      },
      "source": [
        "##Loops\n",
        "\n",
        "Son declaraciones que permiten realizar realizar una instrucción un cierto numero de veces. En cada nueva iteración permite utilizar una variable o método distinto. "
      ]
    },
    {
      "cell_type": "markdown",
      "metadata": {
        "id": "Fb25OAhhbals"
      },
      "source": [
        "### `for`\n",
        "\n",
        "Uso:\n",
        "\n",
        " ` for + iterable + : `\n",
        "\n",
        "`.... # instrucción 1 `\n",
        "\n",
        "...\n",
        "\n",
        "`.... # instrucción n`\n",
        "\n",
        "\n",
        "Requiere un iterable que indica el número de veces que se debe repetir la instrucción contenida. Puede ser usado con `if` y otros `for`. \n",
        "\n",
        "Frecuentemente usamos las funciones especiales `range()` y `len()` para construir `for` loops.\n",
        "\n",
        "`range(start,end)` genera una serie de numeros enteros entre `start (default == 0)` y `end`\n",
        "\n"
      ]
    },
    {
      "cell_type": "code",
      "metadata": {
        "colab": {
          "base_uri": "https://localhost:8080/"
        },
        "id": "d2qBVaQFcQ0v",
        "outputId": "0c2740df-66d0-4fc1-f0a4-48c2756fda4f"
      },
      "source": [
        "L = [1,2,3,4,5,6,7,8,9]\n",
        "\n",
        "# Queremos ahora una nueva lista en la cual cada elemento es el resultado de multiplicar 2 valores consecutivos de elementos de L:\n",
        "Resultado = []\n",
        "for i in range(len(L)-1):\n",
        "  Resultado.append(L[i]*L[i+1])\n",
        "print(Resultado)\n",
        "\n",
        "# En muchos casos podemos utilizar los elementos de L directamente:\n",
        "\n",
        "for elemento in L:\n",
        "  print(elemento)\n",
        "\n",
        "# Separar vocales de consonantes:\n",
        "Lista_de_vocales = ['a','A','e','E','i','I','o','O','u','U']\n",
        "Consonantes = []\n",
        "Vocales = []\n",
        "S = 'Este es un texto de prueba'\n",
        "for letra in S:\n",
        "  if letra != ' ':\n",
        "    if letra in Lista_de_vocales:\n",
        "      Vocales.append(letra)\n",
        "    else:\n",
        "      Consonantes.append(letra)\n",
        "\n",
        "print(Vocales)\n",
        "print(Consonantes)\n",
        "\n",
        "\n",
        "# Combinar el contenido de una lista de listas en una lista simple:\n",
        "\n",
        "D = [[1,2,3,4,5,6],[7,8,9,10]]\n",
        "\n",
        "D_1 = []\n",
        "for i in range(len(D)):\n",
        "  for j in range(len(D[i])):\n",
        "    D_1.append(D[i][j])\n",
        "print(D_1)\n"
      ],
      "execution_count": null,
      "outputs": [
        {
          "output_type": "stream",
          "text": [
            "[2, 6, 12, 20, 30, 42, 56, 72]\n",
            "1\n",
            "2\n",
            "3\n",
            "4\n",
            "5\n",
            "6\n",
            "7\n",
            "8\n",
            "9\n",
            "['E', 'e', 'e', 'u', 'e', 'o', 'e', 'u', 'e', 'a']\n",
            "['s', 't', 's', 'n', 't', 'x', 't', 'd', 'p', 'r', 'b']\n",
            "[1, 2, 3, 4, 5, 6, 7, 8, 9, 10]\n"
          ],
          "name": "stdout"
        }
      ]
    },
    {
      "cell_type": "markdown",
      "metadata": {
        "id": "lrt_jalWddHC"
      },
      "source": [
        "#### List Comprehensions\n",
        "\n",
        "Es utilizado para reducir **for** loops a una linea. Es mas eficiente computacionalmente que un loop explícito y "
      ]
    },
    {
      "cell_type": "code",
      "metadata": {
        "colab": {
          "base_uri": "https://localhost:8080/"
        },
        "id": "KzayPIFYdi5w",
        "outputId": "c52e15a3-8c42-4cfe-b6b6-26e1f4a57d05"
      },
      "source": [
        "Resultado2 = [L[i]*L[i+1] for i in range(len(L)-1)]\n",
        "print(Resultado2)\n",
        "#\n",
        "print([elemento for elemento in L])\n",
        "#\n",
        "D_2 = [D[i][j] for i in range(len(D)) for j in range(len(D[i]))]\n",
        "print(D_2)\n",
        "\n"
      ],
      "execution_count": null,
      "outputs": [
        {
          "output_type": "stream",
          "text": [
            "[2, 6, 12, 20, 30, 42, 56, 72]\n",
            "[1, 2, 3, 4, 5, 6, 7, 8, 9]\n",
            "[1, 2, 3, 4, 5, 6, 7, 8, 9, 10]\n"
          ],
          "name": "stdout"
        }
      ]
    },
    {
      "cell_type": "markdown",
      "metadata": {
        "id": "IxMPjpJymN08"
      },
      "source": [
        "Como podemos reproducir el ejemplo de las vocales utilizando **list comprehensions**?"
      ]
    },
    {
      "cell_type": "markdown",
      "metadata": {
        "id": "V_VdyRz9mcXX"
      },
      "source": [
        "### `while`\n",
        "\n",
        "Uso:\n",
        "\n",
        " ` while + condición + : `\n",
        "\n",
        "`.... # instrucción 1 `\n",
        "\n",
        "...\n",
        "\n",
        "`.... # instrucción n`\n",
        "\n",
        "Es utilizado para repetir una instrucción un numero indeterminado de veces, hasta que la condición del loop resulte en `False`. Por default el loop se ejecuta mínimo una vez, a menos que la condición haya sido establecida como `False`\n"
      ]
    },
    {
      "cell_type": "code",
      "metadata": {
        "colab": {
          "base_uri": "https://localhost:8080/"
        },
        "id": "VDWKh-r9nDIx",
        "outputId": "6f03c41f-d7e7-4a26-8fc0-cf0291ed01fc"
      },
      "source": [
        "# Crear una lista con números del 1 al 100:\n",
        "\n",
        "Lista = [1]\n",
        "\n",
        "while Lista[-1] < 100:\n",
        "  Lista.append(Lista[-1]+1)\n",
        "\n",
        "print(Lista)\n",
        "\n"
      ],
      "execution_count": null,
      "outputs": [
        {
          "output_type": "stream",
          "text": [
            "[1, 2, 3, 4, 5, 6, 7, 8, 9, 10, 11, 12, 13, 14, 15, 16, 17, 18, 19, 20, 21, 22, 23, 24, 25, 26, 27, 28, 29, 30, 31, 32, 33, 34, 35, 36, 37, 38, 39, 40, 41, 42, 43, 44, 45, 46, 47, 48, 49, 50, 51, 52, 53, 54, 55, 56, 57, 58, 59, 60, 61, 62, 63, 64, 65, 66, 67, 68, 69, 70, 71, 72, 73, 74, 75, 76, 77, 78, 79, 80, 81, 82, 83, 84, 85, 86, 87, 88, 89, 90, 91, 92, 93, 94, 95, 96, 97, 98, 99, 100]\n"
          ],
          "name": "stdout"
        }
      ]
    },
    {
      "cell_type": "markdown",
      "metadata": {
        "id": "1jlO7yoVoz4M"
      },
      "source": [
        "Es necesario ser cuidadoso usando `while` ya que el loop continuará ejecutándose indefinidamente, esto puede ocasionar que tu código / computadora se trabe. \n",
        "\n"
      ]
    },
    {
      "cell_type": "markdown",
      "metadata": {
        "id": "tSCeYcfio2W0"
      },
      "source": [
        "## Control de flujo\n"
      ]
    },
    {
      "cell_type": "markdown",
      "metadata": {
        "id": "AkBy7TyUpAR7"
      },
      "source": [
        "### `break`\n",
        "\n",
        "\n",
        "Se utiliza dentro de un loop para interrumpir su ejecución. En este caso el interprete ejecuta la sección de código posterior al loop."
      ]
    },
    {
      "cell_type": "code",
      "metadata": {
        "id": "lAKWKcV3qBO1"
      },
      "source": [
        "# Ejemplo:\n",
        "D = [1,1,1,0,1,0,1,1]\n",
        "N = 0\n",
        "for item in D:\n",
        "  if item == 1:\n",
        "    N = N+1\n",
        "  else:\n",
        "    break\n"
      ],
      "execution_count": null,
      "outputs": []
    },
    {
      "cell_type": "markdown",
      "metadata": {
        "id": "eCuydh75qew8"
      },
      "source": [
        "### `pass`\n",
        "\n",
        "Se utiliza dentro de un loop para indicar que ningún código ha de ejecutarse. Típicamente se utiliza dentro de una sección `if`, durante el desarrollo, cuando aun no esta bien definida la instrucción pero se desea conservar la estructura general del código.\n"
      ]
    },
    {
      "cell_type": "code",
      "metadata": {
        "colab": {
          "base_uri": "https://localhost:8080/"
        },
        "id": "o-2S7QRSrDHC",
        "outputId": "ea2d9e99-6847-4aae-9714-75215f51d358"
      },
      "source": [
        "# Ejemplo:\n",
        "# Imprimimos en la consola los numeros del 1 al 10\n",
        "D = list(range(1,11))\n",
        "for d in D:\n",
        "  if d%1 == 0:\n",
        "    pass\n",
        "  print(d)"
      ],
      "execution_count": null,
      "outputs": [
        {
          "output_type": "stream",
          "text": [
            "1\n",
            "2\n",
            "3\n",
            "4\n",
            "5\n",
            "6\n",
            "7\n",
            "8\n",
            "9\n",
            "10\n"
          ],
          "name": "stdout"
        }
      ]
    },
    {
      "cell_type": "markdown",
      "metadata": {
        "id": "xFSCZ7CwrBr_"
      },
      "source": [
        "Si no escribimos el `pass` tendremos un error."
      ]
    },
    {
      "cell_type": "markdown",
      "metadata": {
        "id": "Hzkp8JksrxFW"
      },
      "source": [
        "###`continue`\n",
        "\n",
        "Esta declaración tiene un funcionamiento parecido a `pass`. Sin embargo, al momento de ser ejecutada, envía al intérprete al inicio del loop y prosigue a la siguiente interacción, sin terminar de ejecutar el resto del loop de la iteración previa."
      ]
    },
    {
      "cell_type": "code",
      "metadata": {
        "id": "fBwKDd3esR3V"
      },
      "source": [
        "# Ejemplo:\n",
        "# Imprimimos en la consola los numeros del 1 al 10. Sin embargo, al usar continue, nada sera impreso.\n",
        "D = list(range(1,11))\n",
        "for d in D:\n",
        "  if d%1 == 0:\n",
        "    continue\n",
        "  print(d)"
      ],
      "execution_count": null,
      "outputs": []
    },
    {
      "cell_type": "markdown",
      "metadata": {
        "id": "mhvrTIf2vVLN"
      },
      "source": [
        "## Excepciones - `try/except`\n",
        "\n",
        "En muchas ocasiones es deseable y *necesario* preveer ciertos resultados que pueden ocurrir a medida que realizamos operaciones sobre datos. Un caso de ejemplo es la división entre `0` en caso de dividir un elemento de una lista por otro. Normalmente, en caso de errores ocurre un crash y el código se interrumpe.\n",
        "\n",
        "A través de excepciones podemos indicar al interprete, que hacer en caso de que ocurra algun problema específico. \n",
        "\n",
        "**Uso:**\n",
        "\n",
        "`try:`\n",
        "\n",
        "`...# Instrucción 1`\n",
        "\n",
        "...\n",
        "\n",
        "`...# Instrucción N`\n",
        "\n",
        "`except + \"tipo de error\":`\n",
        "\n",
        "`...# Instrucción`\n",
        "\n",
        "\n",
        "`try/except` puede ser usado incluso dentro de declaraciones condicionales `if` y toda clase de loops.\n"
      ]
    },
    {
      "cell_type": "code",
      "metadata": {
        "colab": {
          "base_uri": "https://localhost:8080/",
          "height": 248
        },
        "id": "RrGcLxjswreO",
        "outputId": "54232b98-83f2-4a47-d498-515c31b5fdf9"
      },
      "source": [
        "# Ejemplo\n",
        "\n",
        "D1 = [1,2,3,4,5,6,7]\n",
        "D2 = [3,45,2,0,1,4,3]\n",
        "\n",
        "for i in range(len(D1)):\n",
        "  print(D1[i]/D2[i])"
      ],
      "execution_count": null,
      "outputs": [
        {
          "output_type": "stream",
          "text": [
            "0.3333333333333333\n",
            "0.044444444444444446\n",
            "1.5\n"
          ],
          "name": "stdout"
        },
        {
          "output_type": "error",
          "ename": "ZeroDivisionError",
          "evalue": "ignored",
          "traceback": [
            "\u001b[0;31m---------------------------------------------------------------------------\u001b[0m",
            "\u001b[0;31mZeroDivisionError\u001b[0m                         Traceback (most recent call last)",
            "\u001b[0;32m<ipython-input-52-b3ef269d637d>\u001b[0m in \u001b[0;36m<module>\u001b[0;34m()\u001b[0m\n\u001b[1;32m      5\u001b[0m \u001b[0;34m\u001b[0m\u001b[0m\n\u001b[1;32m      6\u001b[0m \u001b[0;32mfor\u001b[0m \u001b[0mi\u001b[0m \u001b[0;32min\u001b[0m \u001b[0mrange\u001b[0m\u001b[0;34m(\u001b[0m\u001b[0mlen\u001b[0m\u001b[0;34m(\u001b[0m\u001b[0mD1\u001b[0m\u001b[0;34m)\u001b[0m\u001b[0;34m)\u001b[0m\u001b[0;34m:\u001b[0m\u001b[0;34m\u001b[0m\u001b[0;34m\u001b[0m\u001b[0m\n\u001b[0;32m----> 7\u001b[0;31m   \u001b[0mprint\u001b[0m\u001b[0;34m(\u001b[0m\u001b[0mD1\u001b[0m\u001b[0;34m[\u001b[0m\u001b[0mi\u001b[0m\u001b[0;34m]\u001b[0m\u001b[0;34m/\u001b[0m\u001b[0mD2\u001b[0m\u001b[0;34m[\u001b[0m\u001b[0mi\u001b[0m\u001b[0;34m]\u001b[0m\u001b[0;34m)\u001b[0m\u001b[0;34m\u001b[0m\u001b[0;34m\u001b[0m\u001b[0m\n\u001b[0m",
            "\u001b[0;31mZeroDivisionError\u001b[0m: division by zero"
          ]
        }
      ]
    },
    {
      "cell_type": "code",
      "metadata": {
        "colab": {
          "base_uri": "https://localhost:8080/"
        },
        "id": "M2NwZefhw9UN",
        "outputId": "59b26745-09f0-42cf-c865-86f85e3df095"
      },
      "source": [
        "# Usando try-except:\n",
        "for i in range(len(D1)):\n",
        "  try:\n",
        "    print(D1[i]/D2[i])\n",
        "  except ZeroDivisionError:\n",
        "    print('El resultado no esta definido')\n"
      ],
      "execution_count": null,
      "outputs": [
        {
          "output_type": "stream",
          "text": [
            "0.3333333333333333\n",
            "0.044444444444444446\n",
            "1.5\n",
            "El resultado no esta definido\n",
            "5.0\n",
            "1.5\n",
            "2.3333333333333335\n"
          ],
          "name": "stdout"
        }
      ]
    },
    {
      "cell_type": "markdown",
      "metadata": {
        "id": "qZqO4muqxdcB"
      },
      "source": [
        "# Funciones\n",
        "\n",
        "Funciones son bloques fundamentales de la programación en cualquier código. Un loop puede ser visto como una fúncion en si misma, ya que se trata de declaraciones que definen operaciones sobre un grupo de `inputs` para producir un grupo de `outputs`. \n",
        "\n",
        "\\\\\n",
        "En este sentido, la finalidad de una función es codificar de una manera eficiente, una instrucción o grupo de instrucciones que se utilizan con cierta frecuencia dentro del código. Esto facilita la lectura humana y permite la ejecución eficiente de nuestro código.\n",
        "\n",
        "Creacion:\n",
        "\n",
        "`def nombre_de_la_funcion(input_1,...,input_n):`\n",
        "\n",
        "`....# Instruccion 1`\n",
        "\n",
        "...\n",
        "\n",
        "`....# Instruccion N`\n",
        "\n",
        "`....return Outputs`\n",
        "\n",
        "\n",
        "\\\\\n",
        "Una vez creada, la función puede ser ejecutada sobre inputs haciendo una llamada dentro del código:\n",
        "`nombre_de_la_funcion()`\n",
        "\n",
        "\\\\\n",
        "**Nota 1:** Al momento de nombrar una función es necesario tomar en cuenta no utilizar nombres de funciones que estén definidas por default en los módulos y librerias de **Python**.\n",
        "\n",
        "**Nota 2:** No siempre es necesario usar `return`, si el output de la función es una imagen en la consola o información que no se requiere para uso posterior, se puede omitir esa declaración.\n",
        "\n",
        "**Nota 3:** Es posible definir una función dentro de otra función. Naturalmente, todas las declaraciones de control ya explicadas pueden usarse dentro de la definición de una función.\n",
        "\n",
        "**Nota 4:** Todas las variables y objetos definidos dentro de una función sólo tienen sentido dentro de ella. En este sentido, sus valores no pueden ser utilizados para otra función a menos que esta este definida dentro de la otra o se extraigan las variables como outputs.\n",
        "\n",
        "\n",
        "\n",
        "\n"
      ]
    },
    {
      "cell_type": "code",
      "metadata": {
        "colab": {
          "base_uri": "https://localhost:8080/"
        },
        "id": "D7mJj6VB0Mn_",
        "outputId": "94ac2ac8-b1d3-4114-b336-c85167bef5fc"
      },
      "source": [
        "def distancia_quad(v1,v2): # Cuadrado de la distancia L_2\n",
        "  Distancias = [(v1[i]-v2[i])**2 for i in range(len(v1))]\n",
        "  Distancias = sum(Distancias)\n",
        "  return Distancias\n",
        "\n",
        "distancia_quad([0,1,2,3],[1,2,3,4])"
      ],
      "execution_count": null,
      "outputs": [
        {
          "output_type": "execute_result",
          "data": {
            "text/plain": [
              "4"
            ]
          },
          "metadata": {},
          "execution_count": 1
        }
      ]
    },
    {
      "cell_type": "markdown",
      "metadata": {
        "id": "WjIlFBOs07MI"
      },
      "source": [
        "*Esta definición tiene un problema. Puedes adivinar cual es y como solucionarlo?*"
      ]
    },
    {
      "cell_type": "markdown",
      "metadata": {
        "id": "8NjYmuRb79NB"
      },
      "source": [
        "# Funciones `lambda`\n",
        "\n",
        "Son una clase de funciones especiales que usualmente se usan pocas veces en el código. Pueden recibir o no un nombre y pueden tener muchos inputs y outputs. Sin embargo, sólo pueden contener una sola expresión, es decir operaciones complejas que involucran muchos pasos, no pueden ser escritos en una sola función lambda. \n",
        "\n",
        "En algunos casos especiales pueden ser ligeramente mas eficientes que las funciones clasicas definidas usando `def`"
      ]
    },
    {
      "cell_type": "code",
      "metadata": {
        "colab": {
          "base_uri": "https://localhost:8080/"
        },
        "id": "mQh2g0JLp56v",
        "outputId": "d1911c8c-6bf2-41b3-dc08-c0c9bf0de4de"
      },
      "source": [
        "L = lambda x,y,z: x**2 + y**2 - z**2\n",
        "\n",
        "L(1,2,3)\n",
        "\n",
        "# Suma de listas (vectores)\n",
        "l1 = [1,2,3]\n",
        "l2 = [4,5,6]\n",
        "Suma = lambda x,y: [x[i]+y[i] for i in range(len(x))]\n",
        "Suma(l1,l2)"
      ],
      "execution_count": null,
      "outputs": [
        {
          "output_type": "execute_result",
          "data": {
            "text/plain": [
              "-211"
            ]
          },
          "metadata": {},
          "execution_count": 54
        }
      ]
    },
    {
      "cell_type": "markdown",
      "metadata": {
        "id": "-T-7AurLnoZt"
      },
      "source": [
        "Escribe la siguiente expresión en terminos de una función `lambda`:\n",
        "\n",
        "$a^n - b^n = (a-b)* (a^{n-1} + a^{n-2} b + a^{n-3}  b^{2} + \\cdots + a b^{n-2}+ b^{n-1} )$"
      ]
    },
    {
      "cell_type": "code",
      "metadata": {
        "id": "Z7F_RWsqoP_9"
      },
      "source": [
        ""
      ],
      "execution_count": null,
      "outputs": []
    },
    {
      "cell_type": "markdown",
      "metadata": {
        "id": "tyuqH2u98C4B"
      },
      "source": [
        "\n",
        "# Clases"
      ]
    },
    {
      "cell_type": "markdown",
      "metadata": {
        "id": "fnCDvfQApHm1"
      },
      "source": [
        "Una clase es esencialmente un constructor de objetos. Estos objetos poseen ciertas propiedades en común y `métodos` o funciones intrínsecas que permiten realizar operaciones sobre ellos. \n",
        "\n",
        "Hemos visto hasta ahora varios ejemplos de clases sin saberlo:\n",
        "  * Listas\n",
        "  * Diccionarios\n",
        "  * Variables\n",
        "\n",
        "\n",
        "Dependiendo de la complejidad del proyecto, puede ser útil usar clases ya que permiten conservar y ordenar de manera compacta toda la información relevante a la clase\n",
        "\n",
        "\n",
        "`Clases` > `metodos` > `variables`"
      ]
    },
    {
      "cell_type": "code",
      "metadata": {
        "colab": {
          "base_uri": "https://localhost:8080/"
        },
        "id": "g0X4veK3qzuj",
        "outputId": "5d38e555-821d-4db1-8922-cc668c8a5130"
      },
      "source": [
        "class Vector_Op:\n",
        "  '''\n",
        "  Una clase que implementa varias funciones \n",
        "  '''\n",
        "  def __init__(self, x, y):\n",
        "    self.x = x\n",
        "    self.y = y\n",
        "\n",
        "  def Suma(self):\n",
        "    if len(self.x) != len(self.y):\n",
        "      print('Ambos vectores deben tener el mismo tamaño')\n",
        "    else:\n",
        "      return [self.x[i]+self.y[i] for i in range(len(self.x))]\n",
        "  \n",
        "  def Diferencia(self):\n",
        "    if len(self.x) != len(self.y):\n",
        "      print('Ambos vectores deben tener el mismo tamaño')\n",
        "    else:\n",
        "      return [self.x[i]-self.y[i] for i in range(len(self.x))]\n",
        "\n",
        "  def Producto(self,type='inner'):\n",
        "    if len(self.x) != len(self.y):\n",
        "      print('Ambos vectores deben tener el mismo tamaño')\n",
        "    else:\n",
        "      return [self.x[i]*self.y[i] for i in range(len(self.x))]\n",
        "\n",
        "  def Producto_Interno(self,type='inner'):\n",
        "    if len(self.x) != len(self.y):\n",
        "      print('Ambos vectores deben tener el mismo tamaño')\n",
        "    else:\n",
        "      return sum([self.x[i]*self.y[i] for i in range(len(self.x))])\n",
        "\n",
        "  def Distancia_Quad(self):\n",
        "    if len(self.x) != len(self.y):\n",
        "      print('Ambos vectores deben tener el mismo tamaño')\n",
        "    else:\n",
        "      return sum([(self.x[i]-self.y[i])**2 for i in range(len(self.x))])\n",
        "\n",
        "v1 = [1,2,3]\n",
        "v2 = [4,5,6]\n",
        "\n",
        "S = Vector_Op(v1,v2)\n",
        "\n",
        "print(S.Suma())\n",
        "print(S.Diferencia())\n",
        "print(S.Producto())\n",
        "print(S.Producto_Interno())\n",
        "print(S.Distancia_Quad())\n",
        "\n"
      ],
      "execution_count": null,
      "outputs": [
        {
          "output_type": "stream",
          "text": [
            "[5, 7, 9]\n",
            "[-3, -3, -3]\n",
            "[4, 10, 18]\n",
            "32\n",
            "27\n"
          ],
          "name": "stdout"
        }
      ]
    },
    {
      "cell_type": "markdown",
      "metadata": {
        "id": "RFu6rwuw8FpQ"
      },
      "source": [
        "#Librerias"
      ]
    },
    {
      "cell_type": "markdown",
      "metadata": {
        "id": "122Uh1hk8QoJ"
      },
      "source": [
        "Las librerias estan compuestas por módulos que contienen a su vez definiciones de clases, funciones y otros objetos que son usados por la libreria.\n",
        "\n",
        "Un ejemplo de **libreria** es `scipy` de la cual hablaremos mas tarde.\n",
        "\n",
        "Un ejemplo de **módulo** es `optimize`, el cual contiene varias rutinas para optimización de funciones. \n",
        "\n",
        "Para poder utilizar una libreria es necesario importarla dentro del código que estemos usando. Siempre y cuando se encuentre instalada podemos cargar una libreria a traves del comando `import`:\n",
        "\n",
        "E.g:\n",
        "\n",
        "`import scipy`\n",
        "\n",
        "Podemos importar incluso sólo una sección de la libreria, en caso de que sólo nos interese realizar ciertas operaciones standalone:\n",
        "\n",
        "E.g: \n",
        "\n",
        "`import scipy.optimize`\n",
        "\n",
        "Tambien podemos usar alias, ya que cada vez que usemos una función de la libreria importada necesitamos indicar la libreria, el módulo y la función:\n",
        "\n",
        "E.g:\n",
        "\n",
        "`Minimizer = scipy.optimize.minimize()`\n",
        "\n",
        "Podemos facilitar esto usando un alias para la libreria y el módulo. Esto lo hacemos al momento de import la libreria. Es importante sin embargo, no usar como alias una función predifinada en Python (E.g:`sum`), a fin de evitar problemas en el código.\n",
        "\n",
        "E.g:\n",
        "\n",
        "`import scipy.optimize as optim`\n",
        "\n",
        "\n",
        "`Minimizer = optim.minimize()`\n",
        "\n",
        "Finalmente, es posible tambien importar sólo una función o grupo de funciones de un módulo en especifico, esto permite ahorrar espacio de memoria.\n",
        "\n",
        "E.g:\n",
        "\n",
        "`from scipy.optimize import minimize as mini`\n",
        "\n",
        "`Minimizer = mini()`\n"
      ]
    },
    {
      "cell_type": "markdown",
      "metadata": {
        "id": "zWmNkZPv8KpQ"
      },
      "source": [
        "## Librerias mas usadas"
      ]
    },
    {
      "cell_type": "markdown",
      "metadata": {
        "id": "o1_NCLBK8la5"
      },
      "source": [
        "### `math`\n",
        "\n",
        "Contiene un gran número de funciones matemáticas. Con ella es posible realizar operaciones a bajo nivel. Forma parte del nucleo básico de Python"
      ]
    },
    {
      "cell_type": "markdown",
      "metadata": {
        "id": "EeMLvI9z8pZK"
      },
      "source": [
        "### `numpy`\n",
        "\n",
        "La librería de operaciones matemáticas con matrices y vectores por excelencia.  Su objeto fundamental son los **arrays**."
      ]
    },
    {
      "cell_type": "markdown",
      "metadata": {
        "id": "SgvX1stc9Z6c"
      },
      "source": [
        "###`scipy`\n",
        "\n",
        "Es una libreria de operaciones matemáticas con énfasis en la optimización matemática, integración, diferenciación y estadística. `scipy` replica algunas funciones de `numpy` con mayor eficiencia. \n",
        "\n",
        "Existe una variedad de módulos que extienden el uso de `scipy` hasta el análisis y procesamiento de señales.\n"
      ]
    },
    {
      "cell_type": "markdown",
      "metadata": {
        "id": "myTtUTLn9tIK"
      },
      "source": [
        "###`scikit`\n",
        "\n",
        "`scikit` es una de las librerias mas populares para Machine Learning (ML). Contiene implementaciones de un gran número de algoritmos y métodos para el análisis de datos y la creación de modelos de regresión y clasificación."
      ]
    },
    {
      "cell_type": "markdown",
      "metadata": {
        "id": "_ZjpdqR19vEx"
      },
      "source": [
        "###`matplotlib`\n",
        "\n",
        "Es la libreria más popular para graficar. Permite la visualizacion de datos a traves de una gran cantidad de tipos de gráficos. Su desarrollo es extensivo y frecuentemente es requerida por otras librerias."
      ]
    },
    {
      "cell_type": "markdown",
      "metadata": {
        "id": "Ngy2FEtC_IqZ"
      },
      "source": [
        "### `pandas`\n",
        "\n",
        "Es una librería popular usada para el manejo de datos voluminosos (~ varios millones de entradas). Facilita el análisis estadístico, asi como permite el filtraje, visualización y preparación de los datos para uso en modelos de ML."
      ]
    },
    {
      "cell_type": "markdown",
      "metadata": {
        "id": "ntivQTyBqnJZ"
      },
      "source": [
        "#Preguntas?"
      ]
    }
  ]
}