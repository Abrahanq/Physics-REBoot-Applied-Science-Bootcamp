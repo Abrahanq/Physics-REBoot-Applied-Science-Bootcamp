{
 "cells": [
  {
   "cell_type": "markdown",
   "id": "56330f0c",
   "metadata": {
    "ExecuteTime": {
     "end_time": "2021-08-16T15:11:57.737116Z",
     "start_time": "2021-08-16T15:11:57.719556Z"
    },
    "hide_input": false,
    "slideshow": {
     "slide_type": "slide"
    }
   },
   "source": [
    "<p align=\"center\">\n",
    "<img src='https://static.wixstatic.com/media/42c521_bbcac1847d1a46739c6ccb446a2be592~mv2.png/v1/fill/w_490,h_189,al_c,q_85,usm_0.66_1.00_0.01/20210730_website_header.webp' width=\"1000\" />\n",
    "</p>\n",
    "\n",
    "\n",
    "\\textbf{Instructor}: Manuel A. Morgado V. (morgadovargas@unistra.fr)\n",
    "\n",
    "\\textbf{Affiliation}: \n",
    "\n",
    "- \\textit{Institut de Science et d’Ingénierie Supramoléculaires (ISIS, UMR7006), University of Strasbourg and CNRS}\n",
    "\n",
    "- \\textit{Centre Européen de Sciences Quantiques (CESQ-ISIS, UMR7006), University of Strasbourg and CNRS}\n",
    "\n",
    "\\textbf{Created}: Jul.10, 2021\n",
    "\n",
    "\\textbf{Last Modification}: Aug.25, 2021\n",
    "\n",
    "\\textbf{License}: http://www.apache.org/licenses/LICENSE-2.0"
   ]
  },
  {
   "cell_type": "markdown",
   "id": "b5d14722",
   "metadata": {
    "slideshow": {
     "slide_type": "notes"
    }
   },
   "source": [
    "---"
   ]
  },
  {
   "cell_type": "markdown",
   "id": "3f4b8888",
   "metadata": {
    "ExecuteTime": {
     "end_time": "2021-08-17T14:11:00.523110Z",
     "start_time": "2021-08-17T14:11:00.517250Z"
    },
    "slideshow": {
     "slide_type": "slide"
    }
   },
   "source": [
    "<font size=\"12\">TABLA DE CONTENIDO</font>\n",
    "\n",
    "* [NumPy](#NumPy)\n",
    "    * [Importar módulo](#section_1_1)\n",
    "    * [`Arrays` protagonista de NumPy](sSection_1_2)\n",
    "        * [Operaciones algebráicas](#section_1_2_1)\n",
    "        * [Funciones matemáticas](#section_1_2_2)\n",
    "        * [Manejo de datos](#section_1_2_3)\n",
    "* [Matplotlib](#Matplotlib)\n",
    "    * [Tipos de plots](#section_2_1)\n",
    "    * [Histogramas](#section_2_2)\n",
    "    * [Subplots](#section_2_2)\n",
    "    * [Guardando plots](#section_2_2)\n",
    "    \n",
    "* [SciPy](#SciPy)\n",
    "    * Módulo de álgebra: sistema de ecuaciones, autovalores(vectores), operaciones matriciales...\n",
    "    * Módulo de cálculo: funciones especiales, integración, ecuaciones diferenciales...\n",
    "    * Módulo de optimización: mínimos y raíces de funciones, interpolación y ajustes de curva\n",
    "    * Módulo de estadística: números aleatorios, functiones de distribución\n",
    "\n",
    "* [Scikit-learn](#Scikit-learn)\n",
    "* [Pandas](#Pandas)"
   ]
  },
  {
   "cell_type": "markdown",
   "id": "bf80becc",
   "metadata": {
    "slideshow": {
     "slide_type": "notes"
    }
   },
   "source": [
    "---"
   ]
  },
  {
   "cell_type": "markdown",
   "id": "83dd9a0a",
   "metadata": {
    "slideshow": {
     "slide_type": "notes"
    }
   },
   "source": [
    "# NumPy <a class=\"anchor\" id=\"NumPy\"></a>"
   ]
  },
  {
   "cell_type": "markdown",
   "id": "662fd4e8",
   "metadata": {
    "ExecuteTime": {
     "end_time": "2021-08-16T15:11:57.737116Z",
     "start_time": "2021-08-16T15:11:57.719556Z"
    },
    "slideshow": {
     "slide_type": "slide"
    }
   },
   "source": [
    "<p align=\"center\">\n",
    "<img src='https://numpy.org/doc/stable/_static/numpylogo.svg' width=\"700\" />\n",
    "</p>\n",
    "\n",
    "Documentación:[ https://numpy.org/doc/stable/](https://numpy.org/doc/stable/)\n",
    "\n"
   ]
  },
  {
   "cell_type": "markdown",
   "id": "edbe804a",
   "metadata": {
    "slideshow": {
     "slide_type": "subslide"
    }
   },
   "source": [
    "`NumPy` es un módulo de Python que para llevar a cabo una gran cantidad de cálculos numéricos usando Python. La mayor ventaja de NumPy es que esta implementado en lenguajes de más bajo nivel como `C` y `FORTRAN`, de manera que ofrece un gran desempeño al momento de realizar cálculos utilizando vectores y matrices o como se conocen en NumPy: `arrays`. "
   ]
  },
  {
   "cell_type": "markdown",
   "id": "ba9e4065",
   "metadata": {
    "slideshow": {
     "slide_type": "slide"
    }
   },
   "source": [
    "## Importar módulo"
   ]
  },
  {
   "cell_type": "markdown",
   "id": "b07327c7",
   "metadata": {
    "slideshow": {
     "slide_type": "subslide"
    }
   },
   "source": [
    "<div class=\"alert alert-block alert-danger\">\n",
    "\n",
    "**Importante**\n",
    "    \n",
    "El primer paso para comenzar utilizando NumPy es importando el módulo de NumPy en nuestro cuaderno de `Jupyter`, ya sea completamente o las funciones que vayamos a utilizar de dicho paquete.   \n",
    "\n",
    "</div>\n"
   ]
  },
  {
   "cell_type": "markdown",
   "id": "26aa7343",
   "metadata": {
    "slideshow": {
     "slide_type": "-"
    }
   },
   "source": [
    "<div class=\"alert alert-block alert-info\">\n",
    "\n",
    "**Nota** : importando con sobrenombre\n",
    "    \n",
    "Importamos el módulo de un sobrenombre más corto\n",
    "\n",
    "</div>\n"
   ]
  },
  {
   "cell_type": "code",
   "execution_count": null,
   "id": "21272df7",
   "metadata": {
    "ExecuteTime": {
     "end_time": "2021-08-29T21:43:57.959066Z",
     "start_time": "2021-08-29T21:43:57.956532Z"
    },
    "slideshow": {
     "slide_type": "-"
    }
   },
   "outputs": [],
   "source": [
    "import numpy as np"
   ]
  },
  {
   "cell_type": "markdown",
   "id": "2366d22b",
   "metadata": {
    "slideshow": {
     "slide_type": "slide"
    }
   },
   "source": [
    "<div class=\"alert alert-block alert-info\">\n",
    "\n",
    "**Nota** : importando 1 función de NumPy\n",
    "    \n",
    "Esta es la manera si solo importamos una sola función de `NumPy`.\n",
    "</div>\n"
   ]
  },
  {
   "cell_type": "code",
   "execution_count": null,
   "id": "1e73ccfe",
   "metadata": {
    "ExecuteTime": {
     "end_time": "2021-08-29T21:43:58.511960Z",
     "start_time": "2021-08-29T21:43:58.509808Z"
    }
   },
   "outputs": [],
   "source": [
    "from numpy import linspace"
   ]
  },
  {
   "cell_type": "code",
   "execution_count": null,
   "id": "f3cfcd7e",
   "metadata": {
    "ExecuteTime": {
     "end_time": "2021-08-29T21:44:00.910406Z",
     "start_time": "2021-08-29T21:44:00.907280Z"
    },
    "scrolled": false,
    "slideshow": {
     "slide_type": "subslide"
    }
   },
   "outputs": [],
   "source": [
    "help(linspace) #ayuda sobre comando linspace"
   ]
  },
  {
   "cell_type": "markdown",
   "id": "70a9c1ae",
   "metadata": {
    "slideshow": {
     "slide_type": "slide"
    }
   },
   "source": [
    "Si queremos utilizar esta sintaxis para importar todo NumPy podemos escribir: `from numpy import *`"
   ]
  },
  {
   "cell_type": "markdown",
   "id": "8f0b062c",
   "metadata": {},
   "source": [
    "<div class=\"alert alert-block alert-danger\">\n",
    "\n",
    "**Nota** : limpiar módulo\n",
    "    \n",
    "Podemos limpiar el módulo de la memoria con: `del <módulo>`\n",
    "</div>\n"
   ]
  },
  {
   "cell_type": "code",
   "execution_count": null,
   "id": "d2190579",
   "metadata": {
    "ExecuteTime": {
     "end_time": "2021-08-29T21:44:02.433937Z",
     "start_time": "2021-08-29T21:44:02.431863Z"
    }
   },
   "outputs": [],
   "source": [
    "del np"
   ]
  },
  {
   "cell_type": "code",
   "execution_count": null,
   "id": "51d612e9",
   "metadata": {
    "ExecuteTime": {
     "end_time": "2021-08-29T21:44:02.579435Z",
     "start_time": "2021-08-29T21:44:02.531751Z"
    }
   },
   "outputs": [],
   "source": [
    "np.pi"
   ]
  },
  {
   "cell_type": "markdown",
   "id": "fce7dedd",
   "metadata": {
    "slideshow": {
     "slide_type": "slide"
    }
   },
   "source": [
    "## `Arrays` protagonista de NumPy"
   ]
  },
  {
   "cell_type": "markdown",
   "id": "86e8b13e",
   "metadata": {
    "slideshow": {
     "slide_type": "slide"
    }
   },
   "source": [
    "El objeto desarrollado en NumPy para la realización de cálculos son los arreglos o como le llamaremos: `array`. Estos pueden ser generados a partir de objetos de Python como listas de números o listas de listas de números, también existen comando propios de NumPy para generar arreglos con características específicas."
   ]
  },
  {
   "cell_type": "markdown",
   "id": "5387b22a",
   "metadata": {
    "slideshow": {
     "slide_type": "slide"
    }
   },
   "source": [
    "Comencemos definiendo algunos valores para algunas variables:"
   ]
  },
  {
   "cell_type": "code",
   "execution_count": null,
   "id": "81f3a143",
   "metadata": {
    "ExecuteTime": {
     "end_time": "2021-08-29T21:44:05.548690Z",
     "start_time": "2021-08-29T21:44:05.545829Z"
    },
    "code_folding": []
   },
   "outputs": [],
   "source": [
    "'''\n",
    "\n",
    "    Para asignar el valor a una variable la sintaxis sigue:\n",
    "\n",
    "    <variable> = <valor>; \n",
    "\n",
    "    el símbolo \";\" se incluye para evitar que la línea sea \n",
    "    mostrada en pantalla.\n",
    "\n",
    "'''\n",
    "start = 0; \n",
    "final = 10;\n",
    "nr_steps = 11;\n",
    "\n",
    "import numpy"
   ]
  },
  {
   "cell_type": "markdown",
   "id": "847bcafd",
   "metadata": {
    "slideshow": {
     "slide_type": "slide"
    }
   },
   "source": [
    "Nuestro primer **Numpy array**!"
   ]
  },
  {
   "cell_type": "code",
   "execution_count": null,
   "id": "4295e63e",
   "metadata": {
    "ExecuteTime": {
     "end_time": "2021-08-29T21:44:06.985210Z",
     "start_time": "2021-08-29T21:44:06.974364Z"
    }
   },
   "outputs": [],
   "source": [
    "numpy.linspace(start, final, nr_steps) #crea un array desde el valor 0 al valor 10 con 11 elementos"
   ]
  },
  {
   "cell_type": "code",
   "execution_count": null,
   "id": "3161ff78",
   "metadata": {
    "ExecuteTime": {
     "end_time": "2021-08-29T21:44:07.468365Z",
     "start_time": "2021-08-29T21:44:07.464728Z"
    }
   },
   "outputs": [],
   "source": [
    "final #revisamos el valor de la variable final (IPython Notebooks)"
   ]
  },
  {
   "cell_type": "code",
   "execution_count": null,
   "id": "af1104b6",
   "metadata": {
    "ExecuteTime": {
     "end_time": "2021-08-29T21:44:07.909216Z",
     "start_time": "2021-08-29T21:44:07.906310Z"
    }
   },
   "outputs": [],
   "source": [
    "print(final); #revisamos el valor de la variable final"
   ]
  },
  {
   "cell_type": "code",
   "execution_count": null,
   "id": "03af0134",
   "metadata": {
    "ExecuteTime": {
     "end_time": "2021-08-29T21:44:08.204126Z",
     "start_time": "2021-08-29T21:44:08.201107Z"
    }
   },
   "outputs": [],
   "source": [
    "type(final) #revisamos que tipo de variable es"
   ]
  },
  {
   "cell_type": "code",
   "execution_count": null,
   "id": "effe81d3",
   "metadata": {
    "ExecuteTime": {
     "end_time": "2021-08-29T21:44:08.471026Z",
     "start_time": "2021-08-29T21:44:08.468515Z"
    }
   },
   "outputs": [],
   "source": [
    "npArray = numpy.linspace(start, final, nr_steps); #crea y guarda array anterior en array_value "
   ]
  },
  {
   "cell_type": "code",
   "execution_count": null,
   "id": "528bd99d",
   "metadata": {
    "ExecuteTime": {
     "end_time": "2021-08-29T21:44:08.757533Z",
     "start_time": "2021-08-29T21:44:08.752671Z"
    }
   },
   "outputs": [],
   "source": [
    "npArray"
   ]
  },
  {
   "cell_type": "code",
   "execution_count": null,
   "id": "08642350",
   "metadata": {
    "ExecuteTime": {
     "end_time": "2021-08-29T21:44:09.002476Z",
     "start_time": "2021-08-29T21:44:08.998912Z"
    },
    "slideshow": {
     "slide_type": "slide"
    }
   },
   "outputs": [],
   "source": [
    "len(npArray) #revisamos longitud de arreglo"
   ]
  },
  {
   "cell_type": "code",
   "execution_count": null,
   "id": "13d6728b",
   "metadata": {
    "ExecuteTime": {
     "end_time": "2021-08-29T21:44:09.254868Z",
     "start_time": "2021-08-29T21:44:09.251584Z"
    }
   },
   "outputs": [],
   "source": [
    "numpy.arange(11) #una manera de crear un array de 11 nros. enteros"
   ]
  },
  {
   "cell_type": "code",
   "execution_count": null,
   "id": "676f4846",
   "metadata": {
    "ExecuteTime": {
     "end_time": "2021-08-29T21:44:09.482078Z",
     "start_time": "2021-08-29T21:44:09.478386Z"
    }
   },
   "outputs": [],
   "source": [
    "type(numpy.arange(11)[4]) #revisamos la clase de objeto de este array"
   ]
  },
  {
   "cell_type": "code",
   "execution_count": null,
   "id": "7088724c",
   "metadata": {
    "ExecuteTime": {
     "end_time": "2021-08-29T21:44:09.736102Z",
     "start_time": "2021-08-29T21:44:09.732265Z"
    }
   },
   "outputs": [],
   "source": [
    "type(npArray[4])"
   ]
  },
  {
   "cell_type": "markdown",
   "id": "9bdd8f98",
   "metadata": {
    "slideshow": {
     "slide_type": "slide"
    }
   },
   "source": [
    "Veamos que las dos herramientas de NumPy:\n",
    "\n",
    "-`np.linspace(inicial, final, #elementos)`\n",
    "\n",
    "-`np.arange(#elementos)`\n",
    "\n",
    "tienen claras diferencias no solo al momento de emplearlos para el cual `np.linspace` requiere de 3 argumentos de entrada mientras que `np.arange` requiere 1 solo argumento. Sino también que en los elementos de salida, del primero resulta un array de números **flotantes de 64-bits (*float64*)** mientras que en el segundo nos resulta un array de **enteros de 64-bits (*int64*)**."
   ]
  },
  {
   "cell_type": "markdown",
   "id": "54056673",
   "metadata": {},
   "source": [
    "También es possible crear arreglos de número predeterminados como 0 y 1 usando commandos de NumPy:"
   ]
  },
  {
   "cell_type": "code",
   "execution_count": null,
   "id": "bef792d3",
   "metadata": {
    "ExecuteTime": {
     "end_time": "2021-08-29T21:44:10.828371Z",
     "start_time": "2021-08-29T21:44:10.825130Z"
    }
   },
   "outputs": [],
   "source": [
    "numpy.zeros(10)"
   ]
  },
  {
   "cell_type": "code",
   "execution_count": null,
   "id": "5246be71",
   "metadata": {
    "ExecuteTime": {
     "end_time": "2021-08-29T21:44:10.909291Z",
     "start_time": "2021-08-29T21:44:10.905924Z"
    }
   },
   "outputs": [],
   "source": [
    "numpy.zeros((3,3)) #matrix 3x3 of zeros"
   ]
  },
  {
   "cell_type": "code",
   "execution_count": null,
   "id": "ae87a5dd",
   "metadata": {
    "ExecuteTime": {
     "end_time": "2021-08-29T21:44:10.991016Z",
     "start_time": "2021-08-29T21:44:10.987513Z"
    },
    "slideshow": {
     "slide_type": "slide"
    }
   },
   "outputs": [],
   "source": [
    "numpy.ones(10) #array de 10 elementos donde todos son 1"
   ]
  },
  {
   "cell_type": "code",
   "execution_count": null,
   "id": "100c7007",
   "metadata": {
    "ExecuteTime": {
     "end_time": "2021-08-29T21:44:11.075782Z",
     "start_time": "2021-08-29T21:44:11.072184Z"
    }
   },
   "outputs": [],
   "source": [
    "numpy.ones((3,3)) #matrix 3x3 of ones"
   ]
  },
  {
   "cell_type": "markdown",
   "id": "6c935e28",
   "metadata": {
    "ExecuteTime": {
     "end_time": "2021-08-16T16:55:03.844252Z",
     "start_time": "2021-08-16T16:55:03.838444Z"
    },
    "slideshow": {
     "slide_type": "slide"
    }
   },
   "source": [
    "O podemos emplear una lista de números para convertirlo en array:"
   ]
  },
  {
   "cell_type": "code",
   "execution_count": null,
   "id": "ac35220c",
   "metadata": {
    "ExecuteTime": {
     "end_time": "2021-08-29T21:44:11.657987Z",
     "start_time": "2021-08-29T21:44:11.654485Z"
    }
   },
   "outputs": [],
   "source": [
    "numpy.array([0.1, 3, 250.5])"
   ]
  },
  {
   "cell_type": "markdown",
   "id": "604a8cd7",
   "metadata": {},
   "source": [
    "Incluso podemos convertir lista de listas de números en **matrices o array 2D**:\n",
    "\n",
    "\\begin{equation*}\n",
    "    \\begin{pmatrix}\n",
    "        1 & 0.4 \\\\\n",
    "        10 & 3\n",
    "    \\end{pmatrix} _{2\\times 2}\n",
    "\\end{equation*}"
   ]
  },
  {
   "cell_type": "code",
   "execution_count": null,
   "id": "da5d6bda",
   "metadata": {
    "ExecuteTime": {
     "end_time": "2021-08-29T21:44:12.168711Z",
     "start_time": "2021-08-29T21:44:12.165867Z"
    }
   },
   "outputs": [],
   "source": [
    "npMatrix = numpy.array([[1,0.4],[10,3]]); #matriz 2x2\n",
    "print(npMatrix)"
   ]
  },
  {
   "cell_type": "markdown",
   "id": "6ea2a363",
   "metadata": {
    "ExecuteTime": {
     "end_time": "2021-08-17T07:55:12.491719Z",
     "start_time": "2021-08-17T07:55:12.488323Z"
    },
    "slideshow": {
     "slide_type": "slide"
    }
   },
   "source": [
    "O matrices diagonales:\n",
    "\n",
    "\\begin{equation*}\n",
    " \\begin{pmatrix}\n",
    "        0 & 0 & 0 \\\\\n",
    "        0 & 1 & 0 \\\\\n",
    "        0 & 0 & 2\n",
    "    \\end{pmatrix} _{3\\times 3}\n",
    "\\end{equation*}"
   ]
  },
  {
   "cell_type": "code",
   "execution_count": null,
   "id": "5a850d98",
   "metadata": {
    "ExecuteTime": {
     "end_time": "2021-08-29T21:44:12.716093Z",
     "start_time": "2021-08-29T21:44:12.712700Z"
    }
   },
   "outputs": [],
   "source": [
    "numpy.diag([0,1,3])"
   ]
  },
  {
   "cell_type": "markdown",
   "id": "df6469d1",
   "metadata": {
    "slideshow": {
     "slide_type": "slide"
    }
   },
   "source": [
    "<div class=\"alert alert-block alert-info\">\n",
    "\n",
    "**Nota** : otras propiedades\n",
    "    \n",
    "Los array de NumPy también poseen una serie de atributos (propiedades) o métodos (funciones) que se puede revisar en cualquier objeto de python escribiendo el nombre del objeto seguido de ' . ' y luego al presionar la tecla de \"tab\" aparecerá una lista. A continuación unos ejemplos:\n",
    "</div>\n"
   ]
  },
  {
   "cell_type": "code",
   "execution_count": null,
   "id": "c7d74d93",
   "metadata": {
    "ExecuteTime": {
     "end_time": "2021-08-29T21:44:13.252033Z",
     "start_time": "2021-08-29T21:44:13.249058Z"
    }
   },
   "outputs": [],
   "source": [
    "npMatrix.ndim"
   ]
  },
  {
   "cell_type": "code",
   "execution_count": null,
   "id": "ded13114",
   "metadata": {
    "ExecuteTime": {
     "end_time": "2021-08-29T21:44:13.329869Z",
     "start_time": "2021-08-29T21:44:13.326749Z"
    }
   },
   "outputs": [],
   "source": [
    "npMatrix.T #transpuesta de la matriz"
   ]
  },
  {
   "cell_type": "markdown",
   "id": "36dcf372",
   "metadata": {
    "slideshow": {
     "slide_type": "slide"
    }
   },
   "source": [
    "Por ejemplo una matrix $3\\times3$:\n",
    "    \n",
    "\\begin{equation*}\n",
    "\\text{npMatrix_3x3} = \n",
    "    \\begin{pmatrix}\n",
    "        1 & 2 & 3 \\\\\n",
    "        4 & 5 & 6 \\\\\n",
    "        7 & 8 & 9\n",
    "    \\end{pmatrix} _{3\\times 3}\n",
    "\\end{equation*}"
   ]
  },
  {
   "cell_type": "code",
   "execution_count": null,
   "id": "3a2e5f19",
   "metadata": {
    "ExecuteTime": {
     "end_time": "2021-08-29T21:44:14.017553Z",
     "start_time": "2021-08-29T21:44:14.013712Z"
    }
   },
   "outputs": [],
   "source": [
    "npMatrix_3x3 = numpy.array([[1,2,3], [4,5,6], [7,8,9]])\n",
    "npMatrix_3x3"
   ]
  },
  {
   "cell_type": "markdown",
   "id": "963ba891",
   "metadata": {},
   "source": [
    "Donde el elemento $ a_{(2,3)}=8 $"
   ]
  },
  {
   "cell_type": "code",
   "execution_count": null,
   "id": "8f9c5a06",
   "metadata": {
    "ExecuteTime": {
     "end_time": "2021-08-29T21:44:14.462858Z",
     "start_time": "2021-08-29T21:44:14.459691Z"
    }
   },
   "outputs": [],
   "source": [
    "npMatrix_3x3[2,1]"
   ]
  },
  {
   "cell_type": "markdown",
   "id": "2014dd3f",
   "metadata": {
    "ExecuteTime": {
     "end_time": "2021-08-16T20:41:16.631039Z",
     "start_time": "2021-08-16T20:41:16.626458Z"
    },
    "slideshow": {
     "slide_type": "slide"
    }
   },
   "source": [
    "<div class=\"alert alert-block alert-danger\">\n",
    "\n",
    "**Nota** : Notación de Python\n",
    "    \n",
    "Es importante recordar que en Python la notación de índices comienza en 0.\n",
    "</div>\n"
   ]
  },
  {
   "cell_type": "code",
   "execution_count": null,
   "id": "df1f543c",
   "metadata": {
    "ExecuteTime": {
     "end_time": "2021-08-29T21:44:15.093221Z",
     "start_time": "2021-08-29T21:44:15.090171Z"
    }
   },
   "outputs": [],
   "source": [
    "npMatrix_3x3[:,1] #columna nro 2"
   ]
  },
  {
   "cell_type": "code",
   "execution_count": null,
   "id": "ac512fe7",
   "metadata": {
    "ExecuteTime": {
     "end_time": "2021-08-29T21:44:15.176243Z",
     "start_time": "2021-08-29T21:44:15.173347Z"
    }
   },
   "outputs": [],
   "source": [
    "npMatrix_3x3[1,:] #fila nro 2"
   ]
  },
  {
   "cell_type": "code",
   "execution_count": null,
   "id": "52d40252",
   "metadata": {
    "ExecuteTime": {
     "end_time": "2021-08-29T21:44:15.482610Z",
     "start_time": "2021-08-29T21:44:15.478965Z"
    },
    "slideshow": {
     "slide_type": "slide"
    }
   },
   "outputs": [],
   "source": [
    "npMatrix_3x3[1:3, 1:3] #bloque de matrix derecha-inferior"
   ]
  },
  {
   "cell_type": "markdown",
   "id": "eb5029dd",
   "metadata": {
    "ExecuteTime": {
     "end_time": "2021-08-17T07:58:49.113134Z",
     "start_time": "2021-08-17T07:58:49.105321Z"
    }
   },
   "source": [
    "En ocasiones puede ser útil convertir la matriz en un array unidimensional, esto se logra con el método `<array>.flatten()`"
   ]
  },
  {
   "cell_type": "code",
   "execution_count": null,
   "id": "8470dbb4",
   "metadata": {
    "ExecuteTime": {
     "end_time": "2021-08-29T21:44:16.219701Z",
     "start_time": "2021-08-29T21:44:16.216369Z"
    }
   },
   "outputs": [],
   "source": [
    "npMatrix_3x3.flatten()"
   ]
  },
  {
   "cell_type": "markdown",
   "id": "e8df3483",
   "metadata": {
    "slideshow": {
     "slide_type": "slide"
    }
   },
   "source": [
    "Otras operaciones que se pueden hacer con array de NumPy es la de concatenar y apilar estos objetos en uno solo. Primero agamos una copy del array:"
   ]
  },
  {
   "cell_type": "code",
   "execution_count": null,
   "id": "d17fe3b5",
   "metadata": {
    "ExecuteTime": {
     "end_time": "2021-08-29T21:44:16.671651Z",
     "start_time": "2021-08-29T21:44:16.668357Z"
    }
   },
   "outputs": [],
   "source": [
    "numpy.concatenate((npMatrix_3x3, npMatrix_3x3), axis=0)"
   ]
  },
  {
   "cell_type": "markdown",
   "id": "2787f2c5",
   "metadata": {
    "ExecuteTime": {
     "end_time": "2021-08-16T20:41:16.631039Z",
     "start_time": "2021-08-16T20:41:16.626458Z"
    },
    "slideshow": {
     "slide_type": "slide"
    }
   },
   "source": [
    "<div class=\"alert alert-block alert-danger\">\n",
    "\n",
    "**Nota** : Copia y manejo de memoria\n",
    "    \n",
    "Python es un lenguaje que gestiona la memoria de manera automática, eliminando esta preocupación al usuario. Esto lleva a ciertas confusiones al momento de hacer una copia.\n",
    "    \n",
    "```python\n",
    "npArray = numpy.array([1,0])\n",
    "npArrayCopy = npArray\n",
    "```\n",
    "    \n",
    "No es igual para Python que hacer un nuevo objeto usando:\n",
    "    \n",
    "```python\n",
    "npArray = numpy.array([1,0])\n",
    "npArrayCopy = npArray.copy()\n",
    "```\n",
    "Puesto que cualquier modificación en la copia también afecta al original.\n",
    "</div>\n"
   ]
  },
  {
   "cell_type": "code",
   "execution_count": null,
   "id": "cafea3ff",
   "metadata": {
    "ExecuteTime": {
     "end_time": "2021-08-29T21:44:17.195617Z",
     "start_time": "2021-08-29T21:44:17.193271Z"
    },
    "slideshow": {
     "slide_type": "slide"
    }
   },
   "outputs": [],
   "source": [
    "numpy.shape(npMatrix_3x3); #muestra las dimensiones del array"
   ]
  },
  {
   "cell_type": "code",
   "execution_count": null,
   "id": "f087cac8",
   "metadata": {
    "ExecuteTime": {
     "end_time": "2021-08-29T21:44:17.284425Z",
     "start_time": "2021-08-29T21:44:17.280659Z"
    }
   },
   "outputs": [],
   "source": [
    "npArray_EX = numpy.array([1,0]); #creacion del array\n",
    "npArray_EXCopy = npArray_EX; #falsa copia\n",
    "\n",
    "npArray_EXCopy[0]=0; #modificiacion\n",
    "\n",
    "npArray_EX"
   ]
  },
  {
   "cell_type": "markdown",
   "id": "8bb89aba",
   "metadata": {
    "slideshow": {
     "slide_type": "slide"
    }
   },
   "source": [
    "<div class=\"alert alert-block alert-danger\">\n",
    "\n",
    "**Nota** : Array Vs. Listas\n",
    "    \n",
    "Las listas de Python no estan optimizadas para processar arrays muy grandes a menor nivel de máquina. Adicionalmente, es importante debido a que los array puede ser usados para **vectorizar** funciones que incrementa la velocidad de cálculo.\n",
    "    \n",
    "\n",
    "</div>"
   ]
  },
  {
   "cell_type": "markdown",
   "id": "b1bafb40",
   "metadata": {
    "ExecuteTime": {
     "end_time": "2021-08-16T21:28:47.639836Z",
     "start_time": "2021-08-16T21:28:47.634809Z"
    },
    "slideshow": {
     "slide_type": "slide"
    }
   },
   "source": [
    "## Operaciones algebráicas con `Arrays`"
   ]
  },
  {
   "cell_type": "markdown",
   "id": "02011b16",
   "metadata": {
    "slideshow": {
     "slide_type": "slide"
    }
   },
   "source": [
    "Una de las aplicaciones más importantes de Numpy es su aplicación a cálculos de álgebra lineal e.g., operaciones básicas de matrices, producto con escalares, vectores, producto interno, traza etc. A continuación algunos de ellos: \n",
    "\n",
    "\\begin{equation*}\n",
    "\\text{vector_1} = \n",
    "    \\begin{pmatrix}\n",
    "        0  \\\\\n",
    "        1  \\\\\n",
    "        2 \n",
    "    \\end{pmatrix} _{3\\times 1}\n",
    "\\end{equation*}"
   ]
  },
  {
   "cell_type": "code",
   "execution_count": null,
   "id": "0ed2644c",
   "metadata": {
    "ExecuteTime": {
     "end_time": "2021-08-29T21:44:18.730103Z",
     "start_time": "2021-08-29T21:44:18.726834Z"
    }
   },
   "outputs": [],
   "source": [
    "vector_1 = numpy.arange(0,3)\n",
    "vector_1"
   ]
  },
  {
   "cell_type": "markdown",
   "id": "fd1c6901",
   "metadata": {
    "ExecuteTime": {
     "end_time": "2021-08-17T07:28:00.238889Z",
     "start_time": "2021-08-17T07:28:00.234025Z"
    }
   },
   "source": [
    "**Producto por un escalar**\n",
    "\n",
    "\\begin{equation*}\n",
    "\\text{vector_1} = \n",
    "    2 \\times\\begin{pmatrix}\n",
    "        0  \\\\\n",
    "        1  \\\\\n",
    "        2 \n",
    "    \\end{pmatrix} _{3\\times 1}=\n",
    "    \\begin{pmatrix}\n",
    "        2\\times 0  \\\\\n",
    "        2\\times1  \\\\\n",
    "        2\\times2 \n",
    "    \\end{pmatrix} _{3\\times 1}= \n",
    "   \\begin{pmatrix}\n",
    "        0  \\\\\n",
    "        2  \\\\\n",
    "        4 \n",
    "    \\end{pmatrix} _{3\\times 1}\n",
    "\\end{equation*}"
   ]
  },
  {
   "cell_type": "code",
   "execution_count": null,
   "id": "514b9a2a",
   "metadata": {
    "ExecuteTime": {
     "end_time": "2021-08-29T21:44:19.169224Z",
     "start_time": "2021-08-29T21:44:19.166109Z"
    }
   },
   "outputs": [],
   "source": [
    "vector_1*2"
   ]
  },
  {
   "cell_type": "markdown",
   "id": "a8670c90",
   "metadata": {
    "slideshow": {
     "slide_type": "slide"
    }
   },
   "source": [
    "**Suma de un escalar a cada elemento o suma de un vector constante**\n",
    "\n",
    "\\begin{equation*}\n",
    "\\text{vector_1} + \\vec{1}=\n",
    "    \\begin{pmatrix}\n",
    "        0  \\\\\n",
    "        1  \\\\\n",
    "        2 \n",
    "    \\end{pmatrix} _{3\\times 1}+\\begin{pmatrix}\n",
    "        1  \\\\\n",
    "        1  \\\\\n",
    "        1 \n",
    "    \\end{pmatrix} _{3\\times 1}= \n",
    "   \\begin{pmatrix}\n",
    "        1  \\\\\n",
    "        2  \\\\\n",
    "        3 \n",
    "    \\end{pmatrix} _{3\\times 1}\n",
    "\\end{equation*}"
   ]
  },
  {
   "cell_type": "code",
   "execution_count": null,
   "id": "818eba62",
   "metadata": {
    "ExecuteTime": {
     "end_time": "2021-08-29T21:44:19.604171Z",
     "start_time": "2021-08-29T21:44:19.601077Z"
    }
   },
   "outputs": [],
   "source": [
    "vector_1+1"
   ]
  },
  {
   "cell_type": "markdown",
   "id": "10ec5431",
   "metadata": {
    "slideshow": {
     "slide_type": "slide"
    }
   },
   "source": [
    "**Producto de elemento por elemento**\n",
    "\\begin{equation*}\n",
    "\\text{vector_1} \\odot \\vec{1}=\n",
    "    \\begin{pmatrix}\n",
    "        0  \\\\\n",
    "        1  \\\\\n",
    "        2 \n",
    "    \\end{pmatrix} _{3\\times 1}\\odot\\begin{pmatrix}\n",
    "        0  \\\\\n",
    "        1  \\\\\n",
    "        2 \n",
    "    \\end{pmatrix} _{3\\times 1}= \n",
    "   \\begin{pmatrix}\n",
    "        0  \\\\\n",
    "        1  \\\\\n",
    "        4 \n",
    "    \\end{pmatrix} _{3\\times 1}\n",
    "\\end{equation*}"
   ]
  },
  {
   "cell_type": "code",
   "execution_count": null,
   "id": "46a92cb1",
   "metadata": {
    "ExecuteTime": {
     "end_time": "2021-08-29T21:44:20.040338Z",
     "start_time": "2021-08-29T21:44:20.037368Z"
    }
   },
   "outputs": [],
   "source": [
    "vector_1 * vector_1"
   ]
  },
  {
   "cell_type": "code",
   "execution_count": null,
   "id": "6709a0dd",
   "metadata": {
    "ExecuteTime": {
     "end_time": "2021-08-29T21:44:20.119811Z",
     "start_time": "2021-08-29T21:44:20.116467Z"
    }
   },
   "outputs": [],
   "source": [
    "numpy.multiply(vector_1, vector_1)"
   ]
  },
  {
   "cell_type": "markdown",
   "id": "3fe6ff53",
   "metadata": {
    "slideshow": {
     "slide_type": "slide"
    }
   },
   "source": [
    "**Producto interno de dos vectores**\n",
    "\\begin{equation*}\n",
    "\\text{vector_1} \\cdot \\vec{1}=\n",
    "    \\begin{pmatrix}\n",
    "        0  \\\\\n",
    "        1  \\\\\n",
    "        2 \n",
    "    \\end{pmatrix} _{3\\times 1}\\cdot\\begin{pmatrix}\n",
    "        0  \\\\\n",
    "        1  \\\\\n",
    "        2 \n",
    "    \\end{pmatrix} _{3\\times 1}= 0 + 1 + 4 = 5\n",
    "\\end{equation*}"
   ]
  },
  {
   "cell_type": "code",
   "execution_count": null,
   "id": "9216efb9",
   "metadata": {
    "ExecuteTime": {
     "end_time": "2021-08-29T21:44:20.559673Z",
     "start_time": "2021-08-29T21:44:20.556405Z"
    }
   },
   "outputs": [],
   "source": [
    "numpy.dot(vector_1,vector_1)"
   ]
  },
  {
   "cell_type": "markdown",
   "id": "4fcc22b0",
   "metadata": {
    "slideshow": {
     "slide_type": "slide"
    }
   },
   "source": [
    "**Producto vectorial de dos vectores**\n",
    "\\begin{equation*}\n",
    "\\text{vector_1} \\times \\vec{1}=\n",
    "    \\begin{pmatrix}\n",
    "        0  \\\\\n",
    "        1  \\\\\n",
    "        2 \n",
    "    \\end{pmatrix} _{3\\times 1}\\times\\begin{pmatrix}\n",
    "        0  \\\\\n",
    "        1  \\\\\n",
    "        2 \n",
    "    \\end{pmatrix} _{3\\times 1}=\\begin{pmatrix}\n",
    "        0  \\\\\n",
    "        0  \\\\\n",
    "        0 \n",
    "    \\end{pmatrix} _{3\\times 1}\n",
    "\\end{equation*}"
   ]
  },
  {
   "cell_type": "code",
   "execution_count": null,
   "id": "180ca7dc",
   "metadata": {
    "ExecuteTime": {
     "end_time": "2021-08-29T21:44:22.989717Z",
     "start_time": "2021-08-29T21:44:22.986548Z"
    }
   },
   "outputs": [],
   "source": [
    "numpy.cross(vector_1,vector_1)"
   ]
  },
  {
   "cell_type": "markdown",
   "id": "523d91cd",
   "metadata": {
    "slideshow": {
     "slide_type": "slide"
    }
   },
   "source": [
    "**Producto matricial de matriz con vector**\n",
    "\\begin{equation*}\n",
    "\\text{npMatrix_3x3} \\cdot \\text{vector_1} =\\begin{pmatrix}\n",
    "        1 & 2 & 3 \\\\\n",
    "        4 & 5 & 6 \\\\\n",
    "        7 & 8 & 9\n",
    "    \\end{pmatrix} _{3\\times 3} \\cdot \\begin{pmatrix}\n",
    "        0  \\\\\n",
    "        1  \\\\\n",
    "        2 \n",
    "    \\end{pmatrix} _{3\\times 1} =\\begin{pmatrix}\n",
    "        8  \\\\\n",
    "        17  \\\\\n",
    "        26 \n",
    "    \\end{pmatrix} _{3\\times 1}\n",
    "\\end{equation*}\n"
   ]
  },
  {
   "cell_type": "code",
   "execution_count": null,
   "id": "0cec1f6e",
   "metadata": {
    "ExecuteTime": {
     "end_time": "2021-08-29T21:44:29.613797Z",
     "start_time": "2021-08-29T21:44:29.610455Z"
    }
   },
   "outputs": [],
   "source": [
    "npMatrix_3x3@vector_1"
   ]
  },
  {
   "cell_type": "markdown",
   "id": "28e42772",
   "metadata": {
    "slideshow": {
     "slide_type": "slide"
    }
   },
   "source": [
    "En NumPy también existen las matrices como objetos a los cuales puedes realizarse cierto tipo de operaciones predefinidas:"
   ]
  },
  {
   "cell_type": "markdown",
   "id": "7228480a",
   "metadata": {
    "ExecuteTime": {
     "end_time": "2021-08-17T08:35:31.863713Z",
     "start_time": "2021-08-17T08:35:31.861315Z"
    }
   },
   "source": [
    "**Producto exterior de dos vectores**"
   ]
  },
  {
   "cell_type": "code",
   "execution_count": null,
   "id": "958b383d",
   "metadata": {
    "ExecuteTime": {
     "end_time": "2021-08-29T21:44:30.673627Z",
     "start_time": "2021-08-29T21:44:30.669576Z"
    }
   },
   "outputs": [],
   "source": [
    "vector_3x1 = numpy.matrix([[1],[3],[2]])\n",
    "vector_1x3 = numpy.matrix([1,2,3])\n",
    "vector_3x1@vector_1x3\n"
   ]
  },
  {
   "cell_type": "code",
   "execution_count": null,
   "id": "08d668cc",
   "metadata": {
    "ExecuteTime": {
     "end_time": "2021-08-29T21:44:30.766372Z",
     "start_time": "2021-08-29T21:44:30.762688Z"
    }
   },
   "outputs": [],
   "source": [
    "npMatrix = numpy.matrix([[-0.1j, 2.j], [-2.8j, -5.j]]).T; #matriz con entradas complejas\n",
    "npMatrix"
   ]
  },
  {
   "cell_type": "code",
   "execution_count": null,
   "id": "d33bc116",
   "metadata": {
    "ExecuteTime": {
     "end_time": "2021-08-29T21:44:30.894046Z",
     "start_time": "2021-08-29T21:44:30.890298Z"
    }
   },
   "outputs": [],
   "source": [
    "npMatrix[0,1] #elemento (0,1)"
   ]
  },
  {
   "cell_type": "markdown",
   "id": "c57e8936",
   "metadata": {
    "ExecuteTime": {
     "end_time": "2021-08-17T07:33:03.212030Z",
     "start_time": "2021-08-17T07:33:03.209161Z"
    },
    "slideshow": {
     "slide_type": "slide"
    }
   },
   "source": [
    "<div class=\"alert alert-block alert-info\">\n",
    "\n",
    "**Nota** : complejos en Python\n",
    "    \n",
    "En python los números complejos se denotan por un coeficiente acompañado por la letra \"j\". Por ejemplo:\n",
    "    \n",
    "\n",
    "$3i =$`3j`\n",
    "    \n",
    "</div>\n"
   ]
  },
  {
   "cell_type": "markdown",
   "id": "05465b93",
   "metadata": {
    "ExecuteTime": {
     "end_time": "2021-08-25T08:35:18.876506Z",
     "start_time": "2021-08-25T08:35:18.872804Z"
    }
   },
   "source": [
    "\\begin{equation}\\begin{pmatrix}\n",
    "        1i & 2.8i \\\\\n",
    "        -2i & +5i\n",
    "\\end{pmatrix}_{3\\times 3} \\end{equation}"
   ]
  },
  {
   "cell_type": "code",
   "execution_count": null,
   "id": "93699bf3",
   "metadata": {
    "ExecuteTime": {
     "end_time": "2021-08-29T21:44:31.964378Z",
     "start_time": "2021-08-29T21:44:31.960948Z"
    }
   },
   "outputs": [],
   "source": [
    "numpy.conjugate(npMatrix) #calcula la conjugada"
   ]
  },
  {
   "cell_type": "code",
   "execution_count": null,
   "id": "1dd1b190",
   "metadata": {
    "ExecuteTime": {
     "end_time": "2021-08-29T21:44:32.565720Z",
     "start_time": "2021-08-29T21:44:32.562362Z"
    }
   },
   "outputs": [],
   "source": [
    "npMatrix.H #calcula la transpuesta conjugada"
   ]
  },
  {
   "cell_type": "code",
   "execution_count": null,
   "id": "9236a134",
   "metadata": {
    "ExecuteTime": {
     "end_time": "2021-08-29T21:44:32.841518Z",
     "start_time": "2021-08-29T21:44:32.838426Z"
    },
    "slideshow": {
     "slide_type": "slide"
    }
   },
   "outputs": [],
   "source": [
    "numpy.trace(npMatrix) #traza de la matriz"
   ]
  },
  {
   "cell_type": "code",
   "execution_count": null,
   "id": "ba340fd3",
   "metadata": {
    "ExecuteTime": {
     "end_time": "2021-08-29T21:44:33.030676Z",
     "start_time": "2021-08-29T21:44:33.026815Z"
    },
    "slideshow": {
     "slide_type": "-"
    }
   },
   "outputs": [],
   "source": [
    "numpy.real(npMatrix) #parte real de la matriz"
   ]
  },
  {
   "cell_type": "code",
   "execution_count": null,
   "id": "48e97e9c",
   "metadata": {
    "ExecuteTime": {
     "end_time": "2021-08-29T21:44:33.313418Z",
     "start_time": "2021-08-29T21:44:33.309372Z"
    }
   },
   "outputs": [],
   "source": [
    "numpy.imag(npMatrix) #parte imaginaria de la matriz"
   ]
  },
  {
   "cell_type": "code",
   "execution_count": null,
   "id": "612983c0",
   "metadata": {
    "ExecuteTime": {
     "end_time": "2021-08-29T21:44:33.582960Z",
     "start_time": "2021-08-29T21:44:33.579857Z"
    }
   },
   "outputs": [],
   "source": [
    "numpy.linalg.inv(npMatrix) #calcula la inversa. "
   ]
  },
  {
   "cell_type": "code",
   "execution_count": null,
   "id": "e3791a34",
   "metadata": {
    "ExecuteTime": {
     "end_time": "2021-08-29T21:44:33.869135Z",
     "start_time": "2021-08-29T21:44:33.865568Z"
    }
   },
   "outputs": [],
   "source": [
    "numpy.linalg.det(npMatrix) #calcula el determinante"
   ]
  },
  {
   "cell_type": "markdown",
   "id": "d717eef6",
   "metadata": {
    "slideshow": {
     "slide_type": "slide"
    }
   },
   "source": [
    "Otra función que tiene NumPy es la posibilidad de generar **array de números aleatorios**."
   ]
  },
  {
   "cell_type": "code",
   "execution_count": null,
   "id": "2bbd880b",
   "metadata": {
    "ExecuteTime": {
     "end_time": "2021-08-29T21:44:34.723539Z",
     "start_time": "2021-08-29T21:44:34.719857Z"
    }
   },
   "outputs": [],
   "source": [
    "npRandom = numpy.random.rand(3,3)\n",
    "npRandom"
   ]
  },
  {
   "cell_type": "code",
   "execution_count": null,
   "id": "77f114bf",
   "metadata": {
    "ExecuteTime": {
     "end_time": "2021-08-29T21:44:34.823000Z",
     "start_time": "2021-08-29T21:44:34.819289Z"
    }
   },
   "outputs": [],
   "source": [
    "npRandom.max() #el calculo del maximo es de la matriz, pero puede especificarse para una columna o fila usando el argumento 'axis'"
   ]
  },
  {
   "cell_type": "code",
   "execution_count": null,
   "id": "64e0306b",
   "metadata": {
    "ExecuteTime": {
     "end_time": "2021-08-29T21:44:35.187384Z",
     "start_time": "2021-08-29T21:44:35.183900Z"
    }
   },
   "outputs": [],
   "source": [
    "npRandom.min() #el calculo del minimo es de la matriz, pero puede especificarse para una columna o fila usando el argumento 'axis'"
   ]
  },
  {
   "cell_type": "markdown",
   "id": "e24edc41",
   "metadata": {
    "ExecuteTime": {
     "end_time": "2021-08-17T07:33:03.212030Z",
     "start_time": "2021-08-17T07:33:03.209161Z"
    },
    "slideshow": {
     "slide_type": "slide"
    }
   },
   "source": [
    "<div class=\"alert alert-block alert-info\">\n",
    "\n",
    "**Nota** : Métodos internos de comandos de librerías\n",
    "    \n",
    "Este cálculo de la inversa tiene condiciones sobre la matriz a invertir pues usan metodos que traen ciertas restricciones.\n",
    "    \n",
    "https://stackoverflow.com/questions/31188979/is-numpy-linalg-inv-giving-the-correct-matrix-inverse-edit-why-does-inv-gi\n",
    "    \n",
    "También es posible desarrollar tus propios métodos para realizar la misma tarea. ¡Inténtalo! \n",
    "</div>\n"
   ]
  },
  {
   "cell_type": "markdown",
   "id": "baabb53b",
   "metadata": {
    "slideshow": {
     "slide_type": "slide"
    }
   },
   "source": [
    "## Funciones matemáticas con NumPy"
   ]
  },
  {
   "cell_type": "markdown",
   "id": "50af30a3",
   "metadata": {},
   "source": [
    "NumPy es un paquete muy completo que incluye funciones matemáticas predefinidas que en general, su sintaxis solo requiere como argumentos los mismos requeridos por su definición en cálculo además del dominio de la función. Una ventaja de estas funciones es que estan implementadas en lenguajes de más bajo nivel, haciendolas muy eficientes y rápidas a nivel tiempo de procesamiento al ser vectorizadas."
   ]
  },
  {
   "cell_type": "markdown",
   "id": "b9df6d4c",
   "metadata": {
    "slideshow": {
     "slide_type": "slide"
    }
   },
   "source": [
    "**Funciones trigonométricas** e.g., seno, coseno, arcoseno... "
   ]
  },
  {
   "cell_type": "code",
   "execution_count": null,
   "id": "790e9123",
   "metadata": {
    "ExecuteTime": {
     "end_time": "2021-08-29T21:44:37.139188Z",
     "start_time": "2021-08-29T21:44:37.135139Z"
    }
   },
   "outputs": [],
   "source": [
    "x_domain = numpy.linspace(-1, 1, 25)\n",
    "\n",
    "numpy.arcsin(x_domain)"
   ]
  },
  {
   "cell_type": "markdown",
   "id": "213c0414",
   "metadata": {
    "slideshow": {
     "slide_type": "slide"
    }
   },
   "source": [
    "**¡También podemos usar parámetros físicos!**"
   ]
  },
  {
   "cell_type": "code",
   "execution_count": null,
   "id": "7318a81d",
   "metadata": {
    "ExecuteTime": {
     "end_time": "2021-08-29T21:44:37.610353Z",
     "start_time": "2021-08-29T21:44:37.605974Z"
    }
   },
   "outputs": [],
   "source": [
    "freq = 10;\n",
    "amp = 2;\n",
    "ph = numpy.pi/2\n",
    "\n",
    "x_domain = numpy.linspace(0, 10, 25)\n",
    "\n",
    "amp*numpy.sin(freq*x_domain + ph)"
   ]
  },
  {
   "cell_type": "markdown",
   "id": "f7c92746",
   "metadata": {
    "ExecuteTime": {
     "end_time": "2021-08-17T07:33:03.212030Z",
     "start_time": "2021-08-17T07:33:03.209161Z"
    },
    "slideshow": {
     "slide_type": "-"
    }
   },
   "source": [
    "<div class=\"alert alert-block alert-info\">\n",
    "\n",
    "**Nota** : ¿Radianes o grados?\n",
    "    \n",
    "Las funciones trigonométricas de NumPy estan originalmente escritas para calcular el valor de la función pero siempre puede ser reconvertida a grados usando `numpy.degrees()` en el argumento de la función.\n",
    "    \n",
    "</div>\n"
   ]
  },
  {
   "cell_type": "code",
   "execution_count": null,
   "id": "520dd26e",
   "metadata": {
    "ExecuteTime": {
     "end_time": "2021-08-29T21:44:38.088597Z",
     "start_time": "2021-08-29T21:44:38.084612Z"
    },
    "slideshow": {
     "slide_type": "slide"
    }
   },
   "outputs": [],
   "source": [
    "x_domain = numpy.linspace(0, 30, 30)\n",
    "\n",
    "numpy.sqrt(x_domain)"
   ]
  },
  {
   "cell_type": "code",
   "execution_count": null,
   "id": "a4316966",
   "metadata": {
    "ExecuteTime": {
     "end_time": "2021-08-29T21:44:38.269388Z",
     "start_time": "2021-08-29T21:44:38.265209Z"
    },
    "slideshow": {
     "slide_type": "slide"
    }
   },
   "outputs": [],
   "source": [
    "x_domain = numpy.linspace(0, 15, 15)\n",
    "\n",
    "numpy.exp(x_domain)"
   ]
  },
  {
   "cell_type": "markdown",
   "id": "dcc5181a",
   "metadata": {
    "slideshow": {
     "slide_type": "slide"
    }
   },
   "source": [
    "Incluso podemos hacer nuestras propias funciones matemáticas con ayuda de Python y NumPy:\n",
    "\n",
    "En este caso haremos la función de un oscilador amortiguado:\n",
    "\n",
    "\\begin{equation}\n",
    "f(t) = A e^{-\\gamma t}\\cos{(\\omega t + \\phi)}\n",
    "\\end{equation}"
   ]
  },
  {
   "cell_type": "code",
   "execution_count": null,
   "id": "c1a0abef",
   "metadata": {
    "ExecuteTime": {
     "end_time": "2021-08-29T21:44:39.064968Z",
     "start_time": "2021-08-29T21:44:39.062115Z"
    }
   },
   "outputs": [],
   "source": [
    "def OsciAmortiguada(domain, amp, freq, ph, decay):\n",
    "    return numpy.exp(-1*decay*domain)*amp*numpy.cos(freq*domain + ph)"
   ]
  },
  {
   "cell_type": "code",
   "execution_count": null,
   "id": "93aba982",
   "metadata": {
    "ExecuteTime": {
     "end_time": "2021-08-29T21:44:39.849204Z",
     "start_time": "2021-08-29T21:44:39.844803Z"
    },
    "slideshow": {
     "slide_type": "slide"
    }
   },
   "outputs": [],
   "source": [
    "x_domain = numpy.linspace(0, 10, 10); #time domain\n",
    "amp = 3; #amplitude\n",
    "freq = 10; #frequency\n",
    "ph = numpy.pi/4; #phase\n",
    "decay = 0.2; #decay rate\n",
    "\n",
    "OsciAmortiguada(x_domain, amp, freq, ph, decay)"
   ]
  },
  {
   "cell_type": "markdown",
   "id": "1d4bdec2",
   "metadata": {
    "slideshow": {
     "slide_type": "slide"
    }
   },
   "source": [
    "## Manejo de datos e importe de datos"
   ]
  },
  {
   "cell_type": "markdown",
   "id": "58b02937",
   "metadata": {
    "slideshow": {
     "slide_type": "slide"
    }
   },
   "source": [
    "Los arreglos y matrices podemos almacenarlos utilizando el formato nativo de numpy haciendo utilizando `save()`. De hecho, puede ser utilizado para guardar cualquier tipo de objeto de Python."
   ]
  },
  {
   "cell_type": "code",
   "execution_count": null,
   "id": "41caa248",
   "metadata": {
    "ExecuteTime": {
     "end_time": "2021-08-29T21:44:41.970717Z",
     "start_time": "2021-08-29T21:44:41.967625Z"
    }
   },
   "outputs": [],
   "source": [
    "numpy.save(\"npRandom.npy\", npRandom)"
   ]
  },
  {
   "cell_type": "markdown",
   "id": "8681fb8f",
   "metadata": {
    "slideshow": {
     "slide_type": "slide"
    }
   },
   "source": [
    "Y accedemos a la información mediante el comando `numpy.load()`"
   ]
  },
  {
   "cell_type": "code",
   "execution_count": null,
   "id": "d70e1d90",
   "metadata": {
    "ExecuteTime": {
     "end_time": "2021-08-29T21:44:42.512137Z",
     "start_time": "2021-08-29T21:44:42.508177Z"
    }
   },
   "outputs": [],
   "source": [
    "numpy.load(\"npRandom.npy\")"
   ]
  },
  {
   "cell_type": "markdown",
   "id": "9fce60cf",
   "metadata": {
    "slideshow": {
     "slide_type": "slide"
    }
   },
   "source": [
    "O también podemos almacenarlo en un archivo con formato `.csv`. También se puede usar otros formatos como `.txt`"
   ]
  },
  {
   "cell_type": "code",
   "execution_count": null,
   "id": "7a4a40c9",
   "metadata": {
    "ExecuteTime": {
     "end_time": "2021-08-29T21:44:43.285084Z",
     "start_time": "2021-08-29T21:44:43.280713Z"
    }
   },
   "outputs": [],
   "source": [
    "numpy.savetxt(\"npRandom.csv\", npRandom) # fmt='%.5f' como argunmento extra especificaria el formato"
   ]
  },
  {
   "cell_type": "markdown",
   "id": "c86d37fe",
   "metadata": {
    "ExecuteTime": {
     "end_time": "2021-08-17T14:32:41.395071Z",
     "start_time": "2021-08-17T14:32:41.392171Z"
    }
   },
   "source": [
    "Y accedemos a la información mediante el comando `numpy.genfromtxt()`"
   ]
  },
  {
   "cell_type": "code",
   "execution_count": null,
   "id": "86c8d6b1",
   "metadata": {
    "ExecuteTime": {
     "end_time": "2021-08-29T21:44:44.281745Z",
     "start_time": "2021-08-29T21:44:44.278023Z"
    }
   },
   "outputs": [],
   "source": [
    "numpy.genfromtxt('npRandom.csv')"
   ]
  },
  {
   "cell_type": "markdown",
   "id": "e0d436cd",
   "metadata": {
    "ExecuteTime": {
     "end_time": "2021-08-17T09:49:54.469906Z",
     "start_time": "2021-08-17T09:49:54.467649Z"
    },
    "slideshow": {
     "slide_type": "skip"
    }
   },
   "source": [
    "---"
   ]
  },
  {
   "cell_type": "markdown",
   "id": "df1e4e90",
   "metadata": {
    "slideshow": {
     "slide_type": "notes"
    }
   },
   "source": [
    "# Matplotlib <a class=\"anchor\" id=\"Matplotlib\"></a>"
   ]
  },
  {
   "cell_type": "markdown",
   "id": "9f793604",
   "metadata": {
    "ExecuteTime": {
     "end_time": "2021-08-17T09:49:40.998851Z",
     "start_time": "2021-08-17T09:49:40.996527Z"
    },
    "slideshow": {
     "slide_type": "slide"
    }
   },
   "source": [
    "<p align=\"center\">\n",
    "<img src='https://matplotlib.org/_static/logo2_compressed.svg' width=\"700\" />\n",
    "    \n",
    "Documentación:[https://matplotlib.org/](https://matplotlib.org/)\n",
    "\n",
    "</p>\n"
   ]
  },
  {
   "cell_type": "markdown",
   "id": "f38e743d",
   "metadata": {
    "slideshow": {
     "slide_type": "slide"
    }
   },
   "source": [
    "`Matplotlib` es una herramienta muy importante en el uso de Python. Este paquete nos da todas las herramientas para trabajar, desarrollar e implementar visualización de datos, arrays, matrices, y funciones generados por Python y otros paquetes como NumPy."
   ]
  },
  {
   "cell_type": "markdown",
   "id": "16fee422",
   "metadata": {
    "slideshow": {
     "slide_type": "slide"
    }
   },
   "source": [
    "Lo primero que vamos hacer para generar un gráfico embebido en una ventana, o lo que denotaremos como **plot** es importar la librería de Matplotlib"
   ]
  },
  {
   "cell_type": "code",
   "execution_count": null,
   "id": "44706914",
   "metadata": {
    "ExecuteTime": {
     "end_time": "2021-08-29T21:44:49.285937Z",
     "start_time": "2021-08-29T21:44:49.111691Z"
    }
   },
   "outputs": [],
   "source": [
    "import matplotlib.pyplot as plt\n",
    "%matplotlib inline\n",
    "#%matplotlib notebook"
   ]
  },
  {
   "cell_type": "code",
   "execution_count": null,
   "id": "64fed935",
   "metadata": {
    "ExecuteTime": {
     "end_time": "2021-08-29T21:44:49.591881Z",
     "start_time": "2021-08-29T21:44:49.585602Z"
    }
   },
   "outputs": [],
   "source": [
    "plt.figure();\n"
   ]
  },
  {
   "cell_type": "markdown",
   "id": "a0a5a971",
   "metadata": {
    "ExecuteTime": {
     "end_time": "2021-08-17T07:33:03.212030Z",
     "start_time": "2021-08-17T07:33:03.209161Z"
    },
    "slideshow": {
     "slide_type": "slide"
    }
   },
   "source": [
    "<div class=\"alert alert-block alert-info\">\n",
    "\n",
    "**Nota** : Graficando en Notebooks\n",
    "    \n",
    "Graficar en Notebooks de Python (i.e., Jupyter Notebooks, Colab) es diferente a cuando se utilizan scripts de Python i.e., `<archivo>.py` pues en los notebooks los plots quedan generados en el notebooks y no en ventanas de la terminal o del IDLE que se utilice. \n",
    "    \n",
    "Por ello en los notebooks debe utilizarse:\n",
    "    \n",
    "    %matplotlib inline\n",
    "    \n",
    "Mientras que en los scripts debe utilizarse al final de los comando de graficación, el comando de `show()`, como por ejemplo:\n",
    "    \n",
    "    \n",
    "```python\n",
    "plt.figure()\n",
    "plt.plot(x, y)\n",
    "plt.show()\n",
    "```\n",
    "    \n",
    "</div>\n"
   ]
  },
  {
   "cell_type": "markdown",
   "id": "6ef8c444",
   "metadata": {
    "slideshow": {
     "slide_type": "slide"
    }
   },
   "source": [
    "## Tipos de plots"
   ]
  },
  {
   "cell_type": "code",
   "execution_count": null,
   "id": "c079b285",
   "metadata": {
    "ExecuteTime": {
     "end_time": "2021-08-29T21:44:51.271237Z",
     "start_time": "2021-08-29T21:44:51.268470Z"
    },
    "slideshow": {
     "slide_type": "slide"
    }
   },
   "outputs": [],
   "source": [
    "#creando la funcion que queremos mostrar\n",
    "x = numpy.linspace(0,100,300)\n",
    "f_x = numpy.sin(x)"
   ]
  },
  {
   "cell_type": "code",
   "execution_count": null,
   "id": "47abc253",
   "metadata": {
    "ExecuteTime": {
     "end_time": "2021-08-29T21:44:52.011683Z",
     "start_time": "2021-08-29T21:44:51.852018Z"
    },
    "slideshow": {
     "slide_type": "slide"
    }
   },
   "outputs": [],
   "source": [
    "plt.plot(x, f_x) #graficando la funcion "
   ]
  },
  {
   "cell_type": "markdown",
   "id": "a7b2b866",
   "metadata": {
    "slideshow": {
     "slide_type": "slide"
    }
   },
   "source": [
    "También existen otros tipos de plots:"
   ]
  },
  {
   "cell_type": "code",
   "execution_count": null,
   "id": "8855db06",
   "metadata": {
    "ExecuteTime": {
     "end_time": "2021-08-29T21:44:52.908458Z",
     "start_time": "2021-08-29T21:44:52.791371Z"
    }
   },
   "outputs": [],
   "source": [
    "plt.scatter(x, f_x)"
   ]
  },
  {
   "cell_type": "code",
   "execution_count": null,
   "id": "3ce91058",
   "metadata": {
    "ExecuteTime": {
     "end_time": "2021-08-29T21:44:53.503901Z",
     "start_time": "2021-08-29T21:44:53.388767Z"
    },
    "slideshow": {
     "slide_type": "slide"
    }
   },
   "outputs": [],
   "source": [
    "plt.fill(x, f_x)"
   ]
  },
  {
   "cell_type": "markdown",
   "id": "4aa5f528",
   "metadata": {
    "ExecuteTime": {
     "end_time": "2021-08-17T07:33:03.212030Z",
     "start_time": "2021-08-17T07:33:03.209161Z"
    },
    "slideshow": {
     "slide_type": "slide"
    }
   },
   "source": [
    "<div class=\"alert alert-block alert-danger\">\n",
    "\n",
    "**Nota** : Cuidar la consistencia del gráfico\n",
    "    \n",
    "Es de suma importancia que la cantidad de puntos del dominio sea la misma cantidad de puntos en los que la función sea evaluada, o de manera más general es importante que ambos array de entradas tengan la misma cantidad de elementos.\n",
    "    \n",
    "</div>\n"
   ]
  },
  {
   "cell_type": "markdown",
   "id": "95ca5db9",
   "metadata": {
    "slideshow": {
     "slide_type": "slide"
    }
   },
   "source": [
    "También es possible sobre poner otros gráficos en el mismo plot además de poder ajustar algunos de las propiedades de los mismos:"
   ]
  },
  {
   "cell_type": "code",
   "execution_count": null,
   "id": "454c6d7b",
   "metadata": {
    "ExecuteTime": {
     "end_time": "2021-08-29T21:44:55.072963Z",
     "start_time": "2021-08-29T21:44:54.809000Z"
    }
   },
   "outputs": [],
   "source": [
    "plt.figure() #inicializa una nueva figura\n",
    "\n",
    "plt.plot(x, numpy.sin(x), color='orange', alpha=0.8, label='sin(x)')\n",
    "plt.plot(x, OsciAmortiguada(x, amp=1, freq=1, ph=0, decay=0.02), color='blue', alpha=0.5, label='Damp. Osc.')\n",
    "\n",
    "plt.legend() #muestra la leyenda\n",
    "\n",
    "plt.xlim(0,100); #ubica los limites a mostrar en el eje X\n",
    "plt.ylim(-1,1); #ubica los limites a mostrar en el eje Y\n",
    "\n",
    "plt.xlabel(r'Time [$\\mu s$]');#titulo del eje X\n",
    "plt.ylabel('Signal'); #titulo del eje Y\n",
    "\n",
    "plt.title('My first plot'); #titulo del plot"
   ]
  },
  {
   "cell_type": "code",
   "execution_count": null,
   "id": "c7df1fa7",
   "metadata": {
    "ExecuteTime": {
     "end_time": "2021-08-29T21:44:55.193619Z",
     "start_time": "2021-08-29T21:44:55.074254Z"
    },
    "slideshow": {
     "slide_type": "slide"
    }
   },
   "outputs": [],
   "source": [
    "plt.figure() #inicializa una nueva figura\n",
    "\n",
    "plt.scatter(x, OsciAmortiguada(x, amp=1, freq=1, ph=0, decay=0.02), color='orange', alpha=0.5, label='Damp. Osc.')\n",
    "plt.plot(x, OsciAmortiguada(x, amp=1, freq=1, ph=0, decay=0.02), color='blue', alpha=0.5, label='Damp. Osc.')\n",
    "\n",
    "plt.legend() #muestra la leyenda\n",
    "\n",
    "plt.xlim(0,100); #ubica los limites a mostrar en el eje X\n",
    "plt.ylim(-1,1); #ubica los limites a mostrar en el eje Y\n",
    "\n",
    "plt.xlabel(r'Time [$\\mu s$]'); #titulo del eje X\n",
    "plt.ylabel('Signal'); #titulo del eje Y\n"
   ]
  },
  {
   "cell_type": "markdown",
   "id": "f8da8a35",
   "metadata": {
    "slideshow": {
     "slide_type": "slide"
    }
   },
   "source": [
    "## Histogramas"
   ]
  },
  {
   "cell_type": "markdown",
   "id": "cbbcc9b6",
   "metadata": {
    "slideshow": {
     "slide_type": "slide"
    }
   },
   "source": [
    "Un tipo de plot que es de gran utilidad para el manejo de datos en Python, son los **histogramas**. Dada una secuencia de datos, este comando de Matplotlib lo que hace es hacer una acumulación de eventos para valor posible en los datos."
   ]
  },
  {
   "cell_type": "code",
   "execution_count": null,
   "id": "194e9128",
   "metadata": {
    "ExecuteTime": {
     "end_time": "2021-08-29T21:44:55.885081Z",
     "start_time": "2021-08-29T21:44:55.882411Z"
    }
   },
   "outputs": [],
   "source": [
    "numpy.random.seed(19680801)\n",
    "multirandData = numpy.random.randn(3, 100) #inicializa dos array como secuencias aleatorias de 100 eventos con valores entre 0 y 1"
   ]
  },
  {
   "cell_type": "code",
   "execution_count": null,
   "id": "c04a0e7e",
   "metadata": {
    "ExecuteTime": {
     "end_time": "2021-08-29T21:44:56.141478Z",
     "start_time": "2021-08-29T21:44:55.981844Z"
    }
   },
   "outputs": [],
   "source": [
    "for i in range(len(multirandData)):\n",
    "    plt.hist(multirandData[i], alpha=0.15, label='Array #'+str(i+1))\n",
    "plt.legend()\n",
    "\n",
    "#¡Escribe esto en una linea!"
   ]
  },
  {
   "cell_type": "markdown",
   "id": "4e47e2bf",
   "metadata": {
    "slideshow": {
     "slide_type": "slide"
    }
   },
   "source": [
    "Matplotlib también puede generar un histograma de los eventos acumulados como se muestra continuación:"
   ]
  },
  {
   "cell_type": "code",
   "execution_count": null,
   "id": "9004e7c7",
   "metadata": {
    "ExecuteTime": {
     "end_time": "2021-08-29T21:44:56.687724Z",
     "start_time": "2021-08-29T21:44:56.527363Z"
    }
   },
   "outputs": [],
   "source": [
    "for i in range(len(multirandData)):\n",
    "    plt.hist(multirandData[i], alpha=0.15, label='Array #'+str(i+1), cumulative=True)\n",
    "plt.legend()"
   ]
  },
  {
   "cell_type": "markdown",
   "id": "a5e313cd",
   "metadata": {
    "slideshow": {
     "slide_type": "slide"
    }
   },
   "source": [
    "## Subplots"
   ]
  },
  {
   "cell_type": "markdown",
   "id": "08c93990",
   "metadata": {
    "ExecuteTime": {
     "end_time": "2021-08-17T07:33:03.212030Z",
     "start_time": "2021-08-17T07:33:03.209161Z"
    }
   },
   "source": [
    "<div class=\"alert alert-block alert-info\">\n",
    "\n",
    "**Nota** : Plots múltiples\n",
    "    \n",
    "Matplotlib tiene la propiedad de realizar varios plots embebidos en la misma venta pero mostrados en diferentes ejes, a lo que se le conoce como `subplots`. La manera estándar de generar un subplot es de la siguiente manera:\n",
    "\n",
    "```python\n",
    "fig, axs = plt.subplots(2, 2, figsize=(5, 5)) #arreglo de 2 por 2 subplots\n",
    "    \n",
    "axs[0, 0].hist(randData[0]) #histograma de los datos\n",
    "axs[1, 0].scatter(randData[0], randData[1]) #valores del 1er array vs 2do array (plot)\n",
    "axs[0, 1].plot(randData[0], randData[1]) #valores del 1er array vs 2do array (scatter)\n",
    "axs[1, 1].hist2d(randData[0], randData[1]) #histograma en 2D\n",
    "```\n",
    "Donde luego de inicializar la figura de subplots, se coloca el eje ```axs[i, j].<tipo de plot>(argumentos)```\n",
    "    \n",
    "</div>\n"
   ]
  },
  {
   "cell_type": "code",
   "execution_count": null,
   "id": "3866d326",
   "metadata": {
    "ExecuteTime": {
     "end_time": "2021-08-29T21:44:57.514101Z",
     "start_time": "2021-08-29T21:44:57.511399Z"
    },
    "slideshow": {
     "slide_type": "slide"
    }
   },
   "outputs": [],
   "source": [
    "numpy.random.seed(19680801)\n",
    "randData = numpy.random.randn(2, 100) #inicializa dos array como secuencias aleatorias de 100 eventos con valores entre 0 y 1"
   ]
  },
  {
   "cell_type": "code",
   "execution_count": null,
   "id": "69ed4c52",
   "metadata": {
    "ExecuteTime": {
     "end_time": "2021-08-29T21:44:57.940078Z",
     "start_time": "2021-08-29T21:44:57.620068Z"
    },
    "slideshow": {
     "slide_type": "-"
    }
   },
   "outputs": [],
   "source": [
    "fig, axs = plt.subplots(2, 2, figsize=(6, 6))\n",
    "axs[0, 0].hist(randData[0])\n",
    "axs[0, 0].set_xlabel('values', fontsize=14)\n",
    "\n",
    "axs[1, 0].scatter(randData[0], randData[1])\n",
    "axs[1, 0].set_xlabel('values', fontsize=14)\n",
    "\n",
    "axs[0, 1].plot(randData[0], randData[1])\n",
    "axs[0, 1].set_xlabel('values', fontsize=14)\n",
    "\n",
    "axs[1, 1].hist2d(randData[0], randData[1])\n",
    "axs[1, 1].set_xlabel('values', fontsize=14)\n",
    "\n",
    "\n",
    "fig.suptitle('Subplots');"
   ]
  },
  {
   "cell_type": "markdown",
   "id": "cdba822a",
   "metadata": {
    "ExecuteTime": {
     "end_time": "2021-08-17T12:29:40.096536Z",
     "start_time": "2021-08-17T12:29:40.093908Z"
    },
    "slideshow": {
     "slide_type": "slide"
    }
   },
   "source": [
    "Pero Python, Matplotlib y muchos otros paquetes son usados para el análisis de imágenes (i.e., matrices), para ello Matplotlib usa el comando `plt.imshow()`"
   ]
  },
  {
   "cell_type": "code",
   "execution_count": null,
   "id": "5681b9f6",
   "metadata": {
    "ExecuteTime": {
     "end_time": "2021-08-29T21:45:00.060954Z",
     "start_time": "2021-08-29T21:44:59.933645Z"
    }
   },
   "outputs": [],
   "source": [
    "plt.figure(figsize=(12,7))\n",
    "plt.imshow(numpy.random.rand(11,11)) #mostrando una matriz aleatoria"
   ]
  },
  {
   "cell_type": "markdown",
   "id": "9051870c",
   "metadata": {
    "ExecuteTime": {
     "end_time": "2021-08-17T13:12:51.115886Z",
     "start_time": "2021-08-17T13:12:51.113238Z"
    },
    "slideshow": {
     "slide_type": "slide"
    }
   },
   "source": [
    "También es possible hacer **plots en 3D**, para ello hay un ejemplo en la documentación de Matplotlib, así como también para otros aspectos: https://matplotlib.org/stable/gallery/mplot3d/surface3d.html"
   ]
  },
  {
   "cell_type": "code",
   "execution_count": null,
   "id": "ee7fa709",
   "metadata": {
    "ExecuteTime": {
     "end_time": "2021-08-29T21:45:01.633516Z",
     "start_time": "2021-08-29T21:45:01.394405Z"
    }
   },
   "outputs": [],
   "source": [
    "fig = plt.figure(figsize=(9,6))\n",
    "\n",
    "axes1 = fig.add_axes([0.1, 0.1, 0.7, 0.78]); #eje mayor axes\n",
    "axes2 = fig.add_axes([0.2, 0.5, 0.2, 0.3]); #eje menor axes\n",
    "\n",
    "#plot mayor\n",
    "axes1.plot(numpy.linspace(-numpy.pi, numpy.pi, 20), numpy.sin(numpy.linspace(-numpy.pi, numpy.pi, 20)), 'r', ls='--', label=r'$\\sin(x)$');\n",
    "axes1.set_xlabel('x');\n",
    "axes1.set_ylabel('y');\n",
    "axes1.set_title('title');\n",
    "axes1.grid(color='purple', alpha=0.4, linestyle='dashed', linewidth=0.9); #añade grid al plot\n",
    "axes1.text(0.2, 0.01, r\"$y=\\sin(x)$\", fontsize=20, color=\"red\"); #añade texto al plot\n",
    "\n",
    "#plot menor\n",
    "axes2.plot(numpy.cos(numpy.linspace(-numpy.pi, numpy.pi, 20)), numpy.sin(numpy.linspace(-numpy.pi, numpy.pi, 20)), 'g', label=r'$(\\cos(x),\\sin(x))$');\n",
    "axes2.set_xlabel('y');\n",
    "axes2.set_ylabel('x');\n",
    "axes2.set_title('mini title');\n",
    "axes2.grid();\n",
    "fig.legend(loc=7); #7='center right'"
   ]
  },
  {
   "cell_type": "markdown",
   "id": "4761bce6",
   "metadata": {
    "slideshow": {
     "slide_type": "slide"
    }
   },
   "source": [
    "## Guardando los plots"
   ]
  },
  {
   "cell_type": "markdown",
   "id": "3fbaf02c",
   "metadata": {},
   "source": [
    "Es muy importante guardar tus resultados en un formato que luego pueda ser utilizado bien sea en presentaciones, artículos o simplemente documentación. Es importante comprender que Matplotlib puede guardar 1 sola figura por archivo, es decir que muchas figuras no pueden ser almacenadas en un mismo archivo imagen (e.g., `.png`, `.jpeg`, `.svg`, `.eps`); sin embargo, es posible almacenar varias figuras en un solo archivo `.pdf` usando funciones especiales de Matplotlib."
   ]
  },
  {
   "cell_type": "code",
   "execution_count": null,
   "id": "f3d3bf92",
   "metadata": {
    "ExecuteTime": {
     "end_time": "2021-08-29T21:45:03.614164Z",
     "start_time": "2021-08-29T21:45:03.540263Z"
    }
   },
   "outputs": [],
   "source": [
    "filename = \"test.svg\"\n",
    "fig.savefig(filename)"
   ]
  },
  {
   "cell_type": "markdown",
   "id": "b52990cc",
   "metadata": {
    "ExecuteTime": {
     "end_time": "2021-08-17T07:33:03.212030Z",
     "start_time": "2021-08-17T07:33:03.209161Z"
    }
   },
   "source": [
    "<div class=\"alert alert-block alert-info\">\n",
    "\n",
    "**Nota** : Revisa\n",
    "    \n",
    "Luego de ejecutar la última celda, un nuevo archivo con nombre `test.svg` debió ser creado. Es también posible cambiar la extensión del archivo a otro formato de los mencionados anteriormente, dependiendo del uso.\n",
    "    \n",
    "</div>\n"
   ]
  },
  {
   "cell_type": "markdown",
   "id": "b6818a22",
   "metadata": {
    "ExecuteTime": {
     "end_time": "2021-08-17T09:49:54.469906Z",
     "start_time": "2021-08-17T09:49:54.467649Z"
    },
    "slideshow": {
     "slide_type": "notes"
    }
   },
   "source": [
    "---"
   ]
  },
  {
   "cell_type": "markdown",
   "id": "bf78d251",
   "metadata": {
    "slideshow": {
     "slide_type": "notes"
    }
   },
   "source": [
    "# SciPy <a class=\"anchor\" id=\"SciPy\"></a>"
   ]
  },
  {
   "cell_type": "markdown",
   "id": "17a3a154",
   "metadata": {
    "ExecuteTime": {
     "end_time": "2021-08-17T10:22:17.820258Z",
     "start_time": "2021-08-17T10:22:17.815606Z"
    },
    "slideshow": {
     "slide_type": "slide"
    }
   },
   "source": [
    "<p align=\"center\">\n",
    "<img src='https://www.scipy.org/_static/logo.png' width=\"400\" />\n",
    "    \n",
    "Documentación:[https://docs.scipy.org/doc/scipy/reference/](https://docs.scipy.org/doc/scipy/reference/)\n",
    "    \n",
    "</p>\n"
   ]
  },
  {
   "cell_type": "markdown",
   "id": "887569b1",
   "metadata": {
    "slideshow": {
     "slide_type": "slide"
    }
   },
   "source": [
    "`Scipy` es un modulo de Python basado en gran parte en el módulo de NumPy que ya hemos revisado. Este módulo, sin embargo, ofrece una serie de herramientas matemáticas más complejas y avanzadas predefinidas y optimizadas."
   ]
  },
  {
   "cell_type": "code",
   "execution_count": null,
   "id": "825b8be1",
   "metadata": {
    "ExecuteTime": {
     "end_time": "2021-08-29T21:45:06.786430Z",
     "start_time": "2021-08-29T21:45:06.775027Z"
    }
   },
   "outputs": [],
   "source": [
    "import scipy as scp"
   ]
  },
  {
   "cell_type": "markdown",
   "id": "033a9ddc",
   "metadata": {
    "slideshow": {
     "slide_type": "slide"
    }
   },
   "source": [
    "## Sub-módulo de álgebra"
   ]
  },
  {
   "cell_type": "code",
   "execution_count": null,
   "id": "65090c23",
   "metadata": {
    "ExecuteTime": {
     "end_time": "2021-08-29T21:45:08.237470Z",
     "start_time": "2021-08-29T21:45:08.204788Z"
    }
   },
   "outputs": [],
   "source": [
    "from scipy.linalg import *"
   ]
  },
  {
   "cell_type": "markdown",
   "id": "0a7540f5",
   "metadata": {
    "slideshow": {
     "slide_type": "slide"
    }
   },
   "source": [
    "### Sistema de ecuaciones lineales"
   ]
  },
  {
   "cell_type": "markdown",
   "id": "939d44d7",
   "metadata": {
    "ExecuteTime": {
     "end_time": "2021-08-17T15:49:41.502394Z",
     "start_time": "2021-08-17T15:49:41.499862Z"
    }
   },
   "source": [
    "Resolver un sistema de ecuaciones lineales es resolver el sistema:\n",
    "    \n",
    "$$ \\mathbf{A}x = \\mathbf{b} $$"
   ]
  },
  {
   "cell_type": "code",
   "execution_count": null,
   "id": "9b670b1f",
   "metadata": {
    "ExecuteTime": {
     "end_time": "2021-08-29T21:45:10.959428Z",
     "start_time": "2021-08-29T21:45:10.956660Z"
    }
   },
   "outputs": [],
   "source": [
    "A = numpy.array([[1,2,3], [4,5,6], [7,8,9]] );\n",
    "b = numpy.array([1,2,3]);"
   ]
  },
  {
   "cell_type": "code",
   "execution_count": null,
   "id": "0caa0889",
   "metadata": {
    "ExecuteTime": {
     "end_time": "2021-08-29T21:45:11.052441Z",
     "start_time": "2021-08-29T21:45:11.048265Z"
    }
   },
   "outputs": [],
   "source": [
    "x = solve(A, b)\n",
    "x"
   ]
  },
  {
   "cell_type": "code",
   "execution_count": null,
   "id": "042d3d5e",
   "metadata": {
    "ExecuteTime": {
     "end_time": "2021-08-29T21:45:11.142687Z",
     "start_time": "2021-08-29T21:45:11.139098Z"
    }
   },
   "outputs": [],
   "source": [
    "numpy.dot(A, x) - b\n"
   ]
  },
  {
   "cell_type": "markdown",
   "id": "c12d8dbd",
   "metadata": {
    "slideshow": {
     "slide_type": "slide"
    }
   },
   "source": [
    "### Autovalores y autovectores"
   ]
  },
  {
   "cell_type": "markdown",
   "id": "963e7a29",
   "metadata": {},
   "source": [
    "En física y muchas otras áreas, los problemas pueden ser resueltos a partir del cálculo de autovalores y autovectores. SciPy nos facilita un comando para calcular ambos simultáneamente:"
   ]
  },
  {
   "cell_type": "code",
   "execution_count": null,
   "id": "8a52f9f8",
   "metadata": {
    "ExecuteTime": {
     "end_time": "2021-08-29T21:45:12.230636Z",
     "start_time": "2021-08-29T21:45:12.227699Z"
    }
   },
   "outputs": [],
   "source": [
    "rMatrix = numpy.random.rand(3,3)\n",
    "evals, evecs = eig(rMatrix); #calcula autovalores y autovalores de matriz Real\n"
   ]
  },
  {
   "cell_type": "code",
   "execution_count": null,
   "id": "60d7b0ec",
   "metadata": {
    "ExecuteTime": {
     "end_time": "2021-08-29T21:45:12.319434Z",
     "start_time": "2021-08-29T21:45:12.316101Z"
    },
    "slideshow": {
     "slide_type": "slide"
    }
   },
   "outputs": [],
   "source": [
    "evals"
   ]
  },
  {
   "cell_type": "code",
   "execution_count": null,
   "id": "d7429dfc",
   "metadata": {
    "ExecuteTime": {
     "end_time": "2021-08-29T21:45:12.488470Z",
     "start_time": "2021-08-29T21:45:12.484499Z"
    },
    "slideshow": {
     "slide_type": "-"
    }
   },
   "outputs": [],
   "source": [
    "evecs"
   ]
  },
  {
   "cell_type": "markdown",
   "id": "2043316d",
   "metadata": {
    "ExecuteTime": {
     "end_time": "2021-08-17T16:21:09.880589Z",
     "start_time": "2021-08-17T16:21:09.878037Z"
    },
    "slideshow": {
     "slide_type": "slide"
    }
   },
   "source": [
    "Igualmente existe un commando para las matrices que Hermíticas:"
   ]
  },
  {
   "cell_type": "code",
   "execution_count": null,
   "id": "86bcb05e",
   "metadata": {
    "ExecuteTime": {
     "end_time": "2021-08-29T21:45:13.304572Z",
     "start_time": "2021-08-29T21:45:13.299649Z"
    }
   },
   "outputs": [],
   "source": [
    "hMatrix = (numpy.random.random(4) + numpy.random.random(4) * 1j).reshape((2,2)); #matriz Hermitica\n",
    "eigh(hMatrix) #calcula autovalores y autovectores de matriz Hermitica"
   ]
  },
  {
   "cell_type": "markdown",
   "id": "a94a96a8",
   "metadata": {
    "slideshow": {
     "slide_type": "slide"
    }
   },
   "source": [
    "### Operaciones matriciales con SciPy"
   ]
  },
  {
   "cell_type": "markdown",
   "id": "093bab13",
   "metadata": {},
   "source": [
    "Igualmente que como vimos con el paquete de Python, es possible realizar una serie de operaciones algebráicas con matrices:"
   ]
  },
  {
   "cell_type": "code",
   "execution_count": null,
   "id": "2c71086e",
   "metadata": {
    "ExecuteTime": {
     "end_time": "2021-08-29T21:45:14.570011Z",
     "start_time": "2021-08-29T21:45:14.566082Z"
    }
   },
   "outputs": [],
   "source": [
    "inv(rMatrix) #calcula la matriz inversa"
   ]
  },
  {
   "cell_type": "code",
   "execution_count": null,
   "id": "4596fa6b",
   "metadata": {
    "ExecuteTime": {
     "end_time": "2021-08-29T21:45:14.669193Z",
     "start_time": "2021-08-29T21:45:14.665650Z"
    }
   },
   "outputs": [],
   "source": [
    "det(rMatrix) #calcula el determinante"
   ]
  },
  {
   "cell_type": "markdown",
   "id": "42b03569",
   "metadata": {
    "ExecuteTime": {
     "end_time": "2021-08-17T07:33:03.212030Z",
     "start_time": "2021-08-17T07:33:03.209161Z"
    },
    "slideshow": {
     "slide_type": "slide"
    }
   },
   "source": [
    "<div class=\"alert alert-block alert-danger\">\n",
    "\n",
    "**Nota** : Comandos repetidos\n",
    "    \n",
    "Es común que uno o más paquetes de Python compartan el mismo nombre de un comando, más aún si uno de ellos es escrito alrededor del otro. Por ello hay que tener cuidado con los argumentos que deben ser introducidos en la sintaxis puesto que esto no necesariamente es igual. Por ejemplo:\n",
    "    \n",
    "    \n",
    "```python\n",
    "import numpy as np\n",
    "\n",
    "    def sin(t, amp, freq, phase):\n",
    "        return amp*np.sin(freq*t + phase)\n",
    "```\n",
    "    \n",
    "En este ejemplo, la función de NumPy funciona distinto: `np.sin(x)` a la función que recién creamos `sin(x, amp, freq, phase)` puesto que la primera necesita 1 argumento de entrada mientras que la segunda utiliza 4 argumentos de entrada.\n",
    "\n",
    "    \n",
    "</div>\n"
   ]
  },
  {
   "cell_type": "markdown",
   "id": "32a641c1",
   "metadata": {
    "slideshow": {
     "slide_type": "slide"
    }
   },
   "source": [
    "### Vista rápida de matrices dispersas"
   ]
  },
  {
   "cell_type": "markdown",
   "id": "684c42f2",
   "metadata": {},
   "source": [
    "Las **matrices dispersas** (*sparse matrices* en inglés, https://en.wikipedia.org/wiki/Sparse_matrix) son aquellas en las cuales la mayoría de los elementos son nulos, y por ende a nivel computacional es más eficiente almacena solo aquellos elementos no-nulos. Esto puede ser muy poco intuitivo pero aumenta la velocidad de cálculo de algunos motores de solucionadores de ecuaciones que utilizan multiplicación de matrices. En SciPy hay un módulo dedicado a esta tarea."
   ]
  },
  {
   "cell_type": "code",
   "execution_count": null,
   "id": "c32a786e",
   "metadata": {
    "ExecuteTime": {
     "end_time": "2021-08-29T21:45:27.593303Z",
     "start_time": "2021-08-29T21:45:27.591035Z"
    }
   },
   "outputs": [],
   "source": [
    "from scipy.sparse import *"
   ]
  },
  {
   "cell_type": "code",
   "execution_count": null,
   "id": "6dd9bad9",
   "metadata": {
    "ExecuteTime": {
     "end_time": "2021-08-29T21:45:27.711525Z",
     "start_time": "2021-08-29T21:45:27.706681Z"
    },
    "slideshow": {
     "slide_type": "slide"
    }
   },
   "outputs": [],
   "source": [
    "M = numpy.array([[1,0,0,0,0,0], \n",
    "                 [0,3,0,0,0,1], \n",
    "                 [0,1,0,1,0,0], \n",
    "                 [1,0,0,1,1,0], \n",
    "                 [1,3,0,0,3,1], \n",
    "                 [0,3,3,0,0,1]]);\n",
    "M"
   ]
  },
  {
   "cell_type": "code",
   "execution_count": null,
   "id": "00291333",
   "metadata": {
    "ExecuteTime": {
     "end_time": "2021-08-29T21:45:28.092146Z",
     "start_time": "2021-08-29T21:45:28.088030Z"
    }
   },
   "outputs": [],
   "source": [
    "sparseM = csr_matrix(M);\n",
    "sparseM"
   ]
  },
  {
   "cell_type": "markdown",
   "id": "45cd6dd0",
   "metadata": {
    "ExecuteTime": {
     "end_time": "2021-08-17T07:33:03.212030Z",
     "start_time": "2021-08-17T07:33:03.209161Z"
    },
    "slideshow": {
     "slide_type": "slide"
    }
   },
   "source": [
    "<div class=\"alert alert-block alert-info\">\n",
    "\n",
    "**Nota** : Formatos de matrices dispersas\n",
    "    \n",
    "Existen varios formatos para almacenar matrices dispersas que estan altamente optimizados y que presentan ciertas ventajas y desventajas al momento de guardar y acceder a los elementos de la matriz.\n",
    "    \n",
    "</div>\n"
   ]
  },
  {
   "cell_type": "code",
   "execution_count": null,
   "id": "8413e9fa",
   "metadata": {
    "ExecuteTime": {
     "end_time": "2021-08-29T21:45:29.428506Z",
     "start_time": "2021-08-29T21:45:29.424575Z"
    }
   },
   "outputs": [],
   "source": [
    "sparseM.todense() #para visualizar la matriz completa"
   ]
  },
  {
   "cell_type": "code",
   "execution_count": null,
   "id": "2572cbe5",
   "metadata": {
    "ExecuteTime": {
     "end_time": "2021-08-29T21:45:29.562568Z",
     "start_time": "2021-08-29T21:45:29.557615Z"
    },
    "slideshow": {
     "slide_type": "slide"
    }
   },
   "outputs": [],
   "source": [
    "sparseM.multiply(sparseM).todense() #producto elemento a elemento"
   ]
  },
  {
   "cell_type": "code",
   "execution_count": null,
   "id": "5c112f39",
   "metadata": {
    "ExecuteTime": {
     "end_time": "2021-08-29T21:45:30.034666Z",
     "start_time": "2021-08-29T21:45:30.031673Z"
    }
   },
   "outputs": [],
   "source": [
    "(sparseM * sparseM).todense() #producto interno de matrices "
   ]
  },
  {
   "cell_type": "code",
   "execution_count": null,
   "id": "05c1d09e",
   "metadata": {
    "ExecuteTime": {
     "end_time": "2021-08-29T21:45:30.183532Z",
     "start_time": "2021-08-29T21:45:30.180296Z"
    }
   },
   "outputs": [],
   "source": [
    "sparseM.dot(sparseM).todense() #producto interno de matrices"
   ]
  },
  {
   "cell_type": "code",
   "execution_count": null,
   "id": "786b59ae",
   "metadata": {
    "ExecuteTime": {
     "end_time": "2021-08-29T21:45:30.458576Z",
     "start_time": "2021-08-29T21:45:30.455234Z"
    },
    "slideshow": {
     "slide_type": "slide"
    }
   },
   "outputs": [],
   "source": [
    "v = numpy.array([1,2,3,4,5,6])[:,numpy.newaxis]; #anadiendo indices a un vector"
   ]
  },
  {
   "cell_type": "code",
   "execution_count": null,
   "id": "e7af27cd",
   "metadata": {
    "ExecuteTime": {
     "end_time": "2021-08-29T21:45:30.874350Z",
     "start_time": "2021-08-29T21:45:30.871432Z"
    },
    "slideshow": {
     "slide_type": "-"
    }
   },
   "outputs": [],
   "source": [
    "numpy.shape(v) #verificando las dimensiones"
   ]
  },
  {
   "cell_type": "code",
   "execution_count": null,
   "id": "a4ce38d7",
   "metadata": {
    "ExecuteTime": {
     "end_time": "2021-08-29T21:45:31.416321Z",
     "start_time": "2021-08-29T21:45:31.413172Z"
    },
    "slideshow": {
     "slide_type": "slide"
    }
   },
   "outputs": [],
   "source": [
    "sparseM * v #producto de matriz dispersa con vector"
   ]
  },
  {
   "cell_type": "code",
   "execution_count": null,
   "id": "02ef5330",
   "metadata": {
    "ExecuteTime": {
     "end_time": "2021-08-29T21:45:31.766218Z",
     "start_time": "2021-08-29T21:45:31.762835Z"
    }
   },
   "outputs": [],
   "source": [
    "sparseM.todense() * v #producto de matriz completa con vector (revision del mismo resultado)"
   ]
  },
  {
   "cell_type": "markdown",
   "id": "721ec4a6",
   "metadata": {
    "slideshow": {
     "slide_type": "slide"
    }
   },
   "source": [
    "## Sub-módulos de cálculo"
   ]
  },
  {
   "cell_type": "markdown",
   "id": "75bd4910",
   "metadata": {
    "slideshow": {
     "slide_type": "slide"
    }
   },
   "source": [
    "### Funciones especiales"
   ]
  },
  {
   "cell_type": "code",
   "execution_count": null,
   "id": "d79d93aa",
   "metadata": {
    "ExecuteTime": {
     "end_time": "2021-08-29T21:45:33.516733Z",
     "start_time": "2021-08-29T21:45:33.510540Z"
    }
   },
   "outputs": [],
   "source": [
    "from scipy.special import jn, yn, jn_zeros, yn_zeros, lpmv, sph_harm, gamma, sinc, eval_laguerre"
   ]
  },
  {
   "cell_type": "markdown",
   "id": "0d55e0a0",
   "metadata": {
    "slideshow": {
     "slide_type": "slide"
    }
   },
   "source": [
    "**Funciones de Bessel**\n",
    "\n",
    "\\begin{equation}\n",
    "J_{\\alpha }(x)=\\sum _{m=0}^{\\infty }{\\frac {(-1)^{m}}{m!\\Gamma (m+\\alpha +1)}}{\\left({\\frac {x}{2}}\\right)}^{2m+\\alpha }\n",
    "\\end{equation}"
   ]
  },
  {
   "cell_type": "code",
   "execution_count": null,
   "id": "565bc202",
   "metadata": {
    "ExecuteTime": {
     "end_time": "2021-08-29T21:45:34.504323Z",
     "start_time": "2021-08-29T21:45:34.500636Z"
    }
   },
   "outputs": [],
   "source": [
    "n = 0    #orden\n",
    "\n",
    "x = 0.0\n",
    "#funcion de Bessel del primer tipo\n",
    "print(\"J_%d(%f) = %f\" % (n, x, jn(n, x)))\n",
    "\n",
    "x = 1.0\n",
    "#funcion de Bessel del segundo tipo\n",
    "print(\"Y_%d(%f) = %f\" % (n, x, yn(n, x)))"
   ]
  },
  {
   "cell_type": "code",
   "execution_count": null,
   "id": "fcd4c5ce",
   "metadata": {
    "ExecuteTime": {
     "end_time": "2021-08-29T21:45:34.954820Z",
     "start_time": "2021-08-29T21:45:34.806320Z"
    },
    "slideshow": {
     "slide_type": "slide"
    }
   },
   "outputs": [],
   "source": [
    "x = numpy.linspace(0, 10, 100)\n",
    "\n",
    "fig, ax = plt.subplots()\n",
    "for n in range(4):\n",
    "    ax.plot(x, jn(n, x), label=r\"$J_%d(x)$\" % n)\n",
    "ax.legend();"
   ]
  },
  {
   "cell_type": "code",
   "execution_count": null,
   "id": "b842a298",
   "metadata": {
    "ExecuteTime": {
     "end_time": "2021-08-29T21:45:35.252438Z",
     "start_time": "2021-08-29T21:45:35.249290Z"
    }
   },
   "outputs": [],
   "source": [
    "#los primero 4 raíces(ceros) de la funcion de Bessel de orden 0\n",
    "n = 0; \n",
    "m = 4; \n",
    "jn_zeros(n, m)"
   ]
  },
  {
   "cell_type": "markdown",
   "id": "b6c76531",
   "metadata": {
    "ExecuteTime": {
     "end_time": "2021-08-17T17:12:47.281852Z",
     "start_time": "2021-08-17T17:12:47.279483Z"
    },
    "slideshow": {
     "slide_type": "slide"
    }
   },
   "source": [
    "**Función ```Sinc(x)```**\n",
    "\n",
    "\\begin{equation}\n",
    "\\operatorname {sinc} (x)={\\frac {\\sin (x)}{x}}\n",
    "\\end{equation}"
   ]
  },
  {
   "cell_type": "code",
   "execution_count": null,
   "id": "6ac27def",
   "metadata": {
    "ExecuteTime": {
     "end_time": "2021-08-29T21:45:36.370648Z",
     "start_time": "2021-08-29T21:45:36.262659Z"
    }
   },
   "outputs": [],
   "source": [
    "x = numpy.linspace(-10, 10, 200)\n",
    "plt.plot(x, sinc(x))"
   ]
  },
  {
   "cell_type": "markdown",
   "id": "306a750a",
   "metadata": {
    "ExecuteTime": {
     "end_time": "2021-08-17T17:12:47.281852Z",
     "start_time": "2021-08-17T17:12:47.279483Z"
    },
    "slideshow": {
     "slide_type": "slide"
    }
   },
   "source": [
    "**Función Gamma**\n",
    "\n",
    "\\begin{equation}\n",
    "\\Gamma (z)=\\int _{0}^{\\infty }x^{z-1}e^{-x}\\,dx\n",
    "\\end{equation}"
   ]
  },
  {
   "cell_type": "code",
   "execution_count": null,
   "id": "f23dc1dd",
   "metadata": {
    "ExecuteTime": {
     "end_time": "2021-08-29T21:45:37.363213Z",
     "start_time": "2021-08-29T21:45:37.266751Z"
    }
   },
   "outputs": [],
   "source": [
    "x = numpy.linspace(-3.5, 5.5, 2251)\n",
    "plt.plot(x, gamma(x))\n",
    "plt.ylim(-10, 25)"
   ]
  },
  {
   "cell_type": "markdown",
   "id": "14cd6b97",
   "metadata": {
    "ExecuteTime": {
     "end_time": "2021-08-17T17:12:47.281852Z",
     "start_time": "2021-08-17T17:12:47.279483Z"
    },
    "slideshow": {
     "slide_type": "slide"
    }
   },
   "source": [
    "**Funciones de Leguerre**\n",
    "\n",
    "Las cuales estan generadas por esta fórmula de recursión de Rodrígues:\n",
    "\n",
    "\\begin{equation}\n",
    "L_{n}(x)={\\frac {e^{x}}{n!}}{\\frac {d^{n}}{dx^{n}}}\\left(e^{-x}x^{n}\\right)={\\frac {1}{n!}}\\left({\\frac {d}{dx}}-1\\right)^{n}x^{n}\n",
    "\\end{equation}"
   ]
  },
  {
   "cell_type": "code",
   "execution_count": null,
   "id": "5be6db7a",
   "metadata": {
    "ExecuteTime": {
     "end_time": "2021-08-29T21:45:37.961572Z",
     "start_time": "2021-08-29T21:45:37.777293Z"
    }
   },
   "outputs": [],
   "source": [
    "mlst = numpy.arange(0,5); #degree\n",
    "\n",
    "fig, ax = plt.subplots()\n",
    "for i in range(len(mlst)):\n",
    "    x=numpy.linspace(-2,10, 3000)\n",
    "    ax.plot(x, eval_laguerre(mlst[i],  x), label=r'$\\mathcal{L}$'+str(i))\n",
    "ax.legend();"
   ]
  },
  {
   "cell_type": "markdown",
   "id": "e2daf02f",
   "metadata": {
    "ExecuteTime": {
     "end_time": "2021-08-17T17:12:47.281852Z",
     "start_time": "2021-08-17T17:12:47.279483Z"
    },
    "slideshow": {
     "slide_type": "slide"
    }
   },
   "source": [
    "**Funciones de Legendre**\n",
    "Estas también pueden ser generadas por otra fórmula de recursión de Rodrígues:\n",
    "\n",
    "\\begin{equation}\n",
    "P_{n}(x)={\\frac {1}{2^{n}n!}}{\\frac {d^{n}}{dx^{n}}}(x^{2}-1)^{n}\n",
    "\\end{equation}"
   ]
  },
  {
   "cell_type": "code",
   "execution_count": null,
   "id": "50791b17",
   "metadata": {
    "ExecuteTime": {
     "end_time": "2021-08-29T21:45:39.160428Z",
     "start_time": "2021-08-29T21:45:38.982121Z"
    }
   },
   "outputs": [],
   "source": [
    "m = 1; #orden\n",
    "vlst = numpy.arange(0,5);\n",
    "\n",
    "fig, ax = plt.subplots()\n",
    "for i in range(len(vlst)):\n",
    "    x=numpy.linspace(-100,100, 3000)\n",
    "    ax.plot(x, lpmv(m, vlst[i], x), label=r'$\\mathcal{L}$'+str(i))\n",
    "ax.legend();"
   ]
  },
  {
   "cell_type": "markdown",
   "id": "41256b88",
   "metadata": {
    "ExecuteTime": {
     "end_time": "2021-08-17T17:12:47.281852Z",
     "start_time": "2021-08-17T17:12:47.279483Z"
    },
    "slideshow": {
     "slide_type": "slide"
    }
   },
   "source": [
    "**Funciones de los Armónicos Esféricos**\n",
    "\n",
    "Estas funciones resultan del producto de una exponencial compleja y su respectivo polinomio de Legendre $P_{\\ell }^{m}(\\cos {\\theta }$:\n",
    "\n",
    "\\begin{equation}\n",
    "Y_{\\ell }^{m}(\\theta ,\\varphi )=Ne^{im\\varphi }P_{\\ell }^{m}(\\cos {\\theta })\n",
    "\\end{equation}"
   ]
  },
  {
   "cell_type": "code",
   "execution_count": null,
   "id": "194a659b",
   "metadata": {
    "ExecuteTime": {
     "end_time": "2021-08-29T21:45:39.770876Z",
     "start_time": "2021-08-29T21:45:39.760121Z"
    }
   },
   "outputs": [],
   "source": [
    "from matplotlib import cm, colors\n",
    "\n",
    "l = 4;   #grado del armonico\n",
    "m = 2;   #orden\n",
    "phi, theta = numpy.mgrid[0:2*numpy.pi:200j, 0:numpy.pi:100j] #array de variables angulares\n",
    "# R = numpy.abs(sph_harm(m, l, phi, theta)) #array de valores absolutos de Ymn\n",
    "R = (sph_harm(m, l, phi, theta)).real #array de valores absolutos de Ymn\n",
    "\n",
    "#A continuación convertimos a coordenadas cartesianas\n",
    "# para su representación 3D\n",
    "X = R * numpy.sin(theta) * numpy.cos(phi)\n",
    "Y = R * numpy.sin(theta) * numpy.sin(phi)\n",
    "Z = R * numpy.cos(theta)"
   ]
  },
  {
   "cell_type": "code",
   "execution_count": null,
   "id": "188d84ea",
   "metadata": {
    "ExecuteTime": {
     "end_time": "2021-08-29T21:45:42.247753Z",
     "start_time": "2021-08-29T21:45:40.292206Z"
    },
    "slideshow": {
     "slide_type": "slide"
    }
   },
   "outputs": [],
   "source": [
    "\n",
    "N = R/R.max()    #normalizacion de R para que ajustar el rango del colormap.\n",
    "\n",
    "fig, ax = plt.subplots(subplot_kw=dict(projection='3d'), figsize=(12,10))\n",
    "\n",
    "im = ax.plot_surface(X, Y, Z, rstride=1, cstride=1, facecolors=cm.ocean(N), alpha=0.3)\n",
    "\n",
    "ax.set_title(r'$|\\mathcal{Y}^2_ 4|$', fontsize=20)\n",
    "m = cm.ScalarMappable(cmap=cm.ocean)\n",
    "m.set_array(R)    #asigna el mappable al array de datos sin normalizar\n",
    "\n",
    "fig.colorbar(m, shrink=0.8);"
   ]
  },
  {
   "cell_type": "markdown",
   "id": "9fd10590",
   "metadata": {
    "slideshow": {
     "slide_type": "slide"
    }
   },
   "source": [
    "### Integración"
   ]
  },
  {
   "cell_type": "markdown",
   "id": "28d18ad4",
   "metadata": {},
   "source": [
    "La operación de integración en SciPy recibe el nombre de cuadratura numérica denotado por `quad()`, de igual manera la generalización a 2, 3 o más integrales estan denotadas en SciPy como: `dblquad()`, `tplquad()` y `nquad()`. Lo primero que se debe hacer para poder utilizar esta herramienta es importar los comandos directamente."
   ]
  },
  {
   "cell_type": "code",
   "execution_count": null,
   "id": "a03468ee",
   "metadata": {
    "ExecuteTime": {
     "end_time": "2021-08-29T21:45:42.443178Z",
     "start_time": "2021-08-29T21:45:42.381861Z"
    }
   },
   "outputs": [],
   "source": [
    "from scipy.integrate import quad, dblquad, tplquad, nquad"
   ]
  },
  {
   "cell_type": "markdown",
   "id": "972c1e23",
   "metadata": {
    "slideshow": {
     "slide_type": "slide"
    }
   },
   "source": [
    "Para el caso de **una integral** definida:\n",
    "\n",
    "$$ \\int_{a}^{b}f(x) dx $$"
   ]
  },
  {
   "cell_type": "code",
   "execution_count": null,
   "id": "24214614",
   "metadata": {
    "ExecuteTime": {
     "end_time": "2021-08-29T21:45:43.784476Z",
     "start_time": "2021-08-29T21:45:43.780997Z"
    },
    "code_folding": []
   },
   "outputs": [],
   "source": [
    "def f1v(x):\n",
    "    return x**2 #funcion de Python que regresa el valor de la funcion evaluada en x. Aqui va la funcion a integrar\n",
    "\n",
    "a = 0; #limite inferior\n",
    "b = 1; #limite superior\n",
    "\n",
    "intVal, asbERR = quad(f1v, a, b); #calculo de la integral\n",
    "\n",
    "print (\"Integral value: {0:.5f} \\nAbsolute error: {1:.5E}\".format(intVal,asbERR)) "
   ]
  },
  {
   "cell_type": "markdown",
   "id": "023bc729",
   "metadata": {
    "ExecuteTime": {
     "end_time": "2021-08-18T12:42:49.718677Z",
     "start_time": "2021-08-18T12:42:49.715363Z"
    },
    "slideshow": {
     "slide_type": "slide"
    }
   },
   "source": [
    "<div class=\"alert alert-block alert-info\">\n",
    "\n",
    "**Nota** : Función Lambda de Python\n",
    "    \n",
    "Recordemos que podemos hacer una función corta comprendida en una sola expresión de Python, usando la función lambda. Que funciona de la siguiente manera:    \n",
    "    \n",
    "<p align=\"center\">\n",
    "<img src='https://drive.google.com/uc?export=view&id=1OSoFreNH0XCpVvWikY4vUFYq-N9hmylm' width=\"700\" align=\"center\" />\n",
    "</p>\n",
    "Esta en general puede estar acompañada de la función `map()` que difunde los valores de entradas a la función lambda. Por ejemplo:\n",
    "\n",
    "```python\n",
    "numbers = [1,2,3]\n",
    "result = map(lambda x: x**2, numbers)\n",
    ">> 1, 4, 6\n",
    "```\n",
    "</div>\n"
   ]
  },
  {
   "cell_type": "markdown",
   "id": "ff3bf2d6",
   "metadata": {
    "ExecuteTime": {
     "end_time": "2021-08-18T12:53:19.980585Z",
     "start_time": "2021-08-18T12:53:19.977256Z"
    },
    "slideshow": {
     "slide_type": "slide"
    }
   },
   "source": [
    "Para el caso de **dos integrales** definidas:\n",
    "\n",
    "$$\\int_{c}^{d}\\!\\! \\int_{a}^{b}\\!\\! f(x,y)\\, dx dy $$"
   ]
  },
  {
   "cell_type": "code",
   "execution_count": null,
   "id": "8b83bf96",
   "metadata": {
    "ExecuteTime": {
     "end_time": "2021-08-29T21:45:45.716906Z",
     "start_time": "2021-08-29T21:45:45.703895Z"
    },
    "code_folding": [
     0
    ]
   },
   "outputs": [],
   "source": [
    "def f2v(x, y):\n",
    "    return numpy.exp(-x**2-y**2)\n",
    "\n",
    "a = 0; #limite inferior\n",
    "b = 10; #limite superior\n",
    "c = 0; #limite inferior\n",
    "d = 10; #limite superior\n",
    "\n",
    "intDVal, asbERRD = dblquad(f2v, a, b, lambda x : c, lambda x: d); #calculando la integral doble\n",
    "\n",
    "print (\"Integral value: {0:.5f} \\nAbsolute error: {1:.5E}\".format(intDVal,asbERRD)) "
   ]
  },
  {
   "cell_type": "markdown",
   "id": "90eb49d2",
   "metadata": {
    "slideshow": {
     "slide_type": "slide"
    }
   },
   "source": [
    "Para el caso de **tres integrales** definidas:\n",
    "\n",
    "$$\\int_{e}^{f}\\!\\! \\int_{c}^{d}\\!\\! \\int_{a}^{b}\\!\\! f(x,y,z)\\, dx dy dz$$"
   ]
  },
  {
   "cell_type": "code",
   "execution_count": null,
   "id": "27241e82",
   "metadata": {
    "ExecuteTime": {
     "end_time": "2021-08-29T21:45:47.021475Z",
     "start_time": "2021-08-29T21:45:46.877653Z"
    },
    "code_folding": [
     0
    ]
   },
   "outputs": [],
   "source": [
    "def f3v(x, y, z):\n",
    "    return numpy.exp(-x**2-y**2)\n",
    "\n",
    "a = 0; #limite inferior\n",
    "b = 10; #limite superior\n",
    "c = 0; #limite inferior\n",
    "d = 10; #limite superior\n",
    "e = 0; #limite inferior\n",
    "f = 10; #limite superior\n",
    "\n",
    "intTVal, asbERRT = tplquad(f3v, a, b, lambda x : c, lambda x: d, lambda x,y: e, lambda x,y: f); #calculando la integral triple\n",
    "\n",
    "print (\"Integral value: {0:.5f} \\nAbsolute error: {1:.5E}\".format(intTVal,asbERRT)) "
   ]
  },
  {
   "cell_type": "markdown",
   "id": "eb905286",
   "metadata": {
    "slideshow": {
     "slide_type": "slide"
    }
   },
   "source": [
    "### Ecuaciones differenciales"
   ]
  },
  {
   "cell_type": "markdown",
   "id": "837ddbce",
   "metadata": {},
   "source": [
    "En física es común encontrarse con problemas que pueden ser descritos por funciones que se obtienen de resolver ecuaciones que establecen la tasa de cambio de dicha función respecto a uno más parámetros. El ejemplo, más general que se puede pensar es el de las ecuaciones de movimiento de un sistema dinámico. Esto es, que la tasa de cambio de una función $y(t)$ o en otras palabras $y'(t)$ es una función $f(y,t)$ y al resolver la ecuación diferencial ordinaria (EDO o ODE en inglés):\n",
    "\n",
    "$$y'(t) = f(y,t)$$\n",
    "\n",
    "encontramos la función $y(t)$ que describe la dinámica. Veamos un ejemplo aunque primero debemos importar las funciones de SciPy `odeint()` que vamos utilizar."
   ]
  },
  {
   "cell_type": "code",
   "execution_count": null,
   "id": "ba48be65",
   "metadata": {
    "ExecuteTime": {
     "end_time": "2021-08-29T21:45:48.996762Z",
     "start_time": "2021-08-29T21:45:48.994378Z"
    }
   },
   "outputs": [],
   "source": [
    "from scipy.integrate import odeint, ode"
   ]
  },
  {
   "cell_type": "markdown",
   "id": "17a63f05",
   "metadata": {
    "slideshow": {
     "slide_type": "slide"
    }
   },
   "source": [
    "Para utilizar este comando lo importante es:\n",
    "\n",
    "    - Definir la función $f(y,t)$ o lado derecho de la EDO\n",
    "    - Condiciones iniciales del sistema $y(0)$\n",
    "    - Dominio del tiempo\n",
    "    - Parámetros de la EDO"
   ]
  },
  {
   "cell_type": "markdown",
   "id": "df25d01a",
   "metadata": {
    "slideshow": {
     "slide_type": "slide"
    }
   },
   "source": [
    "Ejemplo de oscilador harmónico amortiguado\n",
    "\n",
    "La ecuación de movimiento es:\n",
    "\n",
    "$$ \\frac{\\text{d}^{2}x}{\\text{d}t^{2}} + 2\\zeta \\omega_o \\frac{\\text{d}x}{\\text{d}t} +2 \\omega^{2}_o x = 0 $$\n",
    "\n",
    "En el cual $x$ es la variable de la función, $\\omega_o$ es la frecuencia natural o de resonancia y $\\zeta$ es la tasa de amortiguación. Esta ecuación puede ser re-escrita de forma que la EDO de 2do orden se convierta en un sistema de EDO de 1er orden. Esto implica también que requerimos 2 valores iniciales: uno para la derivada y otro para la función $x_o = [x(0), x'(0)]$\n",
    "\n",
    "\\begin{equation}\n",
    "    \\begin{cases}\n",
    "      \\frac{\\text{d}p}{\\text{d}t} = -2\\zeta\\omega_o p - \\omega^2_ox\\\\\n",
    "      \\frac{\\text{d}x}{\\text{d}t} = p\n",
    "    \\end{cases}\\,.\n",
    "\\end{equation}"
   ]
  },
  {
   "cell_type": "code",
   "execution_count": null,
   "id": "129cb36a",
   "metadata": {
    "ExecuteTime": {
     "end_time": "2021-08-29T21:45:51.208200Z",
     "start_time": "2021-08-29T21:45:51.204837Z"
    }
   },
   "outputs": [],
   "source": [
    "#definimos el lado derecho de las ecuaciones del sistema\n",
    "def dy(y, t, zeta, w0):\n",
    "    x, p = y[0], y[1]\n",
    "    \n",
    "    dx = p\n",
    "    dp = -2 * zeta * w0 * p - w0**2 * x\n",
    "\n",
    "    return [dx, dp]\n",
    "\n",
    "y0 = [1.0, 0.0]; #condiciones iniciales\n",
    "t = numpy.linspace(0, 10, 1000); #dominio del tiempo\n",
    "w0 = 2*numpy.pi*1.0; #frecuencia natural o de resonancia del sistema"
   ]
  },
  {
   "cell_type": "code",
   "execution_count": null,
   "id": "d4312ce7",
   "metadata": {
    "ExecuteTime": {
     "end_time": "2021-08-29T21:45:52.338488Z",
     "start_time": "2021-08-29T21:45:52.215065Z"
    },
    "slideshow": {
     "slide_type": "slide"
    }
   },
   "outputs": [],
   "source": [
    "y = odeint(dy, y0, t, args=(0.07, w0)); #resolviendo el sistema de EDO\n",
    "\n",
    "fig, ax = plt.subplots()\n",
    "ax.plot(t, y[:,0], 'b', label=r\"y(t)\", linewidth=0.25)\n",
    "ax.plot(t, numpy.cos(w0*t), 'k', label=r\"Reference frequency\", linewidth=0.25, alpha=0.3)\n",
    "ax.legend(loc=1);"
   ]
  },
  {
   "cell_type": "markdown",
   "id": "83396587",
   "metadata": {
    "slideshow": {
     "slide_type": "slide"
    }
   },
   "source": [
    "<div class=\"alert alert-block alert-info\">\n",
    "\n",
    "**Nota** : Construye tu propio solucionador de EDO\n",
    "    \n",
    "Para ejemplos de como aplicar tu solucionador de Ecuaciones Diferenciales, puedes revisar este cuaderno que contiene ejemplo detallados de los métodos para resolver EDO. \n",
    "    \n",
    "<br>\n",
    "Repositorio de GitHub de: M.Caicedo\n",
    "    \n",
    "https://github.com/mario-i-caicedo-ai/Ondas-y-Optica/blob/d6bed82f460856edb11b15ac071238f53e73d71a/cuadernos/Sol_Num_de_EDO.ipynb\n",
    "    \n",
    "</div>\n",
    " "
   ]
  },
  {
   "cell_type": "markdown",
   "id": "34f37055",
   "metadata": {
    "slideshow": {
     "slide_type": "slide"
    }
   },
   "source": [
    "### Transformada de Fourier"
   ]
  },
  {
   "cell_type": "code",
   "execution_count": null,
   "id": "851a707e",
   "metadata": {
    "ExecuteTime": {
     "end_time": "2021-08-29T21:45:55.536587Z",
     "start_time": "2021-08-29T21:45:55.530129Z"
    }
   },
   "outputs": [],
   "source": [
    "from scipy.fft import fft, ifft, fftfreq"
   ]
  },
  {
   "cell_type": "code",
   "execution_count": null,
   "id": "6e870c4b",
   "metadata": {
    "ExecuteTime": {
     "end_time": "2021-08-29T21:45:56.417262Z",
     "start_time": "2021-08-29T21:45:56.324702Z"
    }
   },
   "outputs": [],
   "source": [
    "signal = y[:,0]#*numpy.sin(numpy.random.rand(1000)*3*t)\n",
    "\n",
    "fourier = fft(signal)\n",
    "n = signal.size\n",
    "timestep = t[1]-t[0]\n",
    "freq = fftfreq(n, d=timestep)\n",
    "\n",
    "# plt.plot(freq, abs(fourier))\n",
    "# plt.xlim(0,5);\n",
    "\n",
    "plt.plot(freq[numpy.where(freq > 0)], abs(fourier[numpy.where(freq > 0)]))\n"
   ]
  },
  {
   "cell_type": "markdown",
   "id": "4d505e2d",
   "metadata": {
    "slideshow": {
     "slide_type": "slide"
    }
   },
   "source": [
    "<div class=\"alert alert-block alert-info\">\n",
    "\n",
    "**Nota** : También en NumPy!\n",
    "    \n",
    "Como mencionamos anteriormente, SciPy esta escrito alrededor de NumPy por ende utiliza array para realizar los cálculos. En ocasiones es tan parecido que es difícil determinar las diferencias. En el ejemplo anterior ubiese sido equivalente si en lugar de importar las funciones desde SciPy, las hubiesemos importado desde NumPy:\n",
    "    \n",
    "```python\n",
    "from numpy.fft import fft, fftfreq\n",
    "```\n",
    "</div>\n",
    " "
   ]
  },
  {
   "cell_type": "markdown",
   "id": "a3b802f0",
   "metadata": {
    "ExecuteTime": {
     "end_time": "2021-08-18T14:32:13.361255Z",
     "start_time": "2021-08-18T14:32:13.355634Z"
    }
   },
   "source": [
    "Adicionalmente en SciPy existe una serie de transformaciones matemáticas ya implementadas, para más información revisar: https://docs.scipy.org/doc/scipy/reference/tutorial/fft.html"
   ]
  },
  {
   "cell_type": "markdown",
   "id": "d60098bb",
   "metadata": {
    "slideshow": {
     "slide_type": "slide"
    }
   },
   "source": [
    "## Sub-módulo de procesamiento de señales"
   ]
  },
  {
   "cell_type": "code",
   "execution_count": null,
   "id": "f921ce28",
   "metadata": {
    "ExecuteTime": {
     "end_time": "2021-08-29T21:46:00.599060Z",
     "start_time": "2021-08-29T21:46:00.475844Z"
    }
   },
   "outputs": [],
   "source": [
    "from scipy import signal\n"
   ]
  },
  {
   "cell_type": "markdown",
   "id": "0c389415",
   "metadata": {
    "slideshow": {
     "slide_type": "slide"
    }
   },
   "source": [
    "Una herramienta importante en el análisis de señales es la generación de arrays que describan un tipo de onda, que bien puede tiener una expresión matemática definida (fórmula) en el caso de las formas de ondas o no en el caso de los Splines"
   ]
  },
  {
   "cell_type": "markdown",
   "id": "a0370216",
   "metadata": {
    "ExecuteTime": {
     "end_time": "2021-08-19T09:50:06.913297Z",
     "start_time": "2021-08-19T09:50:06.801420Z"
    },
    "slideshow": {
     "slide_type": "slide"
    }
   },
   "source": [
    "**Forma de ondas**"
   ]
  },
  {
   "cell_type": "code",
   "execution_count": null,
   "id": "7284585f",
   "metadata": {
    "ExecuteTime": {
     "end_time": "2021-08-29T21:46:02.817700Z",
     "start_time": "2021-08-29T21:46:02.812615Z"
    }
   },
   "outputs": [],
   "source": [
    "t = numpy.linspace(-1, 1, 500, endpoint=False); #dominio del tiempo\n",
    "\n",
    "#algunas senales que se pueden general en SciPy\n",
    "\n",
    "SineSignal = numpy.sin(2 * numpy.pi * t); #senal generica de un seno(2pi*t), frecuencia=1osc por unidad de tiempo\n",
    "\n",
    "DiracDeltaSignal = signal.unit_impulse(500, 250); #Delta de Dirac centrada en 0\n",
    "SquareSignal = signal.square(2 * numpy.pi * 6 * t); #senal cuadrada periodica\n",
    "SawtoothSignal = signal.sawtooth(2 * numpy.pi * 5 * t); #senal diente de sierra\n",
    "quadrature, GaussPulseSignal = signal.gausspulse(numpy.linspace(-1,1,500), fc=5, retenv=True); #senal de pulso gaussiano\n",
    "ChirpSignal = signal.chirp(t, f0=1, f1=180, t1=5, method='linear'); #senal de frecuencia modulada pulsada\n",
    "MorletSignal = signal.morlet(len(t)); #senal de paquete de ondas de Morlet\n",
    "\n",
    "Signals = [DiracDeltaSignal, SquareSignal, SawtoothSignal, GaussPulseSignal, ChirpSignal, MorletSignal]; #lista de senales\n"
   ]
  },
  {
   "cell_type": "code",
   "execution_count": null,
   "id": "9358ca0e",
   "metadata": {
    "ExecuteTime": {
     "end_time": "2021-08-29T21:46:04.340333Z",
     "start_time": "2021-08-29T21:46:03.801597Z"
    },
    "slideshow": {
     "slide_type": "slide"
    }
   },
   "outputs": [],
   "source": [
    "#Graficando\n",
    "fig, ax = plt.subplots(nrows=2, ncols=3,figsize=(15,8))\n",
    "i=0;\n",
    "for row in ax:\n",
    "    for col in row:\n",
    "        \n",
    "        col.plot(numpy.linspace(-1,1, len(Signals[i])), Signals[i])\n",
    "        i+=1;"
   ]
  },
  {
   "cell_type": "markdown",
   "id": "6f122f21",
   "metadata": {
    "ExecuteTime": {
     "end_time": "2021-08-19T12:22:17.685936Z",
     "start_time": "2021-08-19T12:22:17.682494Z"
    },
    "slideshow": {
     "slide_type": "slide"
    }
   },
   "source": [
    "**Splines**"
   ]
  },
  {
   "cell_type": "markdown",
   "id": "3a31885a",
   "metadata": {},
   "source": [
    "Los splines no solo sirven para hacer trazados suaves de formas de ondas de las cuales se conocen algunos valores, sino también para suavizar señales ruidosas como un primer filtro que se puede emplear, en lugar de usar comandos especializados para el filtraje de señales como se verá en las próximas secciones."
   ]
  },
  {
   "cell_type": "code",
   "execution_count": null,
   "id": "a4429464",
   "metadata": {
    "ExecuteTime": {
     "end_time": "2021-08-29T21:46:07.217879Z",
     "start_time": "2021-08-29T21:46:07.114970Z"
    },
    "slideshow": {
     "slide_type": "-"
    }
   },
   "outputs": [],
   "source": [
    "t = numpy.linspace(0, 1, 11); #dominio de la forma de onda\n",
    "amp_vals = numpy.array([0.0,0.1,0.4,0.9,0.99,1.0,0.99,0.9,0.4,0.1,0.0]); #valores de la amplitud\n",
    "\n",
    "points = numpy.stack((t,amp_vals),axis=1); #valores en pares del dominio y amplitud\n",
    "\n",
    "spline  =  scp.interpolate.CubicSpline(points[:,0], points[:,1],extrapolate=True); #interpolacion de los puntos\n",
    "\n",
    "#graficacion\n",
    "plt.plot(t, spline(t), label=\"interpolation\");\n",
    "plt.plot(points[:,0], points[:,1], 'o', label=\"points\");\n"
   ]
  },
  {
   "cell_type": "code",
   "execution_count": null,
   "id": "e8b18332",
   "metadata": {
    "ExecuteTime": {
     "end_time": "2021-08-29T21:46:40.044226Z",
     "start_time": "2021-08-29T21:46:39.930086Z"
    },
    "slideshow": {
     "slide_type": "slide"
    }
   },
   "outputs": [],
   "source": [
    "rng = numpy.random.default_rng(); #numeros aleatorios para la adicion de ruido\n",
    "sig = numpy.repeat([0., 1., 0.], 100); #generacion de pulso cuadrado\n",
    "t = numpy.linspace(0, len(sig)); #dominio de la forma de onda\n",
    "\n",
    "sig += rng.standard_normal(len(sig))*0.05;  #adicion de ruido a la senal\n",
    "\n",
    "filtered = signal.cspline1d_eval(signal.cspline1d(sig), t); #interpolacion y evaluacion\n",
    "\n",
    "#graficacion\n",
    "plt.plot(sig, label=\"signal\")\n",
    "plt.plot(t, filtered, label=\"filtered\")"
   ]
  },
  {
   "cell_type": "markdown",
   "id": "165afd74",
   "metadata": {
    "ExecuteTime": {
     "end_time": "2021-08-19T12:22:18.312682Z",
     "start_time": "2021-08-19T12:22:18.310090Z"
    },
    "slideshow": {
     "slide_type": "slide"
    }
   },
   "source": [
    "**Búsquedad de picos**"
   ]
  },
  {
   "cell_type": "markdown",
   "id": "3f41bed2",
   "metadata": {},
   "source": [
    "La busquedad de picos puede es un herramienta importante para determinar puntos críticos de un set de datos. Imaginemos que tenemos un set 2D de datos y queremos encontrar el pico a lo largo de un corte de dicho set."
   ]
  },
  {
   "cell_type": "code",
   "execution_count": null,
   "id": "55581297",
   "metadata": {
    "ExecuteTime": {
     "end_time": "2021-08-29T21:46:46.758803Z",
     "start_time": "2021-08-29T21:46:46.543420Z"
    }
   },
   "outputs": [],
   "source": [
    "#funcion para generar datos\n",
    "def f(x, y):\n",
    "    return (1 - 9*x / 2 + x ** 5 + y ** 3) * numpy.exp(-x ** 2 -y ** 2)\n",
    "\n",
    "#funcion para generar ruido\n",
    "def fNoisy(x, y):\n",
    "    return (x*numpy.random.random() + y*numpy.random.random())\n",
    "\n",
    "\n",
    "# Make the X, Y meshgrid instead of np.tile\n",
    "xs = numpy.linspace(-2*numpy.pi, 2*numpy.pi, 200); #generacion de array para eje x\n",
    "ys = numpy.linspace(-2*numpy.pi, 2*numpy.pi, 200); #generacion de array para eje y\n",
    "X,Y = numpy.meshgrid(xs, ys); #grid\n",
    "\n",
    "data2D = f(X,Y); #datos sin ruido\n",
    "data2DNoisy = 1*numpy.random.rand(200,200);  #datos con ruido\n",
    "\n",
    "data1D = (data2DNoisy+data2D)[100,:]; #corte en los datos para hacer analisis\n",
    "\n",
    "\n",
    "fig, ax = plt.subplots(nrows=1, ncols=2, figsize=(10,4))\n",
    "\n",
    "ax[0].imshow(data2DNoisy+data2D)\n",
    "ax[0].hlines(100, 0, 200, colors='white')\n",
    "ax[0].set_xlim(0,200)\n",
    "ax[1].plot(data1D)"
   ]
  },
  {
   "cell_type": "code",
   "execution_count": null,
   "id": "3da63e53",
   "metadata": {
    "ExecuteTime": {
     "end_time": "2021-08-29T21:46:47.638184Z",
     "start_time": "2021-08-29T21:46:47.530720Z"
    },
    "slideshow": {
     "slide_type": "slide"
    }
   },
   "outputs": [],
   "source": [
    "peaks, properties = signal.find_peaks(data1D, prominence=(1, 4), width=1); #encuentra los picos dentro del set de datos\n",
    "\n",
    "plt.plot(data1D)\n",
    "plt.plot(peaks, data1D[peaks], \"x\", color='red')\n",
    "\n",
    "print(properties[\"prominences\"], properties[\"widths\"])\n",
    "\n",
    "plt.vlines(x=peaks, ymin=data1D[peaks] - properties[\"prominences\"],\n",
    "           ymax = data1D[peaks], color = \"C1\")\n",
    "plt.hlines(y=properties[\"width_heights\"], xmin=properties[\"left_ips\"],\n",
    "           xmax=properties[\"right_ips\"], color = \"C1\")"
   ]
  },
  {
   "cell_type": "markdown",
   "id": "fa8efd22",
   "metadata": {
    "ExecuteTime": {
     "end_time": "2021-08-19T12:22:34.391472Z",
     "start_time": "2021-08-19T12:22:34.386655Z"
    },
    "slideshow": {
     "slide_type": "slide"
    }
   },
   "source": [
    "**Convolución**"
   ]
  },
  {
   "cell_type": "markdown",
   "id": "d8a220d2",
   "metadata": {},
   "source": [
    "Las convoluciones son útiles para el cálculo de respuestas de dispositivos, estimación de correlaciones y análisis de sistemas usando matrices de transferencia. La señal o función resulante $g(t)$ vienen dadas por la expresión:\n",
    "\n",
    "$$g(t) = \\int_{a}^{b} f(t-\\tau) \\kappa(\\tau) d\\tau$$\n",
    "\n",
    "donde $f(t)$ es la función que de entrada y $\\kappa(\\tau)$ es lo que se conoce como el kernel de la convolución que por ejemplo contiene la función que contiene la información del comportamiento de respuesta. \n",
    "\n",
    "<p align=\"center\">\n",
    "<img src='https://upload.wikimedia.org/wikipedia/commons/6/6a/Convolution_of_box_signal_with_itself2.gif' width=\"500\" />\n",
    "</p>\n"
   ]
  },
  {
   "cell_type": "code",
   "execution_count": null,
   "id": "5d58191c",
   "metadata": {
    "ExecuteTime": {
     "end_time": "2021-08-29T21:46:50.672012Z",
     "start_time": "2021-08-29T21:46:50.548739Z"
    }
   },
   "outputs": [],
   "source": [
    "plt.plot(signal.convolve(sig, MorletSignal))"
   ]
  },
  {
   "cell_type": "markdown",
   "id": "8283eba1",
   "metadata": {
    "slideshow": {
     "slide_type": "slide"
    }
   },
   "source": [
    "**Filtros**"
   ]
  },
  {
   "cell_type": "markdown",
   "id": "4420b3ca",
   "metadata": {
    "ExecuteTime": {
     "end_time": "2021-08-19T15:16:20.994100Z",
     "start_time": "2021-08-19T15:16:20.885406Z"
    }
   },
   "source": [
    "Hay una infinidad de funciones o comando de filtros con distintas ventajas y desventajas en las que se consideran distintos métodos para tratar los valores extremos de la señal que se va a filtrar. Algunos de ellos introducen un desfase en la señal filtrada pero otros realizan un filtraje a 2 órdenes que permite eliminar este efecto. Escoger el filtro correcto depende de la aplicación y la naturaleza de los datos. La documentación de SciPy tiene varios ejemplos de utilidad. En esta sección solo tomamos en cuenta algunos de los filtros disponibles: `butter()`, `filtfilt()` y `lfilter()`. Del mismo modo se pueden construir filtros manualmente con análisis de Fourier."
   ]
  },
  {
   "cell_type": "code",
   "execution_count": null,
   "id": "52e7df92",
   "metadata": {
    "ExecuteTime": {
     "end_time": "2021-08-29T21:46:53.360636Z",
     "start_time": "2021-08-29T21:46:53.082810Z"
    }
   },
   "outputs": [],
   "source": [
    "sos = signal.butter(1, 4, 'lp', fs=200, output='sos'); #crea filtro paso bajo con frecuencias entre 1 y 4\n",
    "filtered = signal.sosfilt(sos, data1D); #filtraje de la senal usando el filtro paso bajo empleando cascada de secciones de segundo orden\n",
    "\n",
    "#graficando\n",
    "fig, (ax1, ax2) = plt.subplots(2, 1, sharex=True)\n",
    "\n",
    "ax1.plot(numpy.linspace(0,1,200), data1D)\n",
    "ax1.set_title('10 Hz and 20 Hz sinusoids')\n",
    "\n",
    "ax2.plot(numpy.linspace(0,1,200), filtered)\n",
    "ax2.set_title('After 15 Hz high-pass filter')\n",
    "\n",
    "\n",
    "plt.tight_layout()\n"
   ]
  },
  {
   "cell_type": "code",
   "execution_count": null,
   "id": "8293140f",
   "metadata": {
    "ExecuteTime": {
     "end_time": "2021-08-29T21:46:53.955017Z",
     "start_time": "2021-08-29T21:46:53.951749Z"
    },
    "slideshow": {
     "slide_type": "slide"
    }
   },
   "outputs": [],
   "source": [
    "b, a = signal.butter(3, 0.05); #filtro Butterworth\n",
    "\n",
    "zi = signal.lfilter_zi(b, a); #\n",
    "z, _ = signal.lfilter(b, a, data1D, zi=zi*data1D[0]); #senal filtrada por \n",
    "z2, _ = signal.lfilter(b, a, z, zi=zi*z[0]); #\n",
    "y = signal.filtfilt(b, a, data1D); #senal filtrada por filtfilt\n"
   ]
  },
  {
   "cell_type": "code",
   "execution_count": null,
   "id": "60a9e0d3",
   "metadata": {
    "ExecuteTime": {
     "end_time": "2021-08-29T21:46:54.726029Z",
     "start_time": "2021-08-29T21:46:54.616119Z"
    },
    "slideshow": {
     "slide_type": "slide"
    }
   },
   "outputs": [],
   "source": [
    "plt.figure\n",
    "plt.plot(numpy.linspace(0,1,200), data1D, 'b', alpha=0.75)\n",
    "plt.plot(numpy.linspace(0,1,200), z, 'r--',\n",
    "         numpy.linspace(0,1,200), z2,'r',\n",
    "         numpy.linspace(0,1,200), y, 'k')\n",
    "plt.legend(('noisy signal', 'lfilter, once', 'lfilter, twice',\n",
    "            'filtfilt'), loc='best')\n",
    "plt.grid(True)\n",
    "plt.show()"
   ]
  },
  {
   "cell_type": "markdown",
   "id": "1a365985",
   "metadata": {
    "slideshow": {
     "slide_type": "slide"
    }
   },
   "source": [
    "## Sub-módulo de optimización e interpolación"
   ]
  },
  {
   "cell_type": "markdown",
   "id": "3b9c2703",
   "metadata": {},
   "source": [
    "El sub-módulo de SciPy contiene funciones para encontrar mínimos y raíces de funciones, así como también hacer interpolaciones y ajustes de curvas."
   ]
  },
  {
   "cell_type": "code",
   "execution_count": null,
   "id": "580ecaa1",
   "metadata": {
    "ExecuteTime": {
     "end_time": "2021-08-29T21:46:57.124841Z",
     "start_time": "2021-08-29T21:46:57.122486Z"
    }
   },
   "outputs": [],
   "source": [
    "from scipy import optimize"
   ]
  },
  {
   "cell_type": "code",
   "execution_count": null,
   "id": "9d2ab07e",
   "metadata": {
    "ExecuteTime": {
     "end_time": "2021-08-29T21:46:58.215324Z",
     "start_time": "2021-08-29T21:46:58.083258Z"
    },
    "slideshow": {
     "slide_type": "slide"
    }
   },
   "outputs": [],
   "source": [
    "#funcion a buscar dominio y raices\n",
    "def f(x):\n",
    "    return -0.1*x**3 + -(11*x)**2 + 10*x**4\n",
    "\n",
    "x = numpy.linspace(-4, 4, 100); #dominio de la funcion\n",
    "plt.scatter(x, f(x));\n",
    "plt.hlines(-367.5161513277576, -4,4,color='red') #np.min()\n",
    "plt.hlines(-364.540295, -4,4,color='orange')"
   ]
  },
  {
   "cell_type": "markdown",
   "id": "5cbcd7e9",
   "metadata": {
    "slideshow": {
     "slide_type": "slide"
    }
   },
   "source": [
    "### Encontrar mínimos de una función"
   ]
  },
  {
   "cell_type": "code",
   "execution_count": null,
   "id": "79d8736a",
   "metadata": {
    "ExecuteTime": {
     "end_time": "2021-08-29T21:47:00.084027Z",
     "start_time": "2021-08-29T21:47:00.073466Z"
    }
   },
   "outputs": [],
   "source": [
    "x_min = optimize.fmin_bfgs(f,10) #calculo de minimos, que usa descenso de gradiente\n",
    "x_min, min(f(x))"
   ]
  },
  {
   "cell_type": "code",
   "execution_count": null,
   "id": "6bd9d20b",
   "metadata": {
    "ExecuteTime": {
     "end_time": "2021-08-29T21:47:00.955523Z",
     "start_time": "2021-08-29T21:47:00.851003Z"
    },
    "slideshow": {
     "slide_type": "slide"
    }
   },
   "outputs": [],
   "source": [
    "plt.scatter(x_min, f(x_min[0]))\n",
    "plt.hlines(min(f(x)), -4,4,color='red')\n",
    "plt.hlines(-364.540295, -4,4,color='orange')\n",
    "plt.ylim(-368, -364);"
   ]
  },
  {
   "cell_type": "markdown",
   "id": "f383a4a6",
   "metadata": {
    "ExecuteTime": {
     "end_time": "2021-08-18T15:36:56.173371Z",
     "start_time": "2021-08-18T15:36:56.169454Z"
    },
    "slideshow": {
     "slide_type": "-"
    }
   },
   "source": [
    "SciPy sub-módulo también cuenta con otros comando para encontar mínimos como lo son: `optimize.brent(<funcion>)` y `optimize.fminbound(<funcion>, <args>)`"
   ]
  },
  {
   "cell_type": "markdown",
   "id": "c7920da6",
   "metadata": {
    "slideshow": {
     "slide_type": "slide"
    }
   },
   "source": [
    "### Encontrar raíces de una función"
   ]
  },
  {
   "cell_type": "markdown",
   "id": "9065fdef",
   "metadata": {},
   "source": [
    "Dos de los comandos más empleados para encontrar raíces o soluciones de una función vectorizada son: `fsolve()` y `root()`"
   ]
  },
  {
   "cell_type": "code",
   "execution_count": null,
   "id": "98428437",
   "metadata": {
    "ExecuteTime": {
     "end_time": "2021-08-29T21:47:04.455131Z",
     "start_time": "2021-08-29T21:47:04.450201Z"
    }
   },
   "outputs": [],
   "source": [
    "initGuess = [-3,0,3]; #conjetura\n",
    "optimize.fsolve(f, initGuess) #calculo de raices"
   ]
  },
  {
   "cell_type": "code",
   "execution_count": null,
   "id": "7599de9e",
   "metadata": {
    "ExecuteTime": {
     "end_time": "2021-08-29T21:47:05.431925Z",
     "start_time": "2021-08-29T21:47:05.427885Z"
    },
    "slideshow": {
     "slide_type": "slide"
    }
   },
   "outputs": [],
   "source": [
    "optimize.root(f, initGuess) #calculo de raices"
   ]
  },
  {
   "cell_type": "markdown",
   "id": "ad934d8c",
   "metadata": {
    "slideshow": {
     "slide_type": "slide"
    }
   },
   "source": [
    "### Interpolación lineal"
   ]
  },
  {
   "cell_type": "markdown",
   "id": "8bbcbb04",
   "metadata": {},
   "source": [
    "Las interpolaciones en SciPy estan pensadas de manera que podamos determinar como una serie de puntos o datos se pueden comportar como una función específica asociada."
   ]
  },
  {
   "cell_type": "code",
   "execution_count": null,
   "id": "22078a95",
   "metadata": {
    "ExecuteTime": {
     "end_time": "2021-08-29T21:47:08.018846Z",
     "start_time": "2021-08-29T21:47:08.016362Z"
    }
   },
   "outputs": [],
   "source": [
    "from scipy import interpolate"
   ]
  },
  {
   "cell_type": "markdown",
   "id": "f1674ce3",
   "metadata": {
    "slideshow": {
     "slide_type": "slide"
    }
   },
   "source": [
    "Lo que intentaremos a continuación es usar una función conocida y hacer un array a partir de ella, luego añadiremos ruido almacenándola en otro array. Esto lo usaremos para realizar la interpolación lineal y cúbica con los datos ruidoso empleando un número menor de puntos.\n",
    "\n",
    "Notaremos que con una interpolación de menor orden la aproximación pierde calidad y se asemeja menos a la función esperada."
   ]
  },
  {
   "cell_type": "code",
   "execution_count": null,
   "id": "f99f6698",
   "metadata": {
    "ExecuteTime": {
     "end_time": "2021-08-29T21:47:37.266682Z",
     "start_time": "2021-08-29T21:47:37.254351Z"
    }
   },
   "outputs": [],
   "source": [
    "n = numpy.arange(0, 10); #puntos de interpolacion  \n",
    "x = numpy.linspace(0, 9, 100); #puntos de evaluacion de la funcion real y la ruidosa\n",
    "\n",
    "y_meas = numpy.sin(n) + 0.2 * numpy.random.randn(len(n)); #funcion ruidosa\n",
    "y_real = numpy.sin(x); #funcion original\n",
    "\n",
    "linear_interpolation = interpolate.interp1d(n, y_meas); #funcion de interpolacion lineal\n",
    "y_interp1 = linear_interpolation(x); #interpolando linearmente el dominio\n",
    "\n",
    "cubic_interpolation = interpolate.interp1d(n, y_meas, kind='cubic'); #funcion de interpolacion cubica\n",
    "y_interp2 = cubic_interpolation(x); #interpolando cubicamente el dominio"
   ]
  },
  {
   "cell_type": "markdown",
   "id": "40233eb8",
   "metadata": {
    "slideshow": {
     "slide_type": "slide"
    }
   },
   "source": [
    "Graficando..."
   ]
  },
  {
   "cell_type": "code",
   "execution_count": null,
   "id": "1ddc0f8b",
   "metadata": {
    "ExecuteTime": {
     "end_time": "2021-08-29T21:47:39.343007Z",
     "start_time": "2021-08-29T21:47:39.228108Z"
    }
   },
   "outputs": [],
   "source": [
    "fig, ax = plt.subplots(figsize=(10,4))\n",
    "\n",
    "ax.plot(n, y_meas, 'bs', label='Noisy function')\n",
    "ax.plot(x, y_real, 'k', lw=2, label='Expected function')\n",
    "ax.plot(x, y_interp1, 'r', label='Linear interpolation')\n",
    "ax.plot(x, y_interp2, 'g', label='Cubic interpolation')\n",
    "\n",
    "ax.legend(loc=3);"
   ]
  },
  {
   "cell_type": "markdown",
   "id": "11f64074",
   "metadata": {
    "slideshow": {
     "slide_type": "slide"
    }
   },
   "source": [
    "### Ajuste de curvas"
   ]
  },
  {
   "cell_type": "markdown",
   "id": "0b1c91d0",
   "metadata": {},
   "source": [
    "El ajuste de curvas es un aspecto crítico en física y en especial en física experimental, esto debido a que no siempre es possible confirmar el valor de los parámetros de unos datos empíricos a pesar de tener un modelo general que los describa. Aquí entra en juego los ajustes de curvas para así determinar con mayor precisión los valores de los parámetros libres del modelo considerado.\n",
    "\n",
    "Importamos la función de SciPy para el ajuste de curvas:"
   ]
  },
  {
   "cell_type": "code",
   "execution_count": null,
   "id": "39b5630b",
   "metadata": {
    "ExecuteTime": {
     "end_time": "2021-08-29T21:47:42.894387Z",
     "start_time": "2021-08-29T21:47:42.892178Z"
    }
   },
   "outputs": [],
   "source": [
    "from scipy.optimize import curve_fit"
   ]
  },
  {
   "cell_type": "markdown",
   "id": "15c889bd",
   "metadata": {
    "slideshow": {
     "slide_type": "slide"
    }
   },
   "source": [
    "Imaginemos que queremos determinar los parámetros de decaimiento de la desintegración gamma dada por un modelo sencillo:\n",
    "    \n",
    "$$ I(t) = I_o exp^{-\\gamma t} + I_c $$\n",
    "    \n",
    "donde $I_o$ es el valor inicial de decaimiento y $\\gamma$ es la tasa de decaimiento y $I_c$ es alguna constante de compensación experimental."
   ]
  },
  {
   "cell_type": "code",
   "execution_count": null,
   "id": "b1b1888d",
   "metadata": {
    "ExecuteTime": {
     "end_time": "2021-08-29T21:47:44.591236Z",
     "start_time": "2021-08-29T21:47:44.588173Z"
    }
   },
   "outputs": [],
   "source": [
    "#funcion de decaimiento exponencial\n",
    "def I(t, I_o, gamma, I_c):\n",
    "    return I_o * numpy.exp(-gamma * t) + I_c"
   ]
  },
  {
   "cell_type": "code",
   "execution_count": null,
   "id": "4aa8f104",
   "metadata": {
    "ExecuteTime": {
     "end_time": "2021-08-29T21:47:45.736628Z",
     "start_time": "2021-08-29T21:47:45.733899Z"
    }
   },
   "outputs": [],
   "source": [
    "len(t)"
   ]
  },
  {
   "cell_type": "code",
   "execution_count": null,
   "id": "85ce3310",
   "metadata": {
    "ExecuteTime": {
     "end_time": "2021-08-29T21:47:46.946137Z",
     "start_time": "2021-08-29T21:47:46.825430Z"
    },
    "slideshow": {
     "slide_type": "slide"
    }
   },
   "outputs": [],
   "source": [
    "t = numpy.linspace(0, 4, 50); \n",
    "I_o = 2.5; \n",
    "gamma = 1.3;\n",
    "I_c = 0.5;\n",
    "rng = numpy.random.default_rng(); #numero aleatorio para generar ruido ficticio \n",
    "\n",
    "y = I(t, I_o, gamma, I_c); #array de funcion de nuestro modelo\n",
    "y_noise = 0.2 * rng.normal(size=t.size); #array de ruido\n",
    "ydata = y + y_noise; #datos artificiales con ruido incluido\n",
    "\n",
    "plt.plot(t, ydata, color='blue', label='data');"
   ]
  },
  {
   "cell_type": "markdown",
   "id": "2e88df35",
   "metadata": {
    "slideshow": {
     "slide_type": "slide"
    }
   },
   "source": [
    "El ajuste de la curva usando el comando `curve_fit()` necesita de un objeto tipo función asociado a nuestro modelo, el dominio y los datos a los cuales se les aplicará el ajuste."
   ]
  },
  {
   "cell_type": "code",
   "execution_count": null,
   "id": "8039e0c5",
   "metadata": {
    "ExecuteTime": {
     "end_time": "2021-08-29T21:47:48.722196Z",
     "start_time": "2021-08-29T21:47:48.717189Z"
    }
   },
   "outputs": [],
   "source": [
    "popt, pcov = curve_fit(I, t, ydata); #haciendo el ajuste \n",
    "popt"
   ]
  },
  {
   "cell_type": "code",
   "execution_count": null,
   "id": "cc6a46c5",
   "metadata": {
    "ExecuteTime": {
     "end_time": "2021-08-29T21:47:49.674028Z",
     "start_time": "2021-08-29T21:47:49.541408Z"
    }
   },
   "outputs": [],
   "source": [
    "plt.plot(t, I(t, *popt), 'g--',\n",
    "         label=r'fit: $I_o$=%5.3f, $\\gamma$=%5.3f, $I_c$=%5.3f' % tuple(popt))\n",
    "plt.plot(t, ydata, color='blue', label='data');\n",
    "plt.legend() #mostrar cosas como R2!!!!!!!"
   ]
  },
  {
   "cell_type": "markdown",
   "id": "dfd7aec8",
   "metadata": {
    "slideshow": {
     "slide_type": "slide"
    }
   },
   "source": [
    "## Sub-módulo de estadística"
   ]
  },
  {
   "cell_type": "markdown",
   "id": "2300ecad",
   "metadata": {},
   "source": [
    "Este bootcamp tiene como uno de los tópicos fundamentales la enseñanza de los fundamentos básicos de Mecánica Estadística. Para ello, SciPy puede ser una buena herramienta para explorar los conceptos y métodos de esta rama. En la ese sub-módulo se puede encontrar una extensa librería de comandos de diferentes tipos de distribuciones, cálculos estadísticos y funciones de correlación como los puntos más relevantes."
   ]
  },
  {
   "cell_type": "code",
   "execution_count": null,
   "id": "3c050cc4",
   "metadata": {
    "ExecuteTime": {
     "end_time": "2021-08-29T21:47:52.650748Z",
     "start_time": "2021-08-29T21:47:52.648189Z"
    }
   },
   "outputs": [],
   "source": [
    "from scipy import stats"
   ]
  },
  {
   "cell_type": "markdown",
   "id": "47c123b7",
   "metadata": {
    "slideshow": {
     "slide_type": "slide"
    }
   },
   "source": [
    "### Números aleatorios"
   ]
  },
  {
   "cell_type": "markdown",
   "id": "dfa6af54",
   "metadata": {},
   "source": [
    "Algunas funciones de distribución"
   ]
  },
  {
   "cell_type": "code",
   "execution_count": null,
   "id": "9d0b2390",
   "metadata": {
    "ExecuteTime": {
     "end_time": "2021-08-29T21:47:55.725753Z",
     "start_time": "2021-08-29T21:47:55.596951Z"
    }
   },
   "outputs": [],
   "source": [
    "mean, var, skew, kurt = stats.uniform.stats(moments='mvsk'); #propiedades de distribucion uniforme\n",
    "\n",
    "r = stats.uniform.rvs(0,1, size=int(1e3)); #muestra de distribucion uniforme entre 0 y 1\n",
    "\n",
    "plt.hist(r, bins=30, color='orange', alpha=0.6); #histograma\n",
    "print (\"Mean: {0:.2f} \\nVariance: {1:.2f} \\nSkew: {2:.2f} \\nKurt: {3:.2f}\".format(mean, var, skew, kurt)) "
   ]
  },
  {
   "cell_type": "code",
   "execution_count": null,
   "id": "f79bc602",
   "metadata": {
    "ExecuteTime": {
     "end_time": "2021-08-29T21:48:05.867917Z",
     "start_time": "2021-08-29T21:47:56.455863Z"
    },
    "slideshow": {
     "slide_type": "slide"
    }
   },
   "outputs": [],
   "source": [
    "mu = 1; #media de la distribucion de Poisson\n",
    "mean, var, skew, kurt = stats.poisson.stats(mu, moments='mvsk'); #propiedades de distribucion uniforme\n",
    "\n",
    "r = stats.poisson.rvs(mu, size=int(1e8)); #muestra de distribucion de Poisson\n",
    "\n",
    "plt.hist(r, bins=30);\n",
    "print (\"Mean: {0:.2f} \\nVariance: {1:.2f} \\nSkew: {2:.2f} \\nKurt: {3:.2f}\".format(mean, var, skew, kurt)) "
   ]
  },
  {
   "cell_type": "code",
   "execution_count": null,
   "id": "209bae4c",
   "metadata": {
    "ExecuteTime": {
     "end_time": "2021-08-29T21:48:13.782484Z",
     "start_time": "2021-08-29T21:48:06.625701Z"
    },
    "slideshow": {
     "slide_type": "slide"
    }
   },
   "outputs": [],
   "source": [
    "lambda_ = 0.51; #parametros de forma\n",
    "\n",
    "mean, var, skew, kurt = stats.planck.stats(lambda_, moments='mvsk'); #propiedades de distribucion de Planck\n",
    "\n",
    "r = stats.planck.rvs(lambda_, size=int(1e8)); #muestra de distribucion de Planck\n",
    "\n",
    "plt.hist(r, bins=30);\n",
    "print (\"Mean: {0:.2f} \\nVariance: {1:.2f} \\nSkew: {2:.2f} \\nKurt: {3:.2f}\".format(mean, var, skew, kurt)) "
   ]
  },
  {
   "cell_type": "code",
   "execution_count": null,
   "id": "3fa5c230",
   "metadata": {
    "ExecuteTime": {
     "end_time": "2021-08-29T21:48:42.341355Z",
     "start_time": "2021-08-29T21:48:14.613480Z"
    },
    "slideshow": {
     "slide_type": "slide"
    }
   },
   "outputs": [],
   "source": [
    "lambda_, N = 1.4, 19; #parametros de forma\n",
    "\n",
    "mean, var, skew, kurt = stats.boltzmann.stats(lambda_, N, moments='mvsk');  #propiedades de distribucion de Boltzmann\n",
    "\n",
    "r = stats.boltzmann.rvs(lambda_, N, size=int(1e8)); #muestra de distribucion de Boltzmann\n",
    "\n",
    "plt.hist(r, bins=30);\n",
    "print (\"Mean: {0:.5f} \\nVariance: {1:.5E} \\nSkew: {1:.5E} \\nKurt: {1:.5E}\".format(mean, var, skew, kurt)) "
   ]
  },
  {
   "cell_type": "code",
   "execution_count": null,
   "id": "0965d3bf",
   "metadata": {
    "ExecuteTime": {
     "end_time": "2021-08-29T21:48:43.132805Z",
     "start_time": "2021-08-29T21:48:43.128596Z"
    }
   },
   "outputs": [],
   "source": [
    "mean, var, skew, kurt"
   ]
  },
  {
   "cell_type": "code",
   "execution_count": null,
   "id": "8b3ce779",
   "metadata": {
    "ExecuteTime": {
     "end_time": "2021-08-29T21:48:49.624277Z",
     "start_time": "2021-08-29T21:48:43.963472Z"
    },
    "slideshow": {
     "slide_type": "slide"
    }
   },
   "outputs": [],
   "source": [
    "n=5;\n",
    "p=0.4;\n",
    "\n",
    "mean, var, skew, kurt = stats.binom.stats(n, p, moments='mvsk');  #propiedades de distribucion binomial\n",
    "\n",
    "\n",
    "r = stats.binom.rvs(5,0.4, size=int(1e8)); #muestra de distribucion binomial\n",
    "\n",
    "plt.hist(r, bins=30);\n",
    "print (\"Mean: {0:.5f} \\nVariance: {1:.5E} \\nSkew: {1:.5E} \\nKurt: {1:.5E}\".format(mean, var, skew, kurt)) "
   ]
  },
  {
   "cell_type": "code",
   "execution_count": null,
   "id": "ce5dba9b",
   "metadata": {
    "ExecuteTime": {
     "end_time": "2021-08-29T21:48:50.357753Z",
     "start_time": "2021-08-29T21:48:50.355437Z"
    },
    "code_folding": [],
    "slideshow": {
     "slide_type": "notes"
    }
   },
   "outputs": [],
   "source": [
    "#ejemplos"
   ]
  },
  {
   "cell_type": "markdown",
   "id": "42d7bec2",
   "metadata": {
    "slideshow": {
     "slide_type": "slide"
    }
   },
   "source": [
    "### Funciones de distribución"
   ]
  },
  {
   "cell_type": "code",
   "execution_count": null,
   "id": "4a414e87",
   "metadata": {
    "ExecuteTime": {
     "end_time": "2021-08-18T21:16:46.536373Z",
     "start_time": "2021-08-18T21:16:46.099557Z"
    }
   },
   "outputs": [],
   "source": [
    "Y = stats.norm() #distribucion de probabilidad\n",
    "x = linspace(-5,5,100) #muestra\n",
    "\n",
    "fig, axes = plt.subplots(3,1, sharex=True)\n",
    "\n",
    "axes[0].plot(x, Y.pdf(x)) #plot de la funcion de distribucion de probabilidad\n",
    "\n",
    "axes[1].plot(x, Y.cdf(x)); #plot de la funcion de distribucion acumulada (CDF)\n",
    "\n",
    "# plot histogram of 1000 random realizations of the stochastic variable Y\n",
    "axes[2].hist(Y.rvs(size=1000), bins=50, alpha=0.4);"
   ]
  },
  {
   "cell_type": "code",
   "execution_count": null,
   "id": "dab90378",
   "metadata": {
    "ExecuteTime": {
     "end_time": "2021-08-18T21:16:32.819146Z",
     "start_time": "2021-08-18T21:16:32.815251Z"
    }
   },
   "outputs": [],
   "source": [
    "Y.mean(), Y.std(), Y.var() #propiedades de la distribucion"
   ]
  },
  {
   "cell_type": "markdown",
   "id": "34ade499",
   "metadata": {
    "slideshow": {
     "slide_type": "notes"
    }
   },
   "source": [
    "---"
   ]
  },
  {
   "cell_type": "markdown",
   "id": "44d23114",
   "metadata": {
    "slideshow": {
     "slide_type": "notes"
    }
   },
   "source": [
    "# Scikit-learn <a class=\"anchor\" id=\"Scikit-learn\"></a>"
   ]
  },
  {
   "cell_type": "markdown",
   "id": "085d2ff8",
   "metadata": {
    "slideshow": {
     "slide_type": "slide"
    }
   },
   "source": [
    "<p align=\"center\">\n",
    "<img src='https://scikit-learn.org/stable/_static/scikit-learn-logo-small.png' width=\"400\" />\n",
    "    \n",
    "Documentación: [https://scikit-learn.org/stable/user_guide.html](https://scikit-learn.org/stable/user_guide.html)\n",
    "</p>\n"
   ]
  },
  {
   "cell_type": "markdown",
   "id": "ca8fffa1",
   "metadata": {},
   "source": [
    "Modelos de ejemplo para unsupervised models\n",
    "\n",
    "[https://scikit-learn.org/stable/tutorial/statistical_inference/index.html](https://scikit-learn.org/stable/tutorial/statistical_inference/index.html)\n",
    "\n",
    "[https://scikit-learn.org/stable/tutorial/statistical_inference/unsupervised_learning.html](https://scikit-learn.org/stable/tutorial/statistical_inference/unsupervised_learning.html) \n",
    "\n",
    "[https://scikit-learn.org/stable/tutorial/statistical_inference/supervised_learning.html](https://scikit-learn.org/stable/tutorial/statistical_inference/supervised_learning.html)"
   ]
  },
  {
   "cell_type": "code",
   "execution_count": null,
   "id": "3e19fc70",
   "metadata": {
    "ExecuteTime": {
     "end_time": "2021-08-29T22:35:52.217926Z",
     "start_time": "2021-08-29T22:35:51.816025Z"
    }
   },
   "outputs": [],
   "source": [
    "from sklearn.decomposition import FastICA, PCA\n",
    "\n",
    "# Generate sample data\n",
    "np.random.seed(0)\n",
    "n_samples = 2000\n",
    "time = numpy.linspace(0, 8, n_samples)\n",
    "\n",
    "s1 = numpy.sin(2 * time)  # Signal 1 : sinusoidal signal\n",
    "s2 = numpy.sign(numpy.sin(3 * time))  # Signal 2 : square signal\n",
    "s3 = signal.sawtooth(2 * numpy.pi * time)  # Signal 3: saw tooth signal\n",
    "\n",
    "S = numpy.c_[s1, s2, s3]\n",
    "S += 0.2 * numpy.random.normal(size=S.shape)  # Add noise\n",
    "\n",
    "S /= S.std(axis=0)  # Standardize data\n",
    "# Mix data\n",
    "A = numpy.array([[1, 1, 1], [0.5, 2, 1.0], [1.5, 1.0, 2.0]])  # Mixing matrix\n",
    "X = numpy.dot(S, A.T)  # Generate observations\n",
    "\n",
    "# Compute ICA\n",
    "ica = FastICA(n_components=3)\n",
    "S_ = ica.fit_transform(X)  # Reconstruct signals\n",
    "A_ = ica.mixing_  # Get estimated mixing matrix\n",
    "\n",
    "# We can `prove` that the ICA model applies by reverting the unmixing.\n",
    "assert numpy.allclose(X, numpy.dot(S_, A_.T) + ica.mean_)\n",
    "\n",
    "# For comparison, compute PCA\n",
    "pca = PCA(n_components=3)\n",
    "H = pca.fit_transform(X)  # Reconstruct signals based on orthogonal components\n",
    "\n",
    "# #############################################################################\n",
    "# Plot results\n",
    "\n",
    "plt.figure()\n",
    "\n",
    "models = [X, S, S_, H]\n",
    "names = ['Observations (mixed signal)',\n",
    "         'True Sources',\n",
    "         'ICA recovered signals', \n",
    "         'PCA recovered signals']\n",
    "colors = ['red', 'steelblue', 'orange']\n",
    "\n",
    "for ii, (model, name) in enumerate(zip(models, names), 1):\n",
    "    plt.subplot(4, 1, ii)\n",
    "    plt.title(name)\n",
    "    for sig, color in zip(model.T, colors):\n",
    "        plt.plot(sig, color=color)\n",
    "\n",
    "plt.tight_layout()\n"
   ]
  },
  {
   "cell_type": "markdown",
   "id": "55e15204",
   "metadata": {
    "slideshow": {
     "slide_type": "notes"
    }
   },
   "source": [
    "---"
   ]
  },
  {
   "cell_type": "markdown",
   "id": "6d475446",
   "metadata": {
    "slideshow": {
     "slide_type": "notes"
    }
   },
   "source": [
    "# Pandas <a class=\"anchor\" id=\"Pandas\"></a>"
   ]
  },
  {
   "cell_type": "markdown",
   "id": "f0365418",
   "metadata": {
    "slideshow": {
     "slide_type": "slide"
    }
   },
   "source": [
    "<p align=\"center\">\n",
    "<img src='https://pandas.pydata.org/docs/_static/pandas.svg' width=\"700\" />\n",
    "</p>\n"
   ]
  },
  {
   "cell_type": "code",
   "execution_count": 1,
   "id": "590021ec",
   "metadata": {
    "ExecuteTime": {
     "end_time": "2021-08-30T14:33:25.507683Z",
     "start_time": "2021-08-30T14:33:25.027664Z"
    },
    "slideshow": {
     "slide_type": "-"
    }
   },
   "outputs": [
    {
     "data": {
      "text/html": [
       "<div>\n",
       "<style scoped>\n",
       "    .dataframe tbody tr th:only-of-type {\n",
       "        vertical-align: middle;\n",
       "    }\n",
       "\n",
       "    .dataframe tbody tr th {\n",
       "        vertical-align: top;\n",
       "    }\n",
       "\n",
       "    .dataframe thead th {\n",
       "        text-align: right;\n",
       "    }\n",
       "</style>\n",
       "<table border=\"1\" class=\"dataframe\">\n",
       "  <thead>\n",
       "    <tr style=\"text-align: right;\">\n",
       "      <th></th>\n",
       "      <th>Name</th>\n",
       "      <th>Age</th>\n",
       "      <th>Sex</th>\n",
       "    </tr>\n",
       "  </thead>\n",
       "  <tbody>\n",
       "    <tr>\n",
       "      <th>0</th>\n",
       "      <td>Braund, Mr. Owen Harris</td>\n",
       "      <td>22</td>\n",
       "      <td>male</td>\n",
       "    </tr>\n",
       "    <tr>\n",
       "      <th>1</th>\n",
       "      <td>Allen, Mr. William Henry</td>\n",
       "      <td>35</td>\n",
       "      <td>male</td>\n",
       "    </tr>\n",
       "    <tr>\n",
       "      <th>2</th>\n",
       "      <td>Bonnell, Miss. Elizabeth</td>\n",
       "      <td>58</td>\n",
       "      <td>female</td>\n",
       "    </tr>\n",
       "  </tbody>\n",
       "</table>\n",
       "</div>"
      ],
      "text/plain": [
       "                       Name  Age     Sex\n",
       "0   Braund, Mr. Owen Harris   22    male\n",
       "1  Allen, Mr. William Henry   35    male\n",
       "2  Bonnell, Miss. Elizabeth   58  female"
      ]
     },
     "execution_count": 1,
     "metadata": {},
     "output_type": "execute_result"
    }
   ],
   "source": [
    "# https://pandas.pydata.org/docs/\n",
    "import pandas as pd\n",
    "\n",
    "df = pd.DataFrame({\"Name\": [\"Braund, Mr. Owen Harris\",\n",
    "                             \"Allen, Mr. William Henry\",\n",
    "                             \"Bonnell, Miss. Elizabeth\",] ,\n",
    "                   \"Age\": [22, 35, 58] ,\n",
    "                   \"Sex\": [\"male\", \"male\", \"female\"] } )\n",
    "\n",
    "df"
   ]
  },
  {
   "cell_type": "markdown",
   "id": "6a926e47",
   "metadata": {},
   "source": [
    "También se pueden sacar algunas estadísticas del dataset:"
   ]
  },
  {
   "cell_type": "code",
   "execution_count": 2,
   "id": "c58fed5b",
   "metadata": {
    "ExecuteTime": {
     "end_time": "2021-08-30T14:35:43.936618Z",
     "start_time": "2021-08-30T14:35:43.912254Z"
    }
   },
   "outputs": [
    {
     "data": {
      "text/html": [
       "<div>\n",
       "<style scoped>\n",
       "    .dataframe tbody tr th:only-of-type {\n",
       "        vertical-align: middle;\n",
       "    }\n",
       "\n",
       "    .dataframe tbody tr th {\n",
       "        vertical-align: top;\n",
       "    }\n",
       "\n",
       "    .dataframe thead th {\n",
       "        text-align: right;\n",
       "    }\n",
       "</style>\n",
       "<table border=\"1\" class=\"dataframe\">\n",
       "  <thead>\n",
       "    <tr style=\"text-align: right;\">\n",
       "      <th></th>\n",
       "      <th>Age</th>\n",
       "    </tr>\n",
       "    <tr>\n",
       "      <th>Sex</th>\n",
       "      <th></th>\n",
       "    </tr>\n",
       "  </thead>\n",
       "  <tbody>\n",
       "    <tr>\n",
       "      <th>female</th>\n",
       "      <td>58.0</td>\n",
       "    </tr>\n",
       "    <tr>\n",
       "      <th>male</th>\n",
       "      <td>28.5</td>\n",
       "    </tr>\n",
       "  </tbody>\n",
       "</table>\n",
       "</div>"
      ],
      "text/plain": [
       "         Age\n",
       "Sex         \n",
       "female  58.0\n",
       "male    28.5"
      ]
     },
     "execution_count": 2,
     "metadata": {},
     "output_type": "execute_result"
    }
   ],
   "source": [
    "df.groupby(\"Sex\").mean()"
   ]
  },
  {
   "cell_type": "markdown",
   "id": "0b855eb3",
   "metadata": {
    "slideshow": {
     "slide_type": "slide"
    }
   },
   "source": [
    "<div class=\"alert alert-block alert-info\">\n",
    "\n",
    "**Nota** : También con pandas!\n",
    "    \n",
    "Con pandas también es posible importar datos desde un archivo `.csv` y directamente a un data frame de Python.\n",
    "    \n",
    "```python\n",
    "df = pd.read_csv(\"directorio/archivo.csv\")\n",
    "```\n",
    "</div>\n",
    " "
   ]
  },
  {
   "cell_type": "markdown",
   "id": "b9e1e05c",
   "metadata": {
    "slideshow": {
     "slide_type": "notes"
    }
   },
   "source": [
    "---"
   ]
  },
  {
   "cell_type": "markdown",
   "id": "b1ce3b4d",
   "metadata": {
    "slideshow": {
     "slide_type": "notes"
    }
   },
   "source": [
    "# Footnote"
   ]
  },
  {
   "cell_type": "code",
   "execution_count": null,
   "id": "331a990d",
   "metadata": {
    "ExecuteTime": {
     "end_time": "2021-08-17T14:35:51.549888Z",
     "start_time": "2021-08-17T14:35:51.543761Z"
    },
    "code_folding": [],
    "slideshow": {
     "slide_type": "notes"
    }
   },
   "outputs": [],
   "source": [
    "#libs summary\n",
    "import types\n",
    "def imports():\n",
    "    for name, val in globals().items():\n",
    "        if isinstance(val, types.ModuleType):\n",
    "            yield val.__name__\n",
    "list(imports())"
   ]
  },
  {
   "cell_type": "markdown",
   "id": "9ae8e24a",
   "metadata": {
    "slideshow": {
     "slide_type": "slide"
    }
   },
   "source": [
    "<font size=\"12\">Más referencias</font>\n",
    "\n",
    "<font size=\"4\">\n",
    "<br>\n",
    "    \n",
    "https://github.com/manuelmorgado/scientific-python-lectures\n",
    "\n",
    "<br>\n",
    "    \n",
    "https://betterprogramming.pub/numpy-illustrated-the-visual-guide-to-numpy-3b1d4976de1d\n",
    "\n",
    "<br>\n",
    "</font>\n",
    "\n",
    "    "
   ]
  }
 ],
 "metadata": {
  "celltoolbar": "Slideshow",
  "kernelspec": {
   "display_name": "Python 3.8.5 64-bit ('q-env': conda)",
   "language": "python",
   "name": "python38564bitqenvconda74bc4a68260349ca9180e878113d433c"
  },
  "language_info": {
   "codemirror_mode": {
    "name": "ipython",
    "version": 3
   },
   "file_extension": ".py",
   "mimetype": "text/x-python",
   "name": "python",
   "nbconvert_exporter": "python",
   "pygments_lexer": "ipython3",
   "version": "3.8.8"
  },
  "latex_envs": {
   "LaTeX_envs_menu_present": true,
   "autoclose": false,
   "autocomplete": true,
   "bibliofile": "biblio.bib",
   "cite_by": "apalike",
   "current_citInitial": 1,
   "eqLabelWithNumbers": true,
   "eqNumInitial": 1,
   "hotkeys": {
    "equation": "Ctrl-E",
    "itemize": "Ctrl-I"
   },
   "labels_anchors": false,
   "latex_user_defs": false,
   "report_style_numbering": false,
   "user_envs_cfg": false
  },
  "toc": {
   "base_numbering": 1,
   "nav_menu": {},
   "number_sections": true,
   "sideBar": true,
   "skip_h1_title": false,
   "title_cell": "Table of Contents",
   "title_sidebar": "Contents",
   "toc_cell": false,
   "toc_position": {
    "height": "calc(100% - 180px)",
    "left": "10px",
    "top": "150px",
    "width": "178.896px"
   },
   "toc_section_display": true,
   "toc_window_display": true
  },
  "varInspector": {
   "cols": {
    "lenName": 16,
    "lenType": 16,
    "lenVar": 40
   },
   "kernels_config": {
    "python": {
     "delete_cmd_postfix": "",
     "delete_cmd_prefix": "del ",
     "library": "var_list.py",
     "varRefreshCmd": "print(var_dic_list())"
    },
    "r": {
     "delete_cmd_postfix": ") ",
     "delete_cmd_prefix": "rm(",
     "library": "var_list.r",
     "varRefreshCmd": "cat(var_dic_list()) "
    }
   },
   "types_to_exclude": [
    "module",
    "function",
    "builtin_function_or_method",
    "instance",
    "_Feature"
   ],
   "window_display": false
  }
 },
 "nbformat": 4,
 "nbformat_minor": 5
}
