{
 "cells": [
  {
   "cell_type": "markdown",
   "metadata": {
    "ExecuteTime": {
     "end_time": "2021-08-30T14:23:27.978797Z",
     "start_time": "2021-08-30T14:23:27.970824Z"
    }
   },
   "source": [
    "<p align=\"center\">\n",
    "<img src='https://static.wixstatic.com/media/42c521_bbcac1847d1a46739c6ccb446a2be592~mv2.png/v1/fill/w_490,h_189,al_c,q_85,usm_0.66_1.00_0.01/20210730_website_header.webp' width=\"1000\" />\n",
    "</p>\n",
    "\n",
    "\n",
    "\\textbf{Instructor}:Karleyda Sandoval (kasc1309@gmail.com)\n",
    "\n",
    "\\textbf{Affiliation}: \n",
    "\n",
    "- \\textit{Oklahoma State University}\n",
    "\n",
    "\\textbf{Created}: Ago.30, 2021\n",
    "\n",
    "\\textbf{Last Modification}: Aug.30, 2021\n",
    "\n",
    "\\textbf{License}: http://www.apache.org/licenses/LICENSE-2.0"
   ]
  },
  {
   "cell_type": "markdown",
   "metadata": {},
   "source": [
    "# Piedra Papel o Tijeras"
   ]
  },
  {
   "cell_type": "markdown",
   "metadata": {},
   "source": [
    "Vamos a retar a la comptadora a jugar piedra, papel o tijeras:"
   ]
  },
  {
   "cell_type": "code",
   "execution_count": 8,
   "metadata": {},
   "outputs": [
    {
     "name": "stdout",
     "output_type": "stream",
     "text": [
      "Usuario=1\n",
      "Comp=2\n",
      "Resultado = Perdio\n"
     ]
    }
   ],
   "source": [
    "import numpy as np \n",
    "\n",
    "\n",
    "\"\"\" Piedra=0 \n",
    "    Papel=1 \n",
    "    Tijeras=2\"\"\" \n",
    "\n",
    "#Para jugar, escoje una mano y escribe el numero correspondiente\n",
    "Usuario=1 \n",
    "\n",
    "print(\"Usuario=%i\"%(Usuario))\n",
    "Comp=np.random.randint(0,3)\n",
    "print(\"Comp=%i\"%(Comp))\n",
    "\n",
    "if Usuario==Comp: \n",
    "    print(\"Resultado = Empate\") \n",
    "else:\n",
    "        if (Comp-Usuario)==1: \n",
    "            print(\"Resultado = Perdio\") \n",
    "        else: \n",
    "            print (\"Resultado = Gano\")"
   ]
  }
 ],
 "metadata": {
  "kernelspec": {
   "display_name": "Python 3",
   "language": "python",
   "name": "python3"
  },
  "language_info": {
   "codemirror_mode": {
    "name": "ipython",
    "version": 3
   },
   "file_extension": ".py",
   "mimetype": "text/x-python",
   "name": "python",
   "nbconvert_exporter": "python",
   "pygments_lexer": "ipython3",
   "version": "3.8.8"
  },
  "latex_envs": {
   "LaTeX_envs_menu_present": true,
   "autoclose": false,
   "autocomplete": true,
   "bibliofile": "biblio.bib",
   "cite_by": "apalike",
   "current_citInitial": 1,
   "eqLabelWithNumbers": true,
   "eqNumInitial": 1,
   "hotkeys": {
    "equation": "Ctrl-E",
    "itemize": "Ctrl-I"
   },
   "labels_anchors": false,
   "latex_user_defs": false,
   "report_style_numbering": false,
   "user_envs_cfg": false
  },
  "toc": {
   "base_numbering": 1,
   "nav_menu": {},
   "number_sections": true,
   "sideBar": true,
   "skip_h1_title": false,
   "title_cell": "Table of Contents",
   "title_sidebar": "Contents",
   "toc_cell": false,
   "toc_position": {},
   "toc_section_display": true,
   "toc_window_display": false
  },
  "varInspector": {
   "cols": {
    "lenName": 16,
    "lenType": 16,
    "lenVar": 40
   },
   "kernels_config": {
    "python": {
     "delete_cmd_postfix": "",
     "delete_cmd_prefix": "del ",
     "library": "var_list.py",
     "varRefreshCmd": "print(var_dic_list())"
    },
    "r": {
     "delete_cmd_postfix": ") ",
     "delete_cmd_prefix": "rm(",
     "library": "var_list.r",
     "varRefreshCmd": "cat(var_dic_list()) "
    }
   },
   "types_to_exclude": [
    "module",
    "function",
    "builtin_function_or_method",
    "instance",
    "_Feature"
   ],
   "window_display": false
  }
 },
 "nbformat": 4,
 "nbformat_minor": 2
}
