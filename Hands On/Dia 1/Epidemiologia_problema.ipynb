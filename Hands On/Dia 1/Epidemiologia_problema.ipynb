{
  "nbformat": 4,
  "nbformat_minor": 0,
  "metadata": {
    "colab": {
      "name": "Epidemiologia.ipynb",
      "provenance": [],
      "collapsed_sections": [],
      "include_colab_link": true
    },
    "kernelspec": {
      "name": "python3",
      "display_name": "Python 3"
    },
    "language_info": {
      "name": "python"
    }
  },
  "cells": [
    {
      "cell_type": "markdown",
      "metadata": {
        "id": "view-in-github",
        "colab_type": "text"
      },
      "source": [
        "<a href=\"https://colab.research.google.com/github/COFAlumni-USB/Physics-REBoot-Applied-Science-Bootcamp/blob/main/Hands%20On/Dia%201/Epidemiologia_problema.ipynb\" target=\"_parent\"><img src=\"https://colab.research.google.com/assets/colab-badge.svg\" alt=\"Open In Colab\"/></a>"
      ]
    },
    {
      "cell_type": "markdown",
      "metadata": {
        "id": "IVbHtTIFi9LT"
      },
      "source": [
        "#***Modelaje matemático de epidemias -***\n",
        "\n",
        "\n",
        "Actualmente nos encontramos en el 2021 despues de estar 18 meses confinados a estar en casa debido a una enfermedad extremadamente contagiosa llamada Covid19. \n",
        "\n",
        "A continuación se presenta el modelo matemático determinista **SIR** (**S**uceptible, **I**nfeccioso, **R**ecobrado)  desarrollado en el 1927 por W.O Kermack y A.G. McKendrick. \n",
        "\n",
        "Este modelo describe la evolución temporar de una enfermedad considerando solamente 3 posibles estados para los individuos:\n",
        "\n",
        "* **S(t)**: Representa a los individuos **Suceptibles**, es decir aquellas personas que pueden ser infectadas al entrar en contacto con la enfermedad.\n",
        "\n",
        "* **I(t)**: Representa a los individuos **Infectados**, es decir aquellas personas portadoras de la enfermedad y que pueden contagiar a personas del grupo **S**.\n",
        "\n",
        "* **R(t)**: Representa a los individuos **Recuperados**, es decir aquellas personas que ya fueron infectadas y se recuperaron, es decir, que no estan en condiciones de transmitir la enfermedad ni de enfermarse nuevamente.\n",
        "\n",
        "Las transiciones entre los grupos esta definidad de la siguiente manera:\n",
        "\n",
        "$ S \\rightarrow I \\rightarrow R$\n",
        "\n",
        "Una persona primero es suceptible a la enfermedad **S** luego se infecta **I** y por último, se recupera **R**.\n",
        "La tasa de transmisión esta determinada por la constante $\\beta$, la de recuperación por la constante $\\gamma$\n",
        " \n",
        "Dada una población fija, $ N = S(t)+ I(t) + R(t) $, las 3 ecuaciones diferenciales presentadas a continuación, describen el modelo:\n",
        "\n",
        "$ \\frac{dS}{dt}= -\\beta S(t)I(t) $\n",
        "\n",
        "$ \\frac{dI}{dt}= \\beta S(t)I(t) - \\gamma I(t)$\n",
        "\n",
        "$ \\frac{dR}{dt}=  \\gamma I(t)$\n",
        "\n",
        "En esta ocasión, nuestra tarea es:\n",
        "\n",
        "* Crear nuestra propia implementación en Python del *modelo SIR* usando las ecuaciones diferenciales presentadas anteriormente para un periodo de tiempo de 100 dias.\n",
        "* Ilustrar graficamente la evolucion de **S**, **I**, **T** en funcion del tiempo.\n",
        "\n",
        "Existen varias maneras de realizar esto. Por ahora, pondremos en práctica los conocimientos aprendidos en **introducción a python**, **pensamiento algorítmico** asi como las librerías **numpy** y **matplotlib** \n"
      ]
    },
    {
      "cell_type": "markdown",
      "metadata": {
        "id": "1r5C270ppPzS"
      },
      "source": [
        "Empezemos por cargar las librerías que usaremos:\n",
        "\n",
        "**Importa las siguientes librerias y funciones:**\n",
        "\n",
        "*   numpy como np\n",
        "*   la funcion odeint de scipy.integrate\n",
        "*   plt de matplotlib.pyplot como plt\n",
        "\n",
        "---\n",
        "\n"
      ]
    },
    {
      "cell_type": "code",
      "metadata": {
        "id": "GQCcnfjrpc5R"
      },
      "source": [
        "#Puedes ayudarte con los siguientes comandos\n",
        "import  as \n",
        "from  import "
      ],
      "execution_count": null,
      "outputs": []
    },
    {
      "cell_type": "markdown",
      "metadata": {
        "id": "-zZ-XXW5whuy"
      },
      "source": [
        "**Define los parametros iniciales:**\n",
        "\n",
        "*   Población total **N=1000**\n",
        "*   Numero inicial de personas infectadas **I0=1**\n",
        "*   Numero inicial de individuos recuperados **R0=0**\n",
        "*   Numero inicial de personas susceptibles **S0= N - I0 - R0**\n",
        "*   La tasa de contacto esta definida por la constante $\\beta=0.2$\n",
        "*   La tasa de recuperacion esta definida por la constante $\\gamma= 1./10$ "
      ]
    },
    {
      "cell_type": "code",
      "metadata": {
        "id": "tyevvSANPxrb"
      },
      "source": [
        "#Copia la informacion dada anteriormente en tu codigo, solo necesitas asignar un nombre a tu variable7parametro inicial\n",
        "N = \n",
        "# Se pueden escribir dos parametros iniciales separados por una coma al momento de definirlos.\n",
        "a, b = 1, 0\n",
        "# No olvides comentar tu codigo para saber que nombre representa que variable/parametro inicial\n"
      ],
      "execution_count": null,
      "outputs": []
    },
    {
      "cell_type": "markdown",
      "metadata": {
        "id": "MlWCzJysRooT"
      },
      "source": [
        "Ahora que definimos todos los parametros iniciales, es necesario definir t, para describir la evolución temporal de la funcion. En este caso utilizamos la funcion np.linspace(start, stop, num) que produce un array con **Num** cantidad de puntos entre los valores **start** y **stop**"
      ]
    },
    {
      "cell_type": "code",
      "metadata": {
        "id": "gxU_knRcxabz"
      },
      "source": [
        "# Los argumentos de la funcion linspace son (start, stop, num) donde esto se traduce como t inicial, t final, num de puntos\n",
        "# Para que sea entendible no solo para la computadora sino para personas, puedes definir variables con nombres por ejemplo\n",
        "# Crea un parametro llamado Total_dias y usalo en el campo stop.\n",
        "Total_dias = 160\n",
        "Num=  # si colocamos el mismo numero que en el parametro anterior tendremos un punto de datos cada dia\n",
        "# Inicializamos el array 1D:\n",
        "# recuerda sustituir los argumentos por tus variables.\n",
        "t = np.linspace(start, stop, num)"
      ],
      "execution_count": null,
      "outputs": []
    },
    {
      "cell_type": "markdown",
      "metadata": {
        "id": "VTvEucIs0et5"
      },
      "source": [
        "El modelo SIR esta representado por un sistema de ecuaciones diferenciales. Para resolverlo es necesario definir las funciones del modelo (como vector) y el vector de condiciones iniciales de la siguiente manera:\n",
        "\n",
        "![image.png](data:image/png;base64,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)\n"
      ]
    },
    {
      "cell_type": "code",
      "metadata": {
        "id": "gBTAU3wC0yPB"
      },
      "source": [
        "# En vez de resolver todo en el codigo definimos aparte la funcion Y\n",
        "def NombredeLaFuncion(y, t, constantes): #primero definimos la funcion a resolver y la variable independiente, luego colocamos las constantes\n",
        "    #Escribir los 3 vectores aqui \n",
        "    #El primero por Y= S, I, R con cada coordenada separada por una coma\n",
        "    #Las funciones cada una en una linea de codigo diferente\n",
        "    dZ/dt = a+b #ejemplo!\n",
        "    # utilizamos el comando return para que nos devuelva un vector con las funciones como coordenadas (separadas por una coma)\n",
        "    return dZdx, dZZdx, dZZZdx\n",
        "\n",
        "# Ahora hacemos un vector con las condiciones iniciales definidas al principio (este es el ultimo vector del bloque de texto, se define como el primero)\n",
        "y0="
      ],
      "execution_count": null,
      "outputs": []
    },
    {
      "cell_type": "markdown",
      "metadata": {
        "id": "CoeFdgGPxjOZ"
      },
      "source": [
        "Lo único que queda por hacer es resolver las ecuaciones diferenciales! pero esto lo podemos hacer automáticamente con la funcion ***scipy.integrate.odeint** or ***scipy.integrate.solve_ivp**, esta función ya la importamos al principio.\n",
        "\n"
      ]
    },
    {
      "cell_type": "code",
      "metadata": {
        "id": "xpaIPlV9yi2C"
      },
      "source": [
        "ret = odeint(NombredelaFuncion, VectorCondInciales Yo, t, args=(constantes separadas por coma))\n",
        "ret.T = Z, ZZ, ZZZ #Esto es solo un ejemplo, como dzdX es la derivada, llamamos Z a la solucion que es la integral. "
      ],
      "execution_count": null,
      "outputs": []
    },
    {
      "cell_type": "markdown",
      "metadata": {
        "id": "S72Tw0LTzEgK"
      },
      "source": [
        "Ahora hacemos los graficos y listo!"
      ]
    },
    {
      "cell_type": "code",
      "metadata": {
        "id": "yKJIheeYW-_y"
      },
      "source": [
        "fig = plt.figure(facecolor='w')\n",
        "ax = fig.add_subplot(111, facecolor='#dddddd', axisbelow=True)\n",
        "ax.plot(t, Z/1000, 'b', alpha=0.5, lw=2, label='Susceptible') #Variable Z vs t\n",
        "ax.plot(t, ZZ/1000, 'r', alpha=0.5, lw=2, label='Infected') # Variable ZZ vs t\n",
        "ax.plot(t, ZZZ/1000, 'g', alpha=0.5, lw=2, label='Recovered with immunity') #Variable ZZZ vs t\n",
        "ax.set_xlabel('Time /days') #titulo del eje X\n",
        "ax.set_ylabel('Number (1000s)') #titulo eje y\n",
        "ax.set_ylim(0,1.2) #min z max del eje Y\n",
        "ax.yaxis.set_tick_params(length=0)\n",
        "ax.xaxis.set_tick_params(length=0)\n",
        "ax.grid(b=True, which='major', c='w', lw=2, ls='-')\n",
        "legend = ax.legend()\n",
        "legend.get_frame().set_alpha(0.5)\n",
        "for spine in ('top', 'right', 'bottom', 'left'): \n",
        "    ax.spines[spine].set_visible(False)\n",
        "plt.show()"
      ],
      "execution_count": null,
      "outputs": []
    },
    {
      "cell_type": "markdown",
      "metadata": {
        "id": "MN9weQsyT4Nq"
      },
      "source": [
        "#***Modelaje matemático de epidemias -***\n",
        "\n",
        "El modelo SEIR divide la poblacion en 4 categorias en vez de 3. \n",
        "Las definiciones de los grupos **S**, **I**, **R** permanecen como en la sección anterior, la diferencia es que se introduce un nuevo grupo **E** el cual representa las personas expuestas, las cuales son portadores de la enfermedad pero no presentan sintomas. En este caso la transición de un grupo a otro esta dada por:\n",
        "\n",
        "$ S \\rightarrow E \\rightarrow I \\rightarrow R$\n",
        "\n",
        "Una persona primero es suceptible a la enfermedad **S** luego se contagia y se encuentra en periodo de incubacion asociado con su respectiva tasa $\\alpha$ pasando al grupo de personas expuestas **E** antes de infectarse y pasar al grupo **I** y por ultimo, se recupera **R**.\n",
        " \n",
        "Es posible agregar al modelo las tasas de natalidad $\\nu$ y mortalidad $\\mu$. En este caso, la población total **N** no es constante $ N(t) = S(t)+ E(t) + I(t) + R(t) $. En vez de tener 3 ecuaciones diferenciales tenemos 4:\n",
        "\n",
        "$ \\frac{dS}{dt}= -\\beta S(t)I(t) + \\nu N(t) - \\mu S(t) $\n",
        "\n",
        "$ \\frac{dE}{dt}= \\beta S(t)I(t) - \\alpha E(t) - \\mu E(t)$\n",
        "\n",
        "$ \\frac{dI}{dt}= \\alpha E(t) - \\gamma I(t) -\\mu I(t)$\n",
        "\n",
        "$ \\frac{dR}{dt}=  \\gamma I(t) - \\mu R(t)$\n",
        "\n",
        "En esta ocasión, nuestra tarea es:\n",
        "\n",
        "* Modificar la implementación en Python del *modelo SIER* usando las ecuaciones diferenciales presentadas anteriormente para un periodo de tiempo de 100 dias.\n",
        "* Ilustrar graficamente la evolución de **S**, **I**, **E**, **R**, **N** en funcion del tiempo.\n",
        "\n",
        "Procedemos de la misma manera que con el ejercicio anterior, ya que las funciones y librerías a ser utilizadas son las mismas:"
      ]
    },
    {
      "cell_type": "code",
      "metadata": {
        "id": "K97vbo7GafS2"
      },
      "source": [
        "import  as \n",
        "from  import "
      ],
      "execution_count": null,
      "outputs": []
    },
    {
      "cell_type": "markdown",
      "metadata": {
        "id": "x9AqT2KPReUp"
      },
      "source": [
        "Definimos las nuevas constantes presentes en el nuevo set de ecuaciones, las cuales son:\n",
        "\n",
        "tasa de infección $\\beta$ \n",
        "\n",
        "tasa de recuperación $\\gamma$\n",
        "\n",
        "tasa de mortalidad $ \\mu$\n",
        "\n",
        "tasa de natalidad $ \\nu $\n",
        "\n",
        "tasa de incubación $ \\alpha 1$\n",
        "\n",
        "Ademas, definimos una poblacion inicial de N=1000, asi como el numero inicial de personas expuestas **E0=0**, infectadas **I0=1** y recuperadas **R0=0**. Todas las demas personas pertenecen al grupo suceptible: **S0= N - E0 - I0 - R0**\n",
        "\n",
        "Finalmente, definimos el grid que en este caso es el eje X el cual consiste en los dias. "
      ]
    },
    {
      "cell_type": "code",
      "metadata": {
        "id": "XU2BfH05Rz_5"
      },
      "source": [
        "#Definimos las nuevas constantes:\n",
        "# tasa de infeccion, recuperacion, mortalidad, natalidad, incubacion\n",
        "#Condiciones iniciales:\n",
        "# Poblacion inicial N.\n",
        "# Numero inicial de personas infectadas y recuperadas , I0 and R0.\n",
        "# Todos los demas, S0, pertenecen a la poblacion suceptible.\n",
        "# Tiempo, puntos de datos (in days)\n",
        "Tamano_grid = \n",
        "Step = \n",
        "t = np.linspace(0, Tamano_grid, Step)"
      ],
      "execution_count": null,
      "outputs": []
    },
    {
      "cell_type": "markdown",
      "metadata": {
        "id": "5H8aJgmfS8Kn"
      },
      "source": [
        "Ahora, despues de definir todas las constantes y condiciones iniciales, construimos una función la cual engloba todas las ecuaciones diferenciales del modelo SEIR presentado anteriormente. En el argumento de la función se define primero y, t, luego todas las constantes). No importa que ahora sean 4 ecuaciones en vez de 3."
      ]
    },
    {
      "cell_type": "code",
      "metadata": {
        "id": "vUI9NSMkTnwx"
      },
      "source": [
        "#Definimos la funcion:\n",
        "# Ecuaciones diferenciales del Modelo SIER.\n",
        "def Nombre(y, t, constantes):\n",
        "    #funcion inicial Y= A, B, C\n",
        "    #dZ/dx\n",
        "    #dZZ/dx\n",
        "    #dZZZ/dx\n",
        "    #dZZZZ/dx\n",
        "    return dzdx, dZZdx, dZZZdx, dZZZZdx"
      ],
      "execution_count": null,
      "outputs": []
    },
    {
      "cell_type": "markdown",
      "metadata": {
        "id": "yalTNQIcToxm"
      },
      "source": [
        "Ahora construimos el vector de condiciones iniciales y \"llamamos\" a la función, cuyo resultado decidimos nombrar **ret** para obtener las integrales de **dSdt, dEdt, dIdt, dRdt** en función del tiempo"
      ]
    },
    {
      "cell_type": "code",
      "metadata": {
        "id": "VACurVPzUBP5"
      },
      "source": [
        " # Vector de conditiones iniciales\n",
        "y0 = Z0, ZZ0, ZZZ0, ZZZ0\n",
        "# Integracion de las ecuaciones SIER en funcion del tiempo.\n",
        "ret = odeint(Nombre, CIniciales, t, args=(constantes))\n",
        "ret.T = S, E, I, R "
      ],
      "execution_count": null,
      "outputs": []
    },
    {
      "cell_type": "markdown",
      "metadata": {
        "id": "yzrC1bzpUCkR"
      },
      "source": [
        "Finalmente hacemos el gráfico y listo!\n",
        "\n"
      ]
    },
    {
      "cell_type": "code",
      "metadata": {
        "id": "ApGmeeBoUpfo"
      },
      "source": [
        "# Plot de los 5 grupos en curvas separadas\n",
        "fig = plt.figure(facecolor='w')\n",
        "ax = fig.add_subplot(111, facecolor='#dddddd', axisbelow=True)\n",
        "ax.plot(t, S/1000, 'b', alpha=0.5, lw=2, label='Susceptible')\n",
        "ax.plot(t, E/1000, 'g', alpha=0.5, lw=2, label='Exposed')\n",
        "ax.plot(t, I/1000, 'r', alpha=0.5, lw=2, label='Infected')\n",
        "ax.plot(t, R/1000, 'm', alpha=0.5, lw=2, label='Recovered with immunity')\n",
        "ax.plot(t, (S+E+I+R)/1000, 'k', alpha=0.5, lw=2, label='Population')\n",
        "ax.set_xlabel('Time /days')\n",
        "ax.set_ylabel('Number (1000s)')\n",
        "ax.set_ylim(0,1.2)\n",
        "ax.yaxis.set_tick_params(length=0)\n",
        "ax.xaxis.set_tick_params(length=0)\n",
        "ax.grid(b=True, which='major', c='w', lw=2, ls='-')\n",
        "legend = ax.legend()\n",
        "legend.get_frame().set_alpha(0.5)\n",
        "for spine in ('top', 'right', 'bottom', 'left'):\n",
        "    ax.spines[spine].set_visible(False)\n",
        "plt.show()"
      ],
      "execution_count": null,
      "outputs": []
    }
  ]
}