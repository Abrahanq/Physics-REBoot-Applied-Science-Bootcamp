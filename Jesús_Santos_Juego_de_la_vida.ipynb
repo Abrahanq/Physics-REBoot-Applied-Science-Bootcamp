import numpy as np
import matplotlib.pyplot as plt
import matplotlib.animation as animation

gsize = 25                        #Definir el tamaño del grid
Grid  = np.zeros((gsize,gsize))   # Inicializamos el array 2D, que llamaremos grid:
rseed = np.random.seed            # Fijamos el seed para asi garantizar reproductibilidad de los resultados usando la funcion random seed


# Decidimos aleatoriamente inicializar algunos de los puntos del grid como 'vivos' con la funcion np.random.randint
#Generamos i, j  posiciones aleatorias desde 1 hasta low= tamaNo array, 
#En size definimos el tamaNo del subgrupo. Dos arrays de a.(tamaNoGridxTamanoGrid) entradas.

idx = np.random.randint(-2,gsize, size=(100,2)) # a y b pueden ser cualquier numero pero se necesita un numero minimo de celdas. 
#asignamos a estas posiciones aleatorias del array Grid[(X, Y)] el valor de 1. 

for k in range(100):
  Grid[(idx[k][0],idx[k][1])] = 1


plt.figure()
plt.imshow(Grid)


# Definir una funcion con la region entorno a la celda i,j
def region_local(array,i,j):
    region = [[Grid[i-1,j-1],Grid[i-1,j],Grid[i-1,j+1]],[Grid[i,j-1],Grid[i,j],Grid[i,j+1]],[Grid[i-1,j-1],Grid[i,j-1],Grid[i+1,j+1]]]
    return region



# Definir funcion logica celda
def logica_celda(array,i,j,valor):
    r = region_local(array,i,j) #r es el subarray correspondiente a la region que rodea a la celula
    N_vecinos = 0 #N es el numero total de vecinos vivos ya que los muertos son 0
    for k in range(0,8):
      N_vecinos = N_vecinos + r[k]
    if valor == 1 and N_vecinos >= 2 and N_vecinos <=3: #Si la celula esta viva (i,j) = 1 y  hay 2 o 3 vecinos vivos asignamos 1
        return 1

 #Si hay menos de 2 o mas de 3 vecinos vivos, asignamos 0
    if valor == 1 and N_vecinos < 2 and N_vecinos >3:
      return 0
 #Si la celula esta muerta (i,j) = 0 y hay 3 vecinos vivos asignamos 1
    if valor == 0 and N_vecinos ==3:
      return 1

    else:
        return 0

#def Ciclo(Grid):
#     for v in range(gsize):
#        for w in range(gsize):
#            Grid[v][w] = logica_celda(Grid,v,w)
#    return Grid

def Ciclo(Grid):
    Tamano_grid = Grid.shape[0]
    for i in range(Tamano_grid):
        for j in range(Tamano_grid):
            Grid[i][j] = logica_celda(Grid,i,j,Grid[i][j])
    return Grid




import matplotlib.animation as animation
from IPython.display import HTML, Image
def Animar2(i):
    Ciclo2(Grid2)
    ax1.clear()
    ax1.imshow(Grid2)
    plt.suptitle('Generación N. {}'.format(i))

#fig = plt.figure()
#ax1 = fig.add_subplot()
#animacion = animation.FuncAnimation(fig, Animar2, interval=200,frames= 300)

#animacion.save('Juego_de_la_vida(infinito).gif', writer='pillow', fps=60)
#Image(url='Juego_de_la_vida(infinito).gif')
